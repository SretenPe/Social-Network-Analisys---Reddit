{
 "cells": [
  {
   "cell_type": "code",
   "execution_count": 41,
   "metadata": {},
   "outputs": [],
   "source": [
    "import pandas as pd\n",
    "import glob\n",
    "import numpy as np\n",
    "import pickle"
   ]
  },
  {
   "cell_type": "code",
   "execution_count": 42,
   "metadata": {},
   "outputs": [],
   "source": [
    "#Read comments\n",
    "\n",
    "path =r\"reddit2008\\comments_2008_asm_v1.1\\comments_2008\"\n",
    "filenames = glob.glob(path + \"/*.csv\")\n",
    "\n",
    "li = []\n",
    "\n",
    "for filename in filenames:\n",
    "    df = pd.read_csv(filename, index_col=None, header=0, dtype={\"id\": \"string\", \"author\": \"string\",\"link_id\": \"string\",\"parent_id\": \"string\",\n",
    "                                                               \"parent_id\": \"string\",\"created_utc\": int, \"subreddit\": \"string\",\"subreddit_id\": \"string\",\n",
    "                                                               \"score\": int,\"distinguished\": \"string\",\"gilded\": int,\"controversiality\": int,  })\n",
    "    li.append(df)\n",
    "\n",
    "commentsData = pd.concat(li, axis=0, ignore_index=True)"
   ]
  },
  {
   "cell_type": "code",
   "execution_count": 16,
   "metadata": {},
   "outputs": [
    {
     "name": "stdout",
     "output_type": "stream",
     "text": [
      "         Unnamed: 0       id          author   link_id   parent_id  \\\n",
      "0                 0  c02s9s6           Haven  t3_648oh  t1_c02s9rv   \n",
      "1                 1  c02s9s7       [deleted]  t3_647ht  t1_c02s8c8   \n",
      "2                 2  c02s9s8        lilmiss2  t3_648oh  t1_c02s9rv   \n",
      "3                 3  c02s9s9       [deleted]  t3_648oo    t3_648oo   \n",
      "4                 4  c02s9sa       [deleted]  t3_648et    t3_648et   \n",
      "...             ...      ...             ...       ...         ...   \n",
      "7242866      789869  c064gsy    rhythmicidea  t3_7amdg  t1_c064gqo   \n",
      "7242867      789870  c064gsz  blackwhitegrey  t3_7ajij    t3_7ajij   \n",
      "7242868      789871  c064gt0      Drewster58  t3_7amg7    t3_7amg7   \n",
      "7242869      789872  c064gt1          eerock  t3_7akoc    t3_7akoc   \n",
      "7242870      789873  c064gt2          mycall  t3_7ajjm    t3_7ajjm   \n",
      "\n",
      "         created_utc   subreddit subreddit_id  score distinguished  gilded  \\\n",
      "0         1199145604  reddit.com         t5_6      4          <NA>       0   \n",
      "1         1199145619  reddit.com         t5_6      2          <NA>       0   \n",
      "2         1199145620  reddit.com         t5_6      2          <NA>       0   \n",
      "3         1199145623  reddit.com         t5_6      1          <NA>       0   \n",
      "4         1199145632  reddit.com         t5_6      1          <NA>       0   \n",
      "...              ...         ...          ...    ...           ...     ...   \n",
      "7242866   1225497583    politics     t5_2cneq      1          <NA>       0   \n",
      "7242867   1225497586  reddit.com         t5_6      0          <NA>       0   \n",
      "7242868   1225497590  reddit.com         t5_6      1          <NA>       0   \n",
      "7242869   1225497593    politics     t5_2cneq      2          <NA>       0   \n",
      "7242870   1225497599   AskReddit     t5_2qh1i      2          <NA>       0   \n",
      "\n",
      "         controversiality  \n",
      "0                       0  \n",
      "1                       0  \n",
      "2                       0  \n",
      "3                       0  \n",
      "4                       0  \n",
      "...                   ...  \n",
      "7242866                 0  \n",
      "7242867                 0  \n",
      "7242868                 0  \n",
      "7242869                 0  \n",
      "7242870                 0  \n",
      "\n",
      "[7242871 rows x 12 columns]\n"
     ]
    }
   ],
   "source": [
    "print(commentsData)"
   ]
  },
  {
   "cell_type": "code",
   "execution_count": 5,
   "metadata": {
    "scrolled": true
   },
   "outputs": [
    {
     "name": "stdout",
     "output_type": "stream",
     "text": [
      "         Unnamed: 0     id                                                url  \\\n",
      "0                 0  648oo  http://www.ignorancedenied.com/viewthread.php?...   \n",
      "1                 1  648op                http://www.flascience.org/wp/?p=363   \n",
      "2                 2  648oq  http://dlweinreb.wordpress.com/2007/12/31/obje...   \n",
      "3                 3  648or  http://hosted.ap.org/dynamic/stories/O/ODD_SHO...   \n",
      "4                 4  648os  http://www.sltrib.com/opinion/ci_7846101?sourc...   \n",
      "...             ...    ...                                                ...   \n",
      "2519848      282969  7amge  http://www.commondreams.org/headline/2008/10/30-9   \n",
      "2519849      282970  7amgf          http://big-boobs.lumrax.com/~Well_Endowed   \n",
      "2519850      282971  7amgg  http://computerblogshots.7dayshootout.com/comp...   \n",
      "2519851      282972  7amgh  http://www.comedy.com/blog/2008/10/30/the-13-w...   \n",
      "2519852      282973  7amgi               http://hot-anal-sex-com.blogspot.com   \n",
      "\n",
      "                                                 permalink        author  \\\n",
      "0        /r/reddit.com/comments/648oo/brain_disease_is_...         DITUS   \n",
      "1        /r/science/comments/648op/three_more_florida_c...        rmuser   \n",
      "2        /r/programming/comments/648oq/the_engineering_...     [deleted]   \n",
      "3        /r/reddit.com/comments/648or/nude_couple_grapp...         zorno   \n",
      "4        /r/politics/comments/648os/apparently_bushs_pr...        rmuser   \n",
      "...                                                    ...           ...   \n",
      "2519848  /r/BlackOps/comments/7amge/oil_company_bonanza...  violetplanet   \n",
      "2519849              /r/Boobies/comments/7amgf/butterface/     [deleted]   \n",
      "2519850  /r/reddit.com/comments/7amgg/3_tips_to_protect...    justblogit   \n",
      "2519851  /r/offbeat/comments/7amgh/the_13_worst_mythica...  guillebravo6   \n",
      "2519852  /r/reddit.com/comments/7amgi/porno_adult_movie...     qazamisan   \n",
      "\n",
      "         created_utc    subreddit subreddit_id  num_comments  score  over_18  \\\n",
      "0         1199145615   reddit.com         t5_6             1      0    False   \n",
      "1         1199145634      science      t5_mouw             5     20    False   \n",
      "2         1199145691  programming      t5_2fwo             0      0    False   \n",
      "3         1199145709   reddit.com         t5_6             1      3    False   \n",
      "4         1199145735     politics     t5_2cneq             2      0    False   \n",
      "...              ...          ...          ...           ...    ...      ...   \n",
      "2519848   1225497549     BlackOps     t5_2qhwv             0      1    False   \n",
      "2519849   1225497555      Boobies     t5_2qnoi             0      1     True   \n",
      "2519850   1225497564   reddit.com         t5_6             1      0    False   \n",
      "2519851   1225497573      offbeat     t5_2qh11             5      2    False   \n",
      "2519852   1225497591   reddit.com         t5_6             0      0    False   \n",
      "\n",
      "        distinguished                              domain  stickied  locked  \\\n",
      "0                <NA>                 ignorancedenied.com     False   False   \n",
      "1                <NA>                      flascience.org     False   False   \n",
      "2                <NA>             dlweinreb.wordpress.com     False   False   \n",
      "3                <NA>                       hosted.ap.org     False   False   \n",
      "4                <NA>                          sltrib.com     False   False   \n",
      "...               ...                                 ...       ...     ...   \n",
      "2519848          <NA>                    commondreams.org     False   False   \n",
      "2519849          <NA>                big-boobs.lumrax.com     False   False   \n",
      "2519850          <NA>  computerblogshots.7dayshootout.com     False   False   \n",
      "2519851          <NA>                          comedy.com     False   False   \n",
      "2519852          <NA>       hot-anal-sex-com.blogspot.com     False   False   \n",
      "\n",
      "         hide_score  \n",
      "0             False  \n",
      "1             False  \n",
      "2             False  \n",
      "3             False  \n",
      "4             False  \n",
      "...             ...  \n",
      "2519848       False  \n",
      "2519849       False  \n",
      "2519850       False  \n",
      "2519851       False  \n",
      "2519852       False  \n",
      "\n",
      "[2519853 rows x 16 columns]\n"
     ]
    }
   ],
   "source": [
    "#Read submissions\n",
    "\n",
    "path =r\"reddit2008\\submissions_2008_asm\"\n",
    "filenames = glob.glob(path + \"/*.csv\")\n",
    "\n",
    "li = []\n",
    "\n",
    "for filename in filenames:\n",
    "    df = pd.read_csv(filename, index_col=None, header=0, dtype={\"id\": \"string\", \"url\": \"string\",\"permalink\": \"string\",\"author\": \"string\",\n",
    "                                                               \"created_utc\": int, \"subreddit\": \"string\",\"subreddit_id\": \"string\",\"num_comments\": int,\n",
    "                                                               \"score\": int,\"gilded\": int,\"controversiality\": int, \"over_18\": bool,\"distinguished\": \"string\", \"domain\":\"string\" \n",
    "                                                               , \"stickied\":bool, \"locked\":bool, \"hide_score\":bool})\n",
    "    li.append(df)\n",
    "\n",
    "submissionsData = pd.concat(li, axis=0, ignore_index=True)\n",
    "print(submissionsData)"
   ]
  },
  {
   "cell_type": "code",
   "execution_count": 17,
   "metadata": {},
   "outputs": [
    {
     "name": "stdout",
     "output_type": "stream",
     "text": [
      "DataFrame dimensions  (2519853, 16)\n",
      "Rows  2519853\n",
      "Columns  16\n"
     ]
    }
   ],
   "source": [
    "# DataFrame dimensions, rows and columns\n",
    "print(\"DataFrame dimensions \", submissionsData.shape)\n",
    "\n",
    "# Broj redova i broj kolona se mogu dohvatiti kao komponente uređenog para\n",
    "print(\"Rows \", submissionsData.shape[0])\n",
    "print(\"Columns \", submissionsData.shape[1])"
   ]
  },
  {
   "cell_type": "code",
   "execution_count": 32,
   "metadata": {},
   "outputs": [],
   "source": [
    "submission_data_collumn_list = ['id', 'author', 'created_utc', 'subreddit', 'subreddit_id', 'num_comments', 'score', 'over_18', 'url']\n",
    "comments_data_collumn_list = ['id', 'author', 'link_id', 'parent_id','created_utc', 'subreddit', 'subreddit_id', 'score',]"
   ]
  },
  {
   "cell_type": "code",
   "execution_count": 35,
   "metadata": {},
   "outputs": [
    {
     "name": "stdout",
     "output_type": "stream",
     "text": [
      "            id        author  created_utc    subreddit subreddit_id  \\\n",
      "0        648oo         DITUS   1199145615   reddit.com         t5_6   \n",
      "1        648op        rmuser   1199145634      science      t5_mouw   \n",
      "2        648oq     [deleted]   1199145691  programming      t5_2fwo   \n",
      "3        648or         zorno   1199145709   reddit.com         t5_6   \n",
      "4        648os        rmuser   1199145735     politics     t5_2cneq   \n",
      "...        ...           ...          ...          ...          ...   \n",
      "2519848  7amge  violetplanet   1225497549     BlackOps     t5_2qhwv   \n",
      "2519849  7amgf     [deleted]   1225497555      Boobies     t5_2qnoi   \n",
      "2519850  7amgg    justblogit   1225497564   reddit.com         t5_6   \n",
      "2519851  7amgh  guillebravo6   1225497573      offbeat     t5_2qh11   \n",
      "2519852  7amgi     qazamisan   1225497591   reddit.com         t5_6   \n",
      "\n",
      "         num_comments  score  over_18  \\\n",
      "0                   1      0    False   \n",
      "1                   5     20    False   \n",
      "2                   0      0    False   \n",
      "3                   1      3    False   \n",
      "4                   2      0    False   \n",
      "...               ...    ...      ...   \n",
      "2519848             0      1    False   \n",
      "2519849             0      1     True   \n",
      "2519850             1      0    False   \n",
      "2519851             5      2    False   \n",
      "2519852             0      0    False   \n",
      "\n",
      "                                                       url  \n",
      "0        http://www.ignorancedenied.com/viewthread.php?...  \n",
      "1                      http://www.flascience.org/wp/?p=363  \n",
      "2        http://dlweinreb.wordpress.com/2007/12/31/obje...  \n",
      "3        http://hosted.ap.org/dynamic/stories/O/ODD_SHO...  \n",
      "4        http://www.sltrib.com/opinion/ci_7846101?sourc...  \n",
      "...                                                    ...  \n",
      "2519848  http://www.commondreams.org/headline/2008/10/30-9  \n",
      "2519849          http://big-boobs.lumrax.com/~Well_Endowed  \n",
      "2519850  http://computerblogshots.7dayshootout.com/comp...  \n",
      "2519851  http://www.comedy.com/blog/2008/10/30/the-13-w...  \n",
      "2519852               http://hot-anal-sex-com.blogspot.com  \n",
      "\n",
      "[2519853 rows x 9 columns]\n",
      "              id          author   link_id   parent_id  created_utc  \\\n",
      "0        c02s9s6           Haven  t3_648oh  t1_c02s9rv   1199145604   \n",
      "1        c02s9s7       [deleted]  t3_647ht  t1_c02s8c8   1199145619   \n",
      "2        c02s9s8        lilmiss2  t3_648oh  t1_c02s9rv   1199145620   \n",
      "3        c02s9s9       [deleted]  t3_648oo    t3_648oo   1199145623   \n",
      "4        c02s9sa       [deleted]  t3_648et    t3_648et   1199145632   \n",
      "...          ...             ...       ...         ...          ...   \n",
      "7242866  c064gsy    rhythmicidea  t3_7amdg  t1_c064gqo   1225497583   \n",
      "7242867  c064gsz  blackwhitegrey  t3_7ajij    t3_7ajij   1225497586   \n",
      "7242868  c064gt0      Drewster58  t3_7amg7    t3_7amg7   1225497590   \n",
      "7242869  c064gt1          eerock  t3_7akoc    t3_7akoc   1225497593   \n",
      "7242870  c064gt2          mycall  t3_7ajjm    t3_7ajjm   1225497599   \n",
      "\n",
      "          subreddit subreddit_id  score  \n",
      "0        reddit.com         t5_6      4  \n",
      "1        reddit.com         t5_6      2  \n",
      "2        reddit.com         t5_6      2  \n",
      "3        reddit.com         t5_6      1  \n",
      "4        reddit.com         t5_6      1  \n",
      "...             ...          ...    ...  \n",
      "7242866    politics     t5_2cneq      1  \n",
      "7242867  reddit.com         t5_6      0  \n",
      "7242868  reddit.com         t5_6      1  \n",
      "7242869    politics     t5_2cneq      2  \n",
      "7242870   AskReddit     t5_2qh1i      2  \n",
      "\n",
      "[7242871 rows x 8 columns]\n"
     ]
    }
   ],
   "source": [
    "submissions = submissionsData[submission_data_collumn_list]\n",
    "print(submissions)\n",
    "comments = commentsData[comments_data_collumn_list]\n",
    "print(comments)"
   ]
  },
  {
   "cell_type": "code",
   "execution_count": 36,
   "metadata": {},
   "outputs": [
    {
     "name": "stdout",
     "output_type": "stream",
     "text": [
      "---Submissions data---\n",
      "Id null values -  False\n",
      "Author null values -  False\n",
      "Created_UTC null values -  False\n",
      "Subreddit null values -  False\n",
      "Subreddit_ID null values -  False\n",
      "Num_Comments null values -  False\n",
      "Score null values -  False\n",
      "Over_18 null values -  False\n",
      "Id unique values only -  True\n",
      "\n",
      "---Comments data---\n",
      "Id null values -  True\n",
      "Author null values -  False\n",
      "Link_ID null values -  False\n",
      "Parent_ID null values -  False\n",
      "Created_UTC null values -  False\n",
      "Subreddit null values -  False\n",
      "Subreddit_ID null values -  False\n",
      "Score null values -  False\n",
      "Id unique values only -  True\n"
     ]
    }
   ],
   "source": [
    "#Check for null and unique values\n",
    "\n",
    "print(\"---Submissions data---\")\n",
    "print(\"Id null values - \" , submissions['id'].isnull().values.any())\n",
    "print(\"Author null values - \" , submissions['author'].isnull().values.any())\n",
    "print(\"Created_UTC null values - \" , submissions['created_utc'].isnull().values.any())\n",
    "print(\"Subreddit null values - \" , submissions['subreddit'].isnull().values.any())\n",
    "print(\"Subreddit_ID null values - \" , submissions['subreddit_id'].isnull().values.any())\n",
    "print(\"Num_Comments null values - \" , submissions['num_comments'].isnull().values.any())\n",
    "print(\"Score null values - \" , submissions['score'].isnull().values.any())\n",
    "print(\"Over_18 null values - \" , submissions['over_18'].isnull().values.any())\n",
    "\n",
    "print(\"Id unique values only - \",submissions['id'].is_unique)\n",
    "\n",
    "print(\"\\n---Comments data---\")\n",
    "print(\"Id null values - \" , comments['id'].isnull().values.any())\n",
    "print(\"Author null values - \" , comments['author'].isnull().values.any())\n",
    "print(\"Link_ID null values - \" , comments['link_id'].isnull().values.any())\n",
    "print(\"Parent_ID null values - \" , comments['parent_id'].isnull().values.any())\n",
    "print(\"Created_UTC null values - \" , comments['created_utc'].isnull().values.any())\n",
    "print(\"Subreddit null values - \" , comments['subreddit'].isnull().values.any())\n",
    "print(\"Subreddit_ID null values - \" , comments['subreddit_id'].isnull().values.any())\n",
    "print(\"Score null values - \" , comments['score'].isnull().values.any())\n",
    "\n",
    "print(\"Id unique values only - \", comments['id'].is_unique)"
   ]
  },
  {
   "cell_type": "code",
   "execution_count": 37,
   "metadata": {},
   "outputs": [
    {
     "name": "stdout",
     "output_type": "stream",
     "text": [
      "Number of rows before filtering:  7242871\n",
      "Number of rows after filtering:  7242870\n"
     ]
    }
   ],
   "source": [
    "#Filter rows with null id\n",
    "\n",
    "print(\"Number of rows before filtering: \", comments.shape[0])\n",
    "comments = comments.dropna(subset=['id'])\n",
    "print(\"Number of rows after filtering: \", comments.shape[0])\n"
   ]
  },
  {
   "cell_type": "code",
   "execution_count": 38,
   "metadata": {},
   "outputs": [
    {
     "name": "stdout",
     "output_type": "stream",
     "text": [
      "Submissions count before filtering:  2519853\n",
      "Submissions count after filtering:  2044810\n",
      "\n",
      "Comments count before filtering:  7242870\n",
      "Comments count after filtering:  4873689\n"
     ]
    }
   ],
   "source": [
    "#Filtering authors with id = [deleted]\n",
    "\n",
    "print(\"Submissions count before filtering: \", submissions.shape[0])\n",
    "submissions_deleted_authors_mask = submissions['author'] != \"[deleted]\"\n",
    "submissions_cleaned = submissions[submissions_deleted_authors_mask]\n",
    "print(\"Submissions count after filtering: \", submissions_cleaned.shape[0])\n",
    "\n",
    "print(\"\\nComments count before filtering: \", comments.shape[0])\n",
    "comments_deleted_authors_mask = comments['author'] != \"[deleted]\"\n",
    "comments_cleaned = comments[comments_deleted_authors_mask]\n",
    "print(\"Comments count after filtering: \", comments_cleaned.shape[0])\n",
    "\n"
   ]
  },
  {
   "cell_type": "code",
   "execution_count": 39,
   "metadata": {},
   "outputs": [
    {
     "name": "stdout",
     "output_type": "stream",
     "text": [
      "Submissions data types\n",
      "id              string\n",
      "author          string\n",
      "created_utc      int32\n",
      "subreddit       string\n",
      "subreddit_id    string\n",
      "num_comments     int32\n",
      "score            int32\n",
      "over_18           bool\n",
      "url             string\n",
      "dtype: object\n",
      "\n",
      "Comments data types\n",
      "id              string\n",
      "author          string\n",
      "link_id         string\n",
      "parent_id       string\n",
      "created_utc      int32\n",
      "subreddit       string\n",
      "subreddit_id    string\n",
      "score            int32\n",
      "dtype: object\n"
     ]
    }
   ],
   "source": [
    "print(\"Submissions data types\")\n",
    "print(submissions_cleaned.dtypes)\n",
    "\n",
    "print(\"\\nComments data types\")\n",
    "print(comments_cleaned.dtypes)\n"
   ]
  },
  {
   "cell_type": "code",
   "execution_count": 56,
   "metadata": {},
   "outputs": [],
   "source": [
    "#Save cleaned secondary datasets to file\n",
    "\n",
    "with open(\"reddit2008\\cleaned_data\\submissions_cleanead\", 'wb') as file:\n",
    "    pickle.dump(submissions_cleaned, file)\n",
    "with open(\"reddit2008\\cleaned_data\\comments_cleanead\", 'wb') as file:\n",
    "    pickle.dump(comments_cleaned, file)"
   ]
  },
  {
   "cell_type": "code",
   "execution_count": 40,
   "metadata": {},
   "outputs": [],
   "source": [
    "#Save cleaned secondary datasets with permalink to file\n",
    "\n",
    "with open(\"reddit2008\\cleaned_data\\submissions_cleaned2\", 'wb') as file:\n",
    "    pickle.dump(submissions_cleaned, file)\n",
    "with open(\"reddit2008\\cleaned_data\\comments_cleaned2\", 'wb') as file:\n",
    "    pickle.dump(comments_cleaned, file)"
   ]
  },
  {
   "cell_type": "code",
   "execution_count": 57,
   "metadata": {},
   "outputs": [
    {
     "name": "stdout",
     "output_type": "stream",
     "text": [
      "            id        author  created_utc   subreddit subreddit_id  \\\n",
      "0        648oo         DITUS   1199145615  reddit.com         t5_6   \n",
      "1        648op        rmuser   1199145634     science      t5_mouw   \n",
      "3        648or         zorno   1199145709  reddit.com         t5_6   \n",
      "4        648os        rmuser   1199145735    politics     t5_2cneq   \n",
      "5        648ot         zorno   1199145735  reddit.com         t5_6   \n",
      "...        ...           ...          ...         ...          ...   \n",
      "2519847  7amgd     hunkydude   1225497545      Health     t5_2qh9z   \n",
      "2519848  7amge  violetplanet   1225497549    BlackOps     t5_2qhwv   \n",
      "2519850  7amgg    justblogit   1225497564  reddit.com         t5_6   \n",
      "2519851  7amgh  guillebravo6   1225497573     offbeat     t5_2qh11   \n",
      "2519852  7amgi     qazamisan   1225497591  reddit.com         t5_6   \n",
      "\n",
      "         num_comments  score  over_18  \n",
      "0                   1      0    False  \n",
      "1                   5     20    False  \n",
      "3                   1      3    False  \n",
      "4                   2      0    False  \n",
      "5                   0      0    False  \n",
      "...               ...    ...      ...  \n",
      "2519847             0      0    False  \n",
      "2519848             0      1    False  \n",
      "2519850             1      0    False  \n",
      "2519851             5      2    False  \n",
      "2519852             0      0    False  \n",
      "\n",
      "[2044810 rows x 8 columns]\n",
      "              id               author   link_id   parent_id  created_utc  \\\n",
      "0        c02s9s6                Haven  t3_648oh  t1_c02s9rv   1199145604   \n",
      "2        c02s9s8             lilmiss2  t3_648oh  t1_c02s9rv   1199145620   \n",
      "6        c02s9sc  EverybodysAnAsshole  t3_648et  t1_c02s976   1199145644   \n",
      "7        c02s9sd             generalk  t3_647yd  t1_c02s8md   1199145647   \n",
      "8        c02s9se            seeker135  t3_6483n    t3_6483n   1199145650   \n",
      "...          ...                  ...       ...         ...          ...   \n",
      "7242866  c064gsy         rhythmicidea  t3_7amdg  t1_c064gqo   1225497583   \n",
      "7242867  c064gsz       blackwhitegrey  t3_7ajij    t3_7ajij   1225497586   \n",
      "7242868  c064gt0           Drewster58  t3_7amg7    t3_7amg7   1225497590   \n",
      "7242869  c064gt1               eerock  t3_7akoc    t3_7akoc   1225497593   \n",
      "7242870  c064gt2               mycall  t3_7ajjm    t3_7ajjm   1225497599   \n",
      "\n",
      "           subreddit subreddit_id  score  \n",
      "0         reddit.com         t5_6      4  \n",
      "2         reddit.com         t5_6      2  \n",
      "6         reddit.com         t5_6      2  \n",
      "7        programming      t5_2fwo     13  \n",
      "8           politics     t5_2cneq      4  \n",
      "...              ...          ...    ...  \n",
      "7242866     politics     t5_2cneq      1  \n",
      "7242867   reddit.com         t5_6      0  \n",
      "7242868   reddit.com         t5_6      1  \n",
      "7242869     politics     t5_2cneq      2  \n",
      "7242870    AskReddit     t5_2qh1i      2  \n",
      "\n",
      "[4873689 rows x 8 columns]\n"
     ]
    }
   ],
   "source": [
    "#Read saved secondary datasets\n",
    "\n",
    "with open(\"reddit2008\\cleaned_data\\submissions_cleanead\", 'rb') as file:\n",
    "    read_submissions = pickle.load(file)\n",
    "print(read_submissions)\n",
    "with open(\"reddit2008\\cleaned_data\\comments_cleanead\", 'rb') as file:\n",
    "    read_comments = pickle.load(file)\n",
    "print(read_comments)"
   ]
  },
  {
   "cell_type": "code",
   "execution_count": null,
   "metadata": {},
   "outputs": [],
   "source": []
  }
 ],
 "metadata": {
  "kernelspec": {
   "display_name": "Python 3 (ipykernel)",
   "language": "python",
   "name": "python3"
  },
  "language_info": {
   "codemirror_mode": {
    "name": "ipython",
    "version": 3
   },
   "file_extension": ".py",
   "mimetype": "text/x-python",
   "name": "python",
   "nbconvert_exporter": "python",
   "pygments_lexer": "ipython3",
   "version": "3.8.12"
  }
 },
 "nbformat": 4,
 "nbformat_minor": 4
}
