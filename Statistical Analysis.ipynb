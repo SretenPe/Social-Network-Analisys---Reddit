{
 "cells": [
  {
   "cell_type": "code",
   "execution_count": 37,
   "metadata": {},
   "outputs": [],
   "source": [
    "import pandas as pd\n",
    "import glob\n",
    "import numpy as np\n",
    "import pickle"
   ]
  },
  {
   "cell_type": "code",
   "execution_count": 38,
   "metadata": {},
   "outputs": [],
   "source": [
    "#1. Load cleaned submissions and comments data\n",
    "\n",
    "with open(\"cleaned_data\\submissions_cleanead\", 'rb') as file:\n",
    "    submissions = pickle.load(file)\n",
    "\n",
    "with open(\"cleaned_data\\comments_cleanead\", 'rb') as file:\n",
    "    comments = pickle.load(file)"
   ]
  },
  {
   "cell_type": "code",
   "execution_count": 42,
   "metadata": {},
   "outputs": [
    {
     "name": "stdout",
     "output_type": "stream",
     "text": [
      "            id        author  created_utc   subreddit subreddit_id  \\\n",
      "0        648oo         DITUS   1199145615  reddit.com         t5_6   \n",
      "1        648op        rmuser   1199145634     science      t5_mouw   \n",
      "3        648or         zorno   1199145709  reddit.com         t5_6   \n",
      "4        648os        rmuser   1199145735    politics     t5_2cneq   \n",
      "5        648ot         zorno   1199145735  reddit.com         t5_6   \n",
      "...        ...           ...          ...         ...          ...   \n",
      "2519847  7amgd     hunkydude   1225497545      Health     t5_2qh9z   \n",
      "2519848  7amge  violetplanet   1225497549    BlackOps     t5_2qhwv   \n",
      "2519850  7amgg    justblogit   1225497564  reddit.com         t5_6   \n",
      "2519851  7amgh  guillebravo6   1225497573     offbeat     t5_2qh11   \n",
      "2519852  7amgi     qazamisan   1225497591  reddit.com         t5_6   \n",
      "\n",
      "         num_comments  score  over_18  \n",
      "0                   1      0    False  \n",
      "1                   5     20    False  \n",
      "3                   1      3    False  \n",
      "4                   2      0    False  \n",
      "5                   0      0    False  \n",
      "...               ...    ...      ...  \n",
      "2519847             0      0    False  \n",
      "2519848             0      1    False  \n",
      "2519850             1      0    False  \n",
      "2519851             5      2    False  \n",
      "2519852             0      0    False  \n",
      "\n",
      "[2044810 rows x 8 columns]\n",
      "              id               author   link_id   parent_id  created_utc  \\\n",
      "0        c02s9s6                Haven  t3_648oh  t1_c02s9rv   1199145604   \n",
      "2        c02s9s8             lilmiss2  t3_648oh  t1_c02s9rv   1199145620   \n",
      "6        c02s9sc  EverybodysAnAsshole  t3_648et  t1_c02s976   1199145644   \n",
      "7        c02s9sd             generalk  t3_647yd  t1_c02s8md   1199145647   \n",
      "8        c02s9se            seeker135  t3_6483n    t3_6483n   1199145650   \n",
      "...          ...                  ...       ...         ...          ...   \n",
      "7242866  c064gsy         rhythmicidea  t3_7amdg  t1_c064gqo   1225497583   \n",
      "7242867  c064gsz       blackwhitegrey  t3_7ajij    t3_7ajij   1225497586   \n",
      "7242868  c064gt0           Drewster58  t3_7amg7    t3_7amg7   1225497590   \n",
      "7242869  c064gt1               eerock  t3_7akoc    t3_7akoc   1225497593   \n",
      "7242870  c064gt2               mycall  t3_7ajjm    t3_7ajjm   1225497599   \n",
      "\n",
      "           subreddit subreddit_id  score  \n",
      "0         reddit.com         t5_6      4  \n",
      "2         reddit.com         t5_6      2  \n",
      "6         reddit.com         t5_6      2  \n",
      "7        programming      t5_2fwo     13  \n",
      "8           politics     t5_2cneq      4  \n",
      "...              ...          ...    ...  \n",
      "7242866     politics     t5_2cneq      1  \n",
      "7242867   reddit.com         t5_6      0  \n",
      "7242868   reddit.com         t5_6      1  \n",
      "7242869     politics     t5_2cneq      2  \n",
      "7242870    AskReddit     t5_2qh1i      2  \n",
      "\n",
      "[4873689 rows x 8 columns]\n"
     ]
    }
   ],
   "source": [
    "print(submissions)\n",
    "print(comments)"
   ]
  },
  {
   "cell_type": "code",
   "execution_count": 56,
   "metadata": {},
   "outputs": [],
   "source": [
    "comments = comments.reset_index()\n",
    "submissions = submissions.reset_index()"
   ]
  },
  {
   "cell_type": "code",
   "execution_count": 76,
   "metadata": {},
   "outputs": [
    {
     "name": "stdout",
     "output_type": "stream",
     "text": [
      "Number of unique subreddits :  4359\n",
      "\n",
      "Top 10 subreddits with most comments:\n",
      " subreddit\n",
      "reddit.com     1143183\n",
      "politics        801396\n",
      "programming     345997\n",
      "pics            286192\n",
      "science         238291\n",
      "worldnews       228793\n",
      "WTF             187876\n",
      "funny           175547\n",
      "technology      149803\n",
      "AskReddit       139760\n",
      "dtype: int64\n",
      "\n",
      "Top 10 subreddits with most users:\n",
      " subreddit\n",
      "reddit.com       163779\n",
      "politics          38374\n",
      "pics              29753\n",
      "technology        28337\n",
      "funny             28186\n",
      "entertainment     26360\n",
      "science           25854\n",
      "programming       25819\n",
      "business          25253\n",
      "worldnews         24937\n",
      "Name: author, dtype: int64\n"
     ]
    }
   ],
   "source": [
    "#1.1 Number of unique subreddits, subreddits with most comments and most users\n",
    "\n",
    "submissions_unique_subreddits = submissions['subreddit'].unique()\n",
    "comments_unique_subreddits = comments['subreddit'].unique()\n",
    "\n",
    "unique_subreddits = list(set(np.concatenate([submissions_unique_subreddits, comments_unique_subreddits])))\n",
    "print('Number of unique subreddits : ', len(unique_subreddits))\n",
    "\n",
    "\n",
    "comments_by_subreddits = comments[['id', 'subreddit']].groupby('subreddit')\n",
    "comments_by_subreddits_aggregated = comments_by_subreddits.size().sort_values(axis=0, ascending=False)\n",
    "print('\\nTop 10 subreddits with most comments:\\n', comments_by_subreddits_aggregated.head(10))\n",
    "\n",
    "submission_authors_by_subreddits = submissions[['author', 'subreddit']]\n",
    "comments_authors_by_subreddits = comments[['author', 'subreddit']]\n",
    "aggregated_authors_by_subreddits = pd.concat([submission_authors_by_subreddits, comments_authors_by_subreddits])\n",
    "aggregated_authors_by_subreddits.drop_duplicates(subset=None, keep=\"first\", inplace=True)\n",
    "aggregated_authors_by_subreddits = aggregated_authors_by_subreddits.groupby('subreddit')\n",
    "authors_by_subreddits_sorted = aggregated_authors_by_subreddits['author'].size().sort_values(axis=0, ascending=False)\n",
    "print('\\nTop 10 subreddits with most users:\\n', authors_by_subreddits_sorted.head(10))"
   ]
  },
  {
   "cell_type": "code",
   "execution_count": 78,
   "metadata": {},
   "outputs": [
    {
     "name": "stdout",
     "output_type": "stream",
     "text": [
      "148.66506079376003\n"
     ]
    }
   ],
   "source": [
    "1.2\n",
    "total_authors_on_subreddits = authors_by_subreddits_sorted.sum()\n",
    "total_active_subbreddits = authors_by_subreddits_sorted.count()\n",
    "avg_number_of_active_authors_on_subreddits = total_authors_on_subreddits/total_active_subbreddits\n",
    "print(avg_number_of_active_authors_on_subreddits)"
   ]
  },
  {
   "cell_type": "code",
   "execution_count": 46,
   "metadata": {},
   "outputs": [],
   "source": [
    "#Save unique subreddits for graph nodes\n",
    "unique_subreddits_path =r\"cleaned_data\\unique_subreddits\"\n",
    "with open(unique_subreddits_path, 'wb') as file:\n",
    "    pickle.dump(unique_subreddits, file)"
   ]
  },
  {
   "cell_type": "code",
   "execution_count": 63,
   "metadata": {},
   "outputs": [
    {
     "name": "stdout",
     "output_type": "stream",
     "text": [
      "\n",
      "Top 10 Users with most submissions:\n",
      " author\n",
      "gst                 18870\n",
      "qgyh2               12238\n",
      "rmuser               9822\n",
      "twolf1               8597\n",
      "IAmperfectlyCalm     8308\n",
      "qazamisan            6927\n",
      "charlatan            5998\n",
      "igeldard             5373\n",
      "noname99             5334\n",
      "democracy101         5332\n",
      "dtype: int64\n",
      "\n",
      "Top 10 Users with most comments:\n",
      " author\n",
      "NoMoreNicksLeft     13480\n",
      "malcontent          12159\n",
      "matts2              11672\n",
      "mexicodoug           9169\n",
      "7oby                 9161\n",
      "aletoledo            8085\n",
      "mutatron             7771\n",
      "otakucode            7759\n",
      "redditcensoredme     7468\n",
      "h0dg3s               7439\n",
      "dtype: int64\n"
     ]
    }
   ],
   "source": [
    "#1.3 Users with most submissions and most comments\n",
    "\n",
    "submissions_by_authors = submissions[['id', 'author']].groupby('author')\n",
    "submissions_by_authors_aggregated = submissions_by_authors.size().sort_values(axis=0, ascending=False)\n",
    "submissions_by_authors_aggregated.reset_index().rename(columns={\"id\":\"submissions_count\"}, inplace=True)\n",
    "print('\\nTop 10 Users with most submissions:\\n', submissions_by_authors_aggregated.head(10))\n",
    "\n",
    "comments_by_authors = comments[['id', 'author']].groupby('author')\n",
    "comments_by_authors_aggregated = comments_by_authors.size().sort_values(axis=0, ascending=False)\n",
    "comments_by_authors_aggregated.reset_index().rename(columns={'id':'comments_count'}, inplace=True)\n",
    "print('\\nTop 10 Users with most comments:\\n', comments_by_authors_aggregated.head(10))\n"
   ]
  },
  {
   "cell_type": "code",
   "execution_count": 64,
   "metadata": {},
   "outputs": [
    {
     "name": "stdout",
     "output_type": "stream",
     "text": [
      "\n",
      "Top 10 users active on most subreddits:\n",
      " author\n",
      "MrKlaatu          181\n",
      "Escafane          154\n",
      "omfgninja         122\n",
      "scientologist2    111\n",
      "codepoet          111\n",
      "turkourjurbs      110\n",
      "b34nz             107\n",
      "Sylveran-01       107\n",
      "krugerlive        106\n",
      "tuoder            103\n",
      "Name: subreddit, dtype: int64\n"
     ]
    }
   ],
   "source": [
    "#1.4 Users active on most subreddits\n",
    "\n",
    "aggregated_authors_by_subreddits = pd.concat([submission_authors_by_subreddits,comments_authors_by_subreddits])\n",
    "aggregated_authors_by_subreddits.drop_duplicates(subset=None, keep=\"first\", inplace=True)\n",
    "aggregated_authors_by_subreddits = aggregated_authors_by_subreddits.groupby('author')\n",
    "authors_by_subreddits_sorted = aggregated_authors_by_subreddits['subreddit'].agg(np.size).sort_values(axis=0, ascending=False)\n",
    "print('\\nTop 10 users active on most subreddits:\\n', authors_by_subreddits_sorted.head(10))"
   ]
  },
  {
   "cell_type": "code",
   "execution_count": 72,
   "metadata": {},
   "outputs": [
    {
     "name": "stdout",
     "output_type": "stream",
     "text": [
      "                        0_x   0_y\n",
      "author                           \n",
      "gst                   18870   300\n",
      "qgyh2                 12238  2618\n",
      "rmuser                 9822  3293\n",
      "twolf1                 8597   266\n",
      "IAmperfectlyCalm       8308    40\n",
      "charlatan              5998  1159\n",
      "igeldard               5373   568\n",
      "noname99               5334   398\n",
      "democracy101           5332   138\n",
      "georgewashingtonblog   5299   911\n",
      "\n",
      "           0_x       0_y\n",
      "0_x  1.000000  0.150412\n",
      "0_y  0.150412  1.000000\n"
     ]
    }
   ],
   "source": [
    "#1.5 Pearson corelation coefficient\n",
    "df1 = submissions_by_authors_aggregated.to_frame()\n",
    "df2 = comments_by_authors_aggregated.to_frame()\n",
    "author_info = pd.merge(df1,df2, on='author')\n",
    "print(author_info.head(10))\n",
    "pearson_coef = author_info.corr(method='pearson')\n",
    "print('\\n',pearson_coef)"
   ]
  },
  {
   "cell_type": "code",
   "execution_count": 110,
   "metadata": {},
   "outputs": [
    {
     "name": "stdout",
     "output_type": "stream",
     "text": [
      "                  submissions_count  comments_count\n",
      "author                                             \n",
      "gst                           18870             300\n",
      "qgyh2                         12238            2618\n",
      "rmuser                         9822            3293\n",
      "twolf1                         8597             266\n",
      "IAmperfectlyCalm               8308              40\n",
      "...                             ...             ...\n",
      "ghandi                            1               1\n",
      "ghais                             1               4\n",
      "ggruschow                         1               7\n",
      "gf3                               1               1\n",
      "gezas                             1             120\n",
      "\n",
      "[47279 rows x 2 columns]\n",
      "                  submissions_count  comments_count  submissions_count_rank  \\\n",
      "author                                                                        \n",
      "gst                           18870             300                     1.0   \n",
      "qgyh2                         12238            2618                     2.0   \n",
      "rmuser                         9822            3293                     3.0   \n",
      "twolf1                         8597             266                     4.0   \n",
      "IAmperfectlyCalm               8308              40                     5.0   \n",
      "...                             ...             ...                     ...   \n",
      "ashayh                            1              27                 40369.5   \n",
      "ashakouri1                        1               1                 40369.5   \n",
      "asfhgfa                           1               6                 40369.5   \n",
      "ashitsuki                         1               2                 40369.5   \n",
      "gezas                             1             120                 40369.5   \n",
      "\n",
      "                  comments_count_rank  \n",
      "author                                 \n",
      "gst                            3121.5  \n",
      "qgyh2                           149.0  \n",
      "rmuser                           92.0  \n",
      "twolf1                         3468.0  \n",
      "IAmperfectlyCalm              11128.5  \n",
      "...                               ...  \n",
      "ashayh                        13164.5  \n",
      "ashakouri1                    40084.5  \n",
      "asfhgfa                       21996.5  \n",
      "ashitsuki                     30564.0  \n",
      "gezas                          6164.0  \n",
      "\n",
      "[47279 rows x 4 columns]\n"
     ]
    }
   ],
   "source": [
    "df = author_info[['submissions_count', 'comments_count']]\n",
    "print(df)\n",
    "df['submissions_count_rank'] = author_info['submissions_count'].rank(ascending=False) \n",
    "df['comments_count_rank'] = author_info['comments_count'].rank(ascending=False) \n",
    "df_sorted = df.sort_values(['submissions_count_rank'], ascending=True)\n",
    "print(df_sorted)"
   ]
  },
  {
   "cell_type": "code",
   "execution_count": 130,
   "metadata": {},
   "outputs": [],
   "source": [
    "import matplotlib.pyplot as plt\n",
    "\n",
    "def plot_rank_correlation(x_rank, y_rank, x_label, y_label):                                                    \n",
    "\n",
    "    plt.figure(1)   \n",
    "\n",
    "    # prep axes   \n",
    "    plt.xlabel(x_label)                                                                                                            \n",
    "    plt.xscale('linear')                                                                                                                \n",
    "    plt.xlim(1, max(x_rank))  \n",
    "\n",
    "    plt.ylabel(y_label)                                                                                                          \n",
    "    plt.yscale('linear')                                                                                                                \n",
    "    plt.ylim(1, max(y_rank))                                                                                                             \n",
    "                                                                                                                                                                                                    \n",
    "    plt.scatter(x_rank, y_rank, marker='.')                                                                                                    \n",
    "    plt.show()"
   ]
  },
  {
   "cell_type": "code",
   "execution_count": 131,
   "metadata": {},
   "outputs": [
    {
     "data": {
      "image/png": "[encoded data removed]",
      "text/plain": [
       "<Figure size 432x288 with 1 Axes>"
      ]
     },
     "metadata": {
      "needs_background": "light"
     },
     "output_type": "display_data"
    }
   ],
   "source": [
    "plot_rank_correlation(df['submissions_count_rank'], df['comments_count_rank'], 'submissions_count', 'comments_count')"
   ]
  },
  {
   "cell_type": "code",
   "execution_count": 84,
   "metadata": {},
   "outputs": [
    {
     "name": "stdout",
     "output_type": "stream",
     "text": [
      "            id  num_comments  over_18   subreddit\n",
      "1470752  6nz1k         33329    False     science\n",
      "2428144  78n1v          3657    False         WTF\n",
      "135995   675oj          2039    False  reddit.com\n",
      "326364   7beo2          1934    False    politics\n",
      "1743984  6tvaz          1425    False    politics\n",
      "1985077  6z2e2          1425    False  reddit.com\n",
      "1072149  6fccd          1411    False  reddit.com\n",
      "137102   676ja          1377    False  reddit.com\n",
      "2224242  7488a          1346    False    politics\n",
      "1087277  6fo4i          1342    False  reddit.com\n"
     ]
    }
   ],
   "source": [
    "#1.6 Submissions with most comments\n",
    "\n",
    "with open(\"cleaned_data\\submissions_cleanead\", 'rb') as file:\n",
    "    submissions2 = pickle.load(file)\n",
    "\n",
    "with open(\"cleaned_data\\comments_cleanead\", 'rb') as file:\n",
    "    comments2 = pickle.load(file)\n",
    "submissions_with_num_of_comments = submissions[['id','num_comments', 'over_18', 'subreddit', 'permalink']].sort_values(by=['num_comments'], ascending=False)\n",
    "print(submissions_with_num_of_comments.head(10))"
   ]
  },
  {
   "cell_type": "code",
   "execution_count": 25,
   "metadata": {},
   "outputs": [],
   "source": [
    "with open(\"cleaned_data\\submissions_cleaned2\", 'rb') as file:\n",
    "    submissions2 = pickle.load(file)\n",
    "\n",
    "with open(\"cleaned_data\\comments_cleaned2\", 'rb') as file:\n",
    "    comments2 = pickle.load(file)"
   ]
  },
  {
   "cell_type": "code",
   "execution_count": 26,
   "metadata": {},
   "outputs": [
    {
     "name": "stdout",
     "output_type": "stream",
     "text": [
      "http://hundredpushups.com   \n",
      "http://www.time.com/time/nation/article/0,8599,1822455,00.html   \n",
      "https://www.reddit.com/r/reddit.com/comments/675oj/post_the_funniest_joke_you_know_upmod_the_best_one/   \n",
      "https://www.reddit.com/r/politics/comments/7beo2/obama_wins_the_presidency/   \n",
      "https://www.reddit.com/r/politics/comments/6tvaz/im_a_bleedingheart_liberal_but_am_i_the_only_one/   \n",
      "http://www.nytimes.com/reuters/us/international-usa-politics-palin.html?_r=1&amp;oref=slogin   \n",
      "http://www.london-airport-shuttle.co.uk   \n",
      "http://www.washingtonpost.com/wp-dyn/content/custom/2006/02/02/CU2006020201345.html   \n",
      "http://www.msnbc.msn.com/id/26884523/?   \n",
      "https://www.reddit.com/r/reddit.com/comments/6fo4i/ask_a_muslim/   \n"
     ]
    }
   ],
   "source": [
    "submissions_with_num_of_comments2 = submissions2[['id','num_comments', 'over_18', 'subreddit', 'url']].sort_values(by=['num_comments'], ascending=False)\n",
    "for permalink in submissions_with_num_of_comments2['url'].head(10):\n",
    "      print(permalink, \"  \")"
   ]
  },
  {
   "cell_type": "code",
   "execution_count": null,
   "metadata": {},
   "outputs": [],
   "source": []
  }
 ],
 "metadata": {
  "kernelspec": {
   "display_name": "Python 3 (ipykernel)",
   "language": "python",
   "name": "python3"
  },
  "language_info": {
   "codemirror_mode": {
    "name": "ipython",
    "version": 3
   },
   "file_extension": ".py",
   "mimetype": "text/x-python",
   "name": "python",
   "nbconvert_exporter": "python",
   "pygments_lexer": "ipython3",
   "version": "3.8.12"
  }
 },
 "nbformat": 4,
 "nbformat_minor": 4
}
