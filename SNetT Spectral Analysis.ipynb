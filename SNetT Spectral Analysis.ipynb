{
 "cells": [
  {
   "cell_type": "code",
   "execution_count": 2,
   "metadata": {},
   "outputs": [],
   "source": [
    "import networkx as nx\n",
    "import pandas as pd\n",
    "import numpy as np\n",
    "from scipy import linalg\n",
    "import matplotlib.pyplot as plt\n",
    "from docx import Document\n",
    "import math #?\n",
    "import sympy\n",
    "from sklearn.cluster import SpectralClustering"
   ]
  },
  {
   "cell_type": "code",
   "execution_count": 3,
   "metadata": {},
   "outputs": [],
   "source": [
    "input_path = \"models/SNetT.gml\"\n",
    "G = nx.read_gml(input_path)"
   ]
  },
  {
   "cell_type": "code",
   "execution_count": 4,
   "metadata": {},
   "outputs": [],
   "source": [
    "def plot_scatterplot(x_data, y_data, x_label, y_label, title):\n",
    "    fig, ax = plt.subplots()\n",
    "    ax.scatter(x_data, y_data) \n",
    "    ax.set_ylabel(y_label, fontsize=15)\n",
    "    ax.set_xlabel(x_label, fontsize=15)\n",
    "    ax.set_title(title)\n",
    "    plt.show() \n",
    "\n",
    "def plot_scatterplot2(x_data, y_data, x_label, y_label, title):\n",
    "    fig, ax = plt.subplots()\n",
    "    ax.scatter(x_data, y_data) \n",
    "    ax.set_ylabel(y_label, fontsize=15)\n",
    "    ax.set_xlabel(x_label, fontsize=15)\n",
    "    ax.set_title(title)\n",
    "    plt.show() \n",
    "    \n",
    "def find_ccs2(eigenvectors_holder, n):\n",
    "    components = []\n",
    "    already_solved = []\n",
    "    for current in range(0, n):\n",
    "        if current not in already_solved:\n",
    "            component = [current]\n",
    "            for running in range (current+1, n):\n",
    "                if running not in already_solved:\n",
    "                    b = True\n",
    "                    for tracer in range(0, len(eigenvectors_holder)):\n",
    "                        eigenvector = eigenvectors_holder[tracer]\n",
    "                        if not in_range(eigenvector[current], eigenvector[running], math.pow(10,-12)):\n",
    "                            b = False\n",
    "                    if b:\n",
    "                        component.append(running)\n",
    "                        already_solved.append(running)\n",
    "            already_solved.append(current)\n",
    "            components.append(component)\n",
    "    return components\n",
    "\n",
    "def get_components3(L, component_number):\n",
    "    \n",
    "    evals, evecs = linalg.eig(L) # each column of evecs is an eigenvector\n",
    "\n",
    "    # take only real component of each eigenvalue, because eigenvalues of L are guaranteed to be real \n",
    "    evals = evals.real\n",
    "\n",
    "    # take only real component of each eigenvector, because eigenvectors of L are guaranteed to be real \n",
    "    evecs_temp = []\n",
    "    for e in evecs:\n",
    "        v = e.real\n",
    "        evecs_temp.append(v)    \n",
    "    evecs = evecs_temp\n",
    "    \n",
    "    evecs_horizontal_container = np.array(evecs).T #each row is an eigenvector\n",
    "\n",
    "    zipped = list(zip(evals, evecs_horizontal_container)) # pair eigenvalues and eigenvectors into eigenpairs\n",
    "    zipped.sort(key=lambda tup: tup[0]) # sort eigenpairs by eigenvalue\n",
    "    evals, evecs = zip(*zipped) # evecs is now horizontal, but ordered by paired eigenvalue size\n",
    "    eigenspace0_basis = evecs[:component_number] # take only the first component_number eigenvectors \n",
    "    #eigenspace0_basis = filter_matrix(eigenspace0_basis, math.pow(10, -15)) # filter values close to 0\n",
    "\n",
    "    return find_ccs2(eigenspace0_basis, len(eigenspace0_basis[0]))"
   ]
  },
  {
   "cell_type": "code",
   "execution_count": 5,
   "metadata": {},
   "outputs": [
    {
     "name": "stdout",
     "output_type": "stream",
     "text": [
      "     k      lambda_k\n",
      "0    1  1.833661e-11\n",
      "1    2  2.593206e+03\n",
      "2    3  2.824891e+03\n",
      "3    4  8.433984e+03\n",
      "4    5  8.825458e+03\n",
      "5    6  1.524433e+04\n",
      "6    7  1.596725e+04\n",
      "7    8  1.769251e+04\n",
      "8    9  2.283501e+04\n",
      "9   10  2.379979e+04\n",
      "10  11  2.580535e+04\n",
      "11  12  2.911989e+04\n",
      "12  13  3.091964e+04\n",
      "13  14  3.256196e+04\n",
      "14  15  4.065290e+04\n",
      "15  16  4.281376e+04\n",
      "16  17  4.720163e+04\n",
      "17  18  6.254138e+04\n",
      "18  19  7.430153e+04\n",
      "19  20  7.705983e+04\n",
      "20  21  7.884973e+04\n",
      "21  22  8.232948e+04\n",
      "22  23  8.676976e+04\n",
      "23  24  8.984049e+04\n",
      "24  25  9.292494e+04\n",
      "25  26  9.791073e+04\n",
      "26  27  1.108151e+05\n",
      "27  28  1.337896e+05\n",
      "28  29  1.436988e+05\n",
      "29  30  1.891725e+05\n"
     ]
    },
    {
     "data": {
      "image/png": "[encoded data removed]",
      "text/plain": [
       "<Figure size 432x288 with 1 Axes>"
      ]
     },
     "metadata": {
      "needs_background": "light"
     },
     "output_type": "display_data"
    }
   ],
   "source": [
    "L = nx.laplacian_matrix(G).toarray()\n",
    "\n",
    "eigenvalues = linalg.eigvalsh(L) \n",
    "eigenvalues.sort()\n",
    "enumerator = np.array(range(1, len(eigenvalues)+1))\n",
    "df_eig = pd.DataFrame(list(zip(enumerator, eigenvalues)))\n",
    "\n",
    "# write eigenvalue table\n",
    "df_eig30 = df_eig[:30]\n",
    "df_eig30.columns = ['k', 'lambda_k']\n",
    "df_eig30 = df_eig30.astype({'k': 'int32', 'lambda_k':'float'})\n",
    "print(df_eig30)\n",
    "\n",
    "doc = Document()\n",
    "t = doc.add_table(df_eig30.shape[0]+1, df_eig30.shape[1])\n",
    "t.cell(0,0).text = r'$k$'\n",
    "t.cell(0,1).text = r'$\\lambda_k$'\n",
    "for i in range(df_eig30.shape[0]):\n",
    "    for j in range(df_eig30.shape[-1]):\n",
    "        t.cell(i+1,j).text = str(df_eig30.values[i,j])\n",
    "\n",
    "plot_scatterplot(enumerator, eigenvalues, r'$k$', r'$\\lambda_k$', 'Graph laplacian whole specter')"
   ]
  },
  {
   "cell_type": "code",
   "execution_count": 6,
   "metadata": {},
   "outputs": [
    {
     "data": {
      "image/png": "[encoded data removed]",
      "text/plain": [
       "<Figure size 432x288 with 1 Axes>"
      ]
     },
     "metadata": {
      "needs_background": "light"
     },
     "output_type": "display_data"
    }
   ],
   "source": [
    "# prvih 30 sopstvenih vrednosti\n",
    "\n",
    "df_eig_30 = df_eig[:30]\n",
    "\n",
    "plot_scatterplot(df_eig_30.iloc[:,0], df_eig_30.iloc[:,1], r'$k$', r'$\\lambda_k$', 'First 30 values of graph laplacian')\n"
   ]
  },
  {
   "cell_type": "code",
   "execution_count": null,
   "metadata": {},
   "outputs": [],
   "source": [
    "#Candidates for number of clusters: 2, 4, 6, 15, 18, 19 ..."
   ]
  }
 ],
 "metadata": {
  "kernelspec": {
   "display_name": "Python 3 (ipykernel)",
   "language": "python",
   "name": "python3"
  },
  "language_info": {
   "codemirror_mode": {
    "name": "ipython",
    "version": 3
   },
   "file_extension": ".py",
   "mimetype": "text/x-python",
   "name": "python",
   "nbconvert_exporter": "python",
   "pygments_lexer": "ipython3",
   "version": "3.8.12"
  }
 },
 "nbformat": 4,
 "nbformat_minor": 4
}
