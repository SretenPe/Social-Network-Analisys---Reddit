{
 "cells": [
  {
   "cell_type": "code",
   "execution_count": 1,
   "metadata": {},
   "outputs": [
    {
     "name": "stdout",
     "output_type": "stream",
     "text": [
      "Requirement already satisfied: powerlaw in c:\\users\\sretenp\\anaconda3\\lib\\site-packages (1.5)\n",
      "Requirement already satisfied: scipy in c:\\users\\sretenp\\anaconda3\\lib\\site-packages (from powerlaw) (1.5.2)\n",
      "Requirement already satisfied: numpy in c:\\users\\sretenp\\anaconda3\\lib\\site-packages (from powerlaw) (1.19.2)\n",
      "Requirement already satisfied: matplotlib in c:\\users\\sretenp\\anaconda3\\lib\\site-packages (from powerlaw) (3.3.2)\n",
      "Requirement already satisfied: mpmath in c:\\users\\sretenp\\anaconda3\\lib\\site-packages (from powerlaw) (1.1.0)\n",
      "Requirement already satisfied: kiwisolver>=1.0.1 in c:\\users\\sretenp\\anaconda3\\lib\\site-packages (from matplotlib->powerlaw) (1.3.0)\n",
      "Requirement already satisfied: pyparsing!=2.0.4,!=2.1.2,!=2.1.6,>=2.0.3 in c:\\users\\sretenp\\anaconda3\\lib\\site-packages (from matplotlib->powerlaw) (2.4.7)\n",
      "Requirement already satisfied: pillow>=6.2.0 in c:\\users\\sretenp\\anaconda3\\lib\\site-packages (from matplotlib->powerlaw) (8.0.1)\n",
      "Requirement already satisfied: cycler>=0.10 in c:\\users\\sretenp\\anaconda3\\lib\\site-packages (from matplotlib->powerlaw) (0.10.0)\n",
      "Requirement already satisfied: python-dateutil>=2.1 in c:\\users\\sretenp\\anaconda3\\lib\\site-packages (from matplotlib->powerlaw) (2.8.1)\n",
      "Requirement already satisfied: certifi>=2020.06.20 in c:\\users\\sretenp\\anaconda3\\lib\\site-packages (from matplotlib->powerlaw) (2020.6.20)\n",
      "Requirement already satisfied: six in c:\\users\\sretenp\\anaconda3\\lib\\site-packages (from cycler>=0.10->matplotlib->powerlaw) (1.15.0)\n"
     ]
    }
   ],
   "source": [
    "!pip install powerlaw\n",
    "import pandas as pd\n",
    "import glob\n",
    "import numpy as np\n",
    "import pickle\n",
    "import networkx as nx\n",
    "import itertools\n",
    "import matplotlib.pyplot as plt\n",
    "from collections import Counter\n",
    "import powerlaw\n",
    "import math\n",
    "import operator"
   ]
  },
  {
   "cell_type": "code",
   "execution_count": 2,
   "metadata": {},
   "outputs": [],
   "source": [
    "unique_subreddits_path =r\"cleaned_data\\unique_subreddits\"\n",
    "with open(unique_subreddits_path, 'rb') as file:\n",
    "    unique_subreddits = pickle.load(file)\n",
    "\n",
    "with open(\"cleaned_data\\submissions_cleanead\", 'rb') as file:\n",
    "    submissions = pickle.load(file)\n",
    "\n",
    "with open(\"cleaned_data\\comments_cleanead\", 'rb') as file:\n",
    "    comments = pickle.load(file)"
   ]
  },
  {
   "cell_type": "code",
   "execution_count": 3,
   "metadata": {},
   "outputs": [
    {
     "name": "stdout",
     "output_type": "stream",
     "text": [
      "            id        author  created_utc   subreddit subreddit_id  \\\n",
      "0        648oo         DITUS   1199145615  reddit.com         t5_6   \n",
      "1        648op        rmuser   1199145634     science      t5_mouw   \n",
      "3        648or         zorno   1199145709  reddit.com         t5_6   \n",
      "4        648os        rmuser   1199145735    politics     t5_2cneq   \n",
      "5        648ot         zorno   1199145735  reddit.com         t5_6   \n",
      "...        ...           ...          ...         ...          ...   \n",
      "2519847  7amgd     hunkydude   1225497545      Health     t5_2qh9z   \n",
      "2519848  7amge  violetplanet   1225497549    BlackOps     t5_2qhwv   \n",
      "2519850  7amgg    justblogit   1225497564  reddit.com         t5_6   \n",
      "2519851  7amgh  guillebravo6   1225497573     offbeat     t5_2qh11   \n",
      "2519852  7amgi     qazamisan   1225497591  reddit.com         t5_6   \n",
      "\n",
      "         num_comments  score  over_18  \n",
      "0                   1      0    False  \n",
      "1                   5     20    False  \n",
      "3                   1      3    False  \n",
      "4                   2      0    False  \n",
      "5                   0      0    False  \n",
      "...               ...    ...      ...  \n",
      "2519847             0      0    False  \n",
      "2519848             0      1    False  \n",
      "2519850             1      0    False  \n",
      "2519851             5      2    False  \n",
      "2519852             0      0    False  \n",
      "\n",
      "[2044810 rows x 8 columns]\n",
      "              id               author   link_id   parent_id  created_utc  \\\n",
      "0        c02s9s6                Haven  t3_648oh  t1_c02s9rv   1199145604   \n",
      "2        c02s9s8             lilmiss2  t3_648oh  t1_c02s9rv   1199145620   \n",
      "6        c02s9sc  EverybodysAnAsshole  t3_648et  t1_c02s976   1199145644   \n",
      "7        c02s9sd             generalk  t3_647yd  t1_c02s8md   1199145647   \n",
      "8        c02s9se            seeker135  t3_6483n    t3_6483n   1199145650   \n",
      "...          ...                  ...       ...         ...          ...   \n",
      "7242866  c064gsy         rhythmicidea  t3_7amdg  t1_c064gqo   1225497583   \n",
      "7242867  c064gsz       blackwhitegrey  t3_7ajij    t3_7ajij   1225497586   \n",
      "7242868  c064gt0           Drewster58  t3_7amg7    t3_7amg7   1225497590   \n",
      "7242869  c064gt1               eerock  t3_7akoc    t3_7akoc   1225497593   \n",
      "7242870  c064gt2               mycall  t3_7ajjm    t3_7ajjm   1225497599   \n",
      "\n",
      "           subreddit subreddit_id  score  \n",
      "0         reddit.com         t5_6      4  \n",
      "2         reddit.com         t5_6      2  \n",
      "6         reddit.com         t5_6      2  \n",
      "7        programming      t5_2fwo     13  \n",
      "8           politics     t5_2cneq      4  \n",
      "...              ...          ...    ...  \n",
      "7242866     politics     t5_2cneq      1  \n",
      "7242867   reddit.com         t5_6      0  \n",
      "7242868   reddit.com         t5_6      1  \n",
      "7242869     politics     t5_2cneq      2  \n",
      "7242870    AskReddit     t5_2qh1i      2  \n",
      "\n",
      "[4873689 rows x 8 columns]\n"
     ]
    }
   ],
   "source": [
    "print(submissions)\n",
    "print(comments)"
   ]
  },
  {
   "cell_type": "code",
   "execution_count": 29,
   "metadata": {},
   "outputs": [
    {
     "name": "stdout",
     "output_type": "stream",
     "text": [
      "              id               author   link_id   parent_id\n",
      "0        c02s9s6                Haven  t3_648oh  t1_c02s9rv\n",
      "2        c02s9s8             lilmiss2  t3_648oh  t1_c02s9rv\n",
      "6        c02s9sc  EverybodysAnAsshole  t3_648et  t1_c02s976\n",
      "7        c02s9sd             generalk  t3_647yd  t1_c02s8md\n",
      "8        c02s9se            seeker135  t3_6483n    t3_6483n\n",
      "...          ...                  ...       ...         ...\n",
      "7242866  c064gsy         rhythmicidea  t3_7amdg  t1_c064gqo\n",
      "7242867  c064gsz       blackwhitegrey  t3_7ajij    t3_7ajij\n",
      "7242868  c064gt0           Drewster58  t3_7amg7    t3_7amg7\n",
      "7242869  c064gt1               eerock  t3_7akoc    t3_7akoc\n",
      "7242870  c064gt2               mycall  t3_7ajjm    t3_7ajjm\n",
      "\n",
      "[4873689 rows x 4 columns]\n",
      "            id        author  num_comments\n",
      "0        648oo         DITUS             1\n",
      "1        648op        rmuser             5\n",
      "3        648or         zorno             1\n",
      "4        648os        rmuser             2\n",
      "5        648ot         zorno             0\n",
      "...        ...           ...           ...\n",
      "2519847  7amgd     hunkydude             0\n",
      "2519848  7amge  violetplanet             0\n",
      "2519850  7amgg    justblogit             1\n",
      "2519851  7amgh  guillebravo6             5\n",
      "2519852  7amgi     qazamisan             0\n",
      "\n",
      "[2044810 rows x 3 columns]\n"
     ]
    }
   ],
   "source": [
    "comment_collumns_to_use = ['id','author','link_id','parent_id']\n",
    "comments_filtered = comments[comment_collumns_to_use]\n",
    "print(comments_filtered)\n",
    "\n",
    "submission_collumns_to_use = ['id','author', 'num_comments']\n",
    "submissions_filtered = submissions[submission_collumns_to_use]\n",
    "print(submissions_filtered)\n",
    "\n"
   ]
  },
  {
   "cell_type": "code",
   "execution_count": 27,
   "metadata": {},
   "outputs": [
    {
     "name": "stdout",
     "output_type": "stream",
     "text": [
      "           index       id               author link_id parent_id\n",
      "0              0  c02s9s6                Haven   648oh   c02s9rv\n",
      "1              2  c02s9s8             lilmiss2   648oh   c02s9rv\n",
      "2              6  c02s9sc  EverybodysAnAsshole   648et   c02s976\n",
      "3              7  c02s9sd             generalk   647yd   c02s8md\n",
      "4              8  c02s9se            seeker135   6483n     6483n\n",
      "...          ...      ...                  ...     ...       ...\n",
      "4873684  7242866  c064gsy         rhythmicidea   7amdg   c064gqo\n",
      "4873685  7242867  c064gsz       blackwhitegrey   7ajij     7ajij\n",
      "4873686  7242868  c064gt0           Drewster58   7amg7     7amg7\n",
      "4873687  7242869  c064gt1               eerock   7akoc     7akoc\n",
      "4873688  7242870  c064gt2               mycall   7ajjm     7ajjm\n",
      "\n",
      "[4873689 rows x 5 columns]\n"
     ]
    }
   ],
   "source": [
    "df = comments_filtered.reset_index()  # make sure indexes pair with number of rows\n",
    "\n",
    "for index, row in df.iterrows():\n",
    "    link_id = row['link_id'][3:]\n",
    "    df.iat[index, df.columns.get_loc('link_id')] = link_id\n",
    "    parent_id = row['parent_id'][3:]\n",
    "    df.iat[index, df.columns.get_loc('parent_id')] = parent_id \n",
    "\n",
    "print(df)"
   ]
  },
  {
   "cell_type": "code",
   "execution_count": 30,
   "metadata": {},
   "outputs": [
    {
     "name": "stdout",
     "output_type": "stream",
     "text": [
      "            id         author  num_comments\n",
      "0        648oo          DITUS             1\n",
      "1        648op         rmuser             5\n",
      "3        648or          zorno             1\n",
      "4        648os         rmuser             2\n",
      "6        648ou  anteeknetshop             1\n",
      "...        ...            ...           ...\n",
      "2519831  7amfx      oddietaco             4\n",
      "2519841  7amg7     Drewster58             1\n",
      "2519843  7amg9      clhibbard             1\n",
      "2519850  7amgg     justblogit             1\n",
      "2519851  7amgh   guillebravo6             5\n",
      "\n",
      "[797907 rows x 3 columns]\n"
     ]
    }
   ],
   "source": [
    "#Remove submissiong that have 0 number of comments\n",
    "submissions_with_comments_mask = submissions_filtered['num_comments'] > 0\n",
    "submissions_with_comments = submissions_filtered[submissions_with_comments_mask]\n",
    "print(submissions_with_comments)"
   ]
  },
  {
   "cell_type": "code",
   "execution_count": 32,
   "metadata": {},
   "outputs": [
    {
     "name": "stdout",
     "output_type": "stream",
     "text": [
      "           index       id               author link_id parent_id\n",
      "0              0  c02s9s6                Haven   648oh   c02s9rv\n",
      "1              2  c02s9s8             lilmiss2   648oh   c02s9rv\n",
      "2              6  c02s9sc  EverybodysAnAsshole   648et   c02s976\n",
      "3              7  c02s9sd             generalk   647yd   c02s8md\n",
      "4              8  c02s9se            seeker135   6483n     6483n\n",
      "...          ...      ...                  ...     ...       ...\n",
      "4873684  7242866  c064gsy         rhythmicidea   7amdg   c064gqo\n",
      "4873685  7242867  c064gsz       blackwhitegrey   7ajij     7ajij\n",
      "4873686  7242868  c064gt0           Drewster58   7amg7     7amg7\n",
      "4873687  7242869  c064gt1               eerock   7akoc     7akoc\n",
      "4873688  7242870  c064gt2               mycall   7ajjm     7ajjm\n",
      "\n",
      "[4873689 rows x 5 columns]\n",
      "            id         author\n",
      "0        648oo          DITUS\n",
      "1        648op         rmuser\n",
      "3        648or          zorno\n",
      "4        648os         rmuser\n",
      "6        648ou  anteeknetshop\n",
      "...        ...            ...\n",
      "2519831  7amfx      oddietaco\n",
      "2519841  7amg7     Drewster58\n",
      "2519843  7amg9      clhibbard\n",
      "2519850  7amgg     justblogit\n",
      "2519851  7amgh   guillebravo6\n",
      "\n",
      "[797907 rows x 2 columns]\n"
     ]
    }
   ],
   "source": [
    "comments = df\n",
    "submissions = submissions_with_comments[['id','author']]\n",
    "print(comments)\n",
    "print(submissions)"
   ]
  },
  {
   "cell_type": "code",
   "execution_count": 42,
   "metadata": {},
   "outputs": [
    {
     "name": "stdout",
     "output_type": "stream",
     "text": [
      "           index       id           author link_id parent_id\n",
      "25            34  c02s9t4  LiberalDemocrat   648os     648os\n",
      "55            72  c02s9u6        DiscoWolf   648os     648os\n",
      "63            83  c02s9uh         Flemlord   648p5     648p5\n",
      "69            89  c02s9un  LiberalDemocrat   648oy     648oy\n",
      "72            94  c02s9us  LiberalDemocrat   648p5     648p5\n",
      "...          ...      ...              ...     ...       ...\n",
      "4873684  7242866  c064gsy     rhythmicidea   7amdg   c064gqo\n",
      "4873685  7242867  c064gsz   blackwhitegrey   7ajij     7ajij\n",
      "4873686  7242868  c064gt0       Drewster58   7amg7     7amg7\n",
      "4873687  7242869  c064gt1           eerock   7akoc     7akoc\n",
      "4873688  7242870  c064gt2           mycall   7ajjm     7ajjm\n",
      "\n",
      "[3781518 rows x 5 columns]\n"
     ]
    }
   ],
   "source": [
    "mask = comments['link_id'].isin(submissions['id'])\n",
    "comments_filtered = comments[mask]\n",
    "print(comments_filtered)"
   ]
  },
  {
   "cell_type": "code",
   "execution_count": 43,
   "metadata": {},
   "outputs": [
    {
     "name": "stdout",
     "output_type": "stream",
     "text": [
      "Number of unique users :  152730\n"
     ]
    }
   ],
   "source": [
    "submissions_unique_users = submissions['author'].unique()\n",
    "comments_unique_users = comments_filtered['author'].unique()\n",
    "\n",
    "unique_users = list(set(np.concatenate([submissions_unique_users, comments_unique_users])))\n",
    "print('Number of unique users : ', len(unique_users))"
   ]
  },
  {
   "cell_type": "code",
   "execution_count": 44,
   "metadata": {},
   "outputs": [],
   "source": [
    "#Save unique users for graph nodes\n",
    "unique_users_path =r\"cleaned_data\\unique_users\"\n",
    "with open(unique_users_path, 'wb') as file:\n",
    "    pickle.dump(unique_users, file)\n",
    "    \n",
    "#Save submissions for UserNet\n",
    "user_net_submissions =r\"cleaned_data\\user_net_submissions\"\n",
    "with open(user_net_submissions, 'wb') as file:\n",
    "    pickle.dump(submissions, file)\n",
    "    \n",
    "#Save comments for UserNet\n",
    "user_net_comments =r\"cleaned_data\\user_net_comments\"\n",
    "with open(user_net_comments, 'wb') as file:\n",
    "    pickle.dump(comments_filtered, file)"
   ]
  },
  {
   "cell_type": "code",
   "execution_count": null,
   "metadata": {},
   "outputs": [],
   "source": []
  }
 ],
 "metadata": {
  "kernelspec": {
   "display_name": "Python 3 (ipykernel)",
   "language": "python",
   "name": "python3"
  },
  "language_info": {
   "codemirror_mode": {
    "name": "ipython",
    "version": 3
   },
   "file_extension": ".py",
   "mimetype": "text/x-python",
   "name": "python",
   "nbconvert_exporter": "python",
   "pygments_lexer": "ipython3",
   "version": "3.8.12"
  }
 },
 "nbformat": 4,
 "nbformat_minor": 4
}
