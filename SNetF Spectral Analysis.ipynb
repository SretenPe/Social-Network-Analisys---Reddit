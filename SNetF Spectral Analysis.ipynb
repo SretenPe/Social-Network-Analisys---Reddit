{
 "cells": [
  {
   "cell_type": "code",
   "execution_count": 8,
   "metadata": {},
   "outputs": [
    {
     "name": "stdout",
     "output_type": "stream",
     "text": [
      "Collecting python-docx\n",
      "  Downloading python-docx-0.8.11.tar.gz (5.6 MB)\n",
      "Requirement already satisfied: lxml>=2.3.2 in c:\\users\\sretenp\\anaconda3\\lib\\site-packages (from python-docx) (4.6.1)\n",
      "Building wheels for collected packages: python-docx\n",
      "  Building wheel for python-docx (setup.py): started\n",
      "  Building wheel for python-docx (setup.py): finished with status 'done'\n",
      "  Created wheel for python-docx: filename=python_docx-0.8.11-py3-none-any.whl size=184605 sha256=76c3f01ecca65618d84ee390bad2e19dbc1c862731643a591a2b4244c5ef56e5\n",
      "  Stored in directory: c:\\users\\sretenp\\appdata\\local\\pip\\cache\\wheels\\32\\b8\\b2\\c4c2b95765e615fe139b0b17b5ea7c0e1b6519b0a9ec8fb34d\n",
      "Successfully built python-docx\n",
      "Installing collected packages: python-docx\n",
      "Successfully installed python-docx-0.8.11\n"
     ]
    }
   ],
   "source": [
    "!pip install python-docx "
   ]
  },
  {
   "cell_type": "code",
   "execution_count": 9,
   "metadata": {},
   "outputs": [],
   "source": [
    "import networkx as nx\n",
    "import pandas as pd\n",
    "import numpy as np\n",
    "from scipy import linalg\n",
    "import matplotlib.pyplot as plt\n",
    "from docx import Document\n",
    "import math #?\n",
    "import sympy\n",
    "from sklearn.cluster import SpectralClustering"
   ]
  },
  {
   "cell_type": "code",
   "execution_count": 2,
   "metadata": {},
   "outputs": [],
   "source": [
    "input_path = \"models/SNetF.gml\"\n",
    "G = nx.read_gml(input_path)"
   ]
  },
  {
   "cell_type": "code",
   "execution_count": 16,
   "metadata": {},
   "outputs": [],
   "source": [
    "def plot_scatterplot(x_data, y_data, x_label, y_label, title):\n",
    "    fig, ax = plt.subplots()\n",
    "    ax.scatter(x_data, y_data) \n",
    "    ax.set_ylabel(y_label, fontsize=15)\n",
    "    ax.set_xlabel(x_label, fontsize=15)\n",
    "    ax.set_title(title)\n",
    "    plt.show() \n",
    "\n",
    "def plot_scatterplot2(x_data, y_data, x_label, y_label, title):\n",
    "    fig, ax = plt.subplots()\n",
    "    ax.scatter(x_data, y_data) \n",
    "    ax.set_ylabel(y_label, fontsize=15)\n",
    "    ax.set_xlabel(x_label, fontsize=15)\n",
    "    ax.set_title(title)\n",
    "    plt.show() \n",
    "    \n",
    "def find_ccs2(eigenvectors_holder, n):\n",
    "    components = []\n",
    "    already_solved = []\n",
    "    for current in range(0, n):\n",
    "        if current not in already_solved:\n",
    "            component = [current]\n",
    "            for running in range (current+1, n):\n",
    "                if running not in already_solved:\n",
    "                    b = True\n",
    "                    for tracer in range(0, len(eigenvectors_holder)):\n",
    "                        eigenvector = eigenvectors_holder[tracer]\n",
    "                        if not in_range(eigenvector[current], eigenvector[running], math.pow(10,-12)):\n",
    "                            b = False\n",
    "                    if b:\n",
    "                        component.append(running)\n",
    "                        already_solved.append(running)\n",
    "            already_solved.append(current)\n",
    "            components.append(component)\n",
    "    return components\n",
    "\n",
    "def get_components3(L, component_number):\n",
    "    \n",
    "    evals, evecs = linalg.eig(L) # each column of evecs is an eigenvector\n",
    "\n",
    "    # take only real component of each eigenvalue, because eigenvalues of L are guaranteed to be real \n",
    "    evals = evals.real\n",
    "\n",
    "    # take only real component of each eigenvector, because eigenvectors of L are guaranteed to be real \n",
    "    evecs_temp = []\n",
    "    for e in evecs:\n",
    "        v = e.real\n",
    "        evecs_temp.append(v)    \n",
    "    evecs = evecs_temp\n",
    "    \n",
    "    evecs_horizontal_container = np.array(evecs).T #each row is an eigenvector\n",
    "\n",
    "    zipped = list(zip(evals, evecs_horizontal_container)) # pair eigenvalues and eigenvectors into eigenpairs\n",
    "    zipped.sort(key=lambda tup: tup[0]) # sort eigenpairs by eigenvalue\n",
    "    evals, evecs = zip(*zipped) # evecs is now horizontal, but ordered by paired eigenvalue size\n",
    "    eigenspace0_basis = evecs[:component_number] # take only the first component_number eigenvectors \n",
    "    #eigenspace0_basis = filter_matrix(eigenspace0_basis, math.pow(10, -15)) # filter values close to 0\n",
    "\n",
    "    return find_ccs2(eigenspace0_basis, len(eigenspace0_basis[0]))"
   ]
  },
  {
   "cell_type": "code",
   "execution_count": 20,
   "metadata": {},
   "outputs": [
    {
     "name": "stdout",
     "output_type": "stream",
     "text": [
      "     k      lambda_k\n",
      "0    1 -1.036174e-11\n",
      "1    2  7.894845e+00\n",
      "2    3  1.499876e+01\n",
      "3    4  1.500000e+01\n",
      "4    5  1.500000e+01\n",
      "5    6  1.500000e+01\n",
      "6    7  1.500000e+01\n",
      "7    8  1.514057e+01\n",
      "8    9  1.534041e+01\n",
      "9   10  1.599898e+01\n",
      "10  11  1.600000e+01\n",
      "11  12  1.600000e+01\n",
      "12  13  1.617431e+01\n",
      "13  14  1.799856e+01\n",
      "14  15  1.800000e+01\n",
      "15  16  1.813204e+01\n",
      "16  17  1.899881e+01\n",
      "17  18  1.911178e+01\n",
      "18  19  1.995758e+01\n",
      "19  20  2.417853e+01\n",
      "20  21  2.506148e+01\n",
      "21  22  2.706246e+01\n",
      "22  23  2.800000e+01\n",
      "23  24  3.000000e+01\n",
      "24  25  3.011911e+01\n",
      "25  26  3.099927e+01\n",
      "26  27  3.114767e+01\n",
      "27  28  3.208268e+01\n",
      "28  29  3.310600e+01\n",
      "29  30  3.410125e+01\n"
     ]
    },
    {
     "data": {
      "image/png": "[encoded data removed]",
      "text/plain": [
       "<Figure size 432x288 with 1 Axes>"
      ]
     },
     "metadata": {
      "needs_background": "light"
     },
     "output_type": "display_data"
    }
   ],
   "source": [
    "L = nx.laplacian_matrix(G).toarray()\n",
    "\n",
    "eigenvalues = linalg.eigvalsh(L) # TODO: change to .eigenvalsh because we know the matrix is symmetric\n",
    "eigenvalues.sort()\n",
    "enumerator = np.array(range(1, len(eigenvalues)+1))\n",
    "df_eig = pd.DataFrame(list(zip(enumerator, eigenvalues)))\n",
    "\n",
    "# write eigenvalue table\n",
    "df_eig30 = df_eig[:30]\n",
    "df_eig30.columns = ['k', 'lambda_k']\n",
    "df_eig30 = df_eig30.astype({'k': 'int32', 'lambda_k':'float'})\n",
    "print(df_eig30)\n",
    "\n",
    "doc = Document()\n",
    "#doc = docx.Document('tabela_eig.docx')\n",
    "t = doc.add_table(df_eig30.shape[0]+1, df_eig30.shape[1])\n",
    "t.cell(0,0).text = r'$k$'\n",
    "t.cell(0,1).text = r'$\\lambda_k$'\n",
    "for i in range(df_eig30.shape[0]):\n",
    "    for j in range(df_eig30.shape[-1]):\n",
    "        t.cell(i+1,j).text = str(df_eig30.values[i,j])\n",
    "\n",
    "plot_scatterplot(enumerator, eigenvalues, r'$k$', r'$\\lambda_k$', 'Ceo spektar graf laplasijana')"
   ]
  },
  {
   "cell_type": "code",
   "execution_count": 22,
   "metadata": {},
   "outputs": [
    {
     "data": {
      "image/png": "[encoded data removed]",
      "text/plain": [
       "<Figure size 432x288 with 1 Axes>"
      ]
     },
     "metadata": {
      "needs_background": "light"
     },
     "output_type": "display_data"
    }
   ],
   "source": [
    "# prvih 30 sopstvenih vrednosti\n",
    "\n",
    "df_eig_30 = df_eig[:30]\n",
    "\n",
    "plot_scatterplot(df_eig_30.iloc[:,0], df_eig_30.iloc[:,1], r'$k$', r'$\\lambda_k$', 'Prvih 30 sopstvenih vrednosti graf laplasijana')\n"
   ]
  },
  {
   "cell_type": "code",
   "execution_count": null,
   "metadata": {},
   "outputs": [],
   "source": [
    "#Kandidati za broj klastera: 2,3,10-?,14,20,39"
   ]
  }
 ],
 "metadata": {
  "kernelspec": {
   "display_name": "Python 3",
   "language": "python",
   "name": "python3"
  },
  "language_info": {
   "codemirror_mode": {
    "name": "ipython",
    "version": 3
   },
   "file_extension": ".py",
   "mimetype": "text/x-python",
   "name": "python",
   "nbconvert_exporter": "python",
   "pygments_lexer": "ipython3",
   "version": "3.8.5"
  }
 },
 "nbformat": 4,
 "nbformat_minor": 4
}
