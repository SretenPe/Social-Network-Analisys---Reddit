{
 "cells": [
  {
   "cell_type": "code",
   "execution_count": 1,
   "metadata": {},
   "outputs": [],
   "source": [
    "#!pip install powerlaw\n",
    "import pandas as pd\n",
    "import glob\n",
    "import numpy as np\n",
    "import pickle\n",
    "import networkx as nx\n",
    "import itertools\n",
    "import matplotlib.pyplot as plt\n",
    "from collections import Counter\n",
    "import powerlaw\n",
    "import math\n",
    "import operator"
   ]
  },
  {
   "cell_type": "code",
   "execution_count": 2,
   "metadata": {},
   "outputs": [],
   "source": [
    "unique_subreddits_path =r\"cleaned_data\\unique_subreddits\"\n",
    "with open(unique_subreddits_path, 'rb') as file:\n",
    "    unique_subreddits = pickle.load(file)\n",
    "\n",
    "with open(\"cleaned_data\\submissions_cleanead\", 'rb') as file:\n",
    "    submissions = pickle.load(file)\n",
    "\n",
    "with open(\"cleaned_data\\comments_cleanead\", 'rb') as file:\n",
    "    comments = pickle.load(file)"
   ]
  },
  {
   "cell_type": "code",
   "execution_count": 8,
   "metadata": {},
   "outputs": [
    {
     "name": "stdout",
     "output_type": "stream",
     "text": [
      "         index               author   subreddit\n",
      "263053  325999  zzzzzzzzzzzzzzzzzzz  reddit.com\n",
      "292804  363069          zzzzzzzzzzz    politics\n",
      "292679  362905          zzzzzzzzzzz  reddit.com\n",
      "445648  551567               zzzz71  reddit.com\n",
      "245028  303562             zzzz2008    politics\n",
      "...        ...                  ...         ...\n",
      "491454  607776        *polhold00133  reddit.com\n",
      "361068  447633        *polhold00133  reddit.com\n",
      "407688  505325        *polhold00133  reddit.com\n",
      "433744  537084        *polhold00133  reddit.com\n",
      "308621  382541        *polhold00133  reddit.com\n",
      "\n",
      "[6918484 rows x 3 columns]\n"
     ]
    }
   ],
   "source": [
    "submissions_authors_subreddits = submissions[['author', 'subreddit']]\n",
    "comments_authors_subreddits = comments[['author', 'subreddit']]\n",
    "submissions_authors_subreddits = submissions_authors_subreddits.reset_index()\n",
    "comments_authors_subreddits = comments_authors_subreddits.reset_index()\n",
    "\n",
    "frames = [submissions_authors_subreddits,comments_authors_subreddits]\n",
    "union_author_subreddit = pd.concat(frames)\n",
    "union_author_subreddit.drop_duplicates(subset=None, keep=\"first\", inplace=True)\n",
    "union_author_subreddit = union_author_subreddit.sort_values(by=['author'], ascending=False)\n",
    "print(union_author_subreddit)\n"
   ]
  },
  {
   "cell_type": "code",
   "execution_count": 9,
   "metadata": {},
   "outputs": [
    {
     "name": "stdout",
     "output_type": "stream",
     "text": [
      "Number of nodes in graph:  4359\n"
     ]
    }
   ],
   "source": [
    "#Graph creation\n",
    "SNet = nx.Graph()\n",
    "SNet.add_nodes_from(set(unique_subreddits))\n",
    "print(\"Number of nodes in graph: \", len(SNet.nodes))"
   ]
  },
  {
   "cell_type": "code",
   "execution_count": 10,
   "metadata": {},
   "outputs": [],
   "source": [
    "def generate_edges(node_list):\n",
    "    if(len(node_list)>0): \n",
    "        list_of_edges = list(itertools.combinations(node_list,2))\n",
    "        for x,y in list_of_edges:\n",
    "            if (x, y) in SNet.edges:\n",
    "                SNet.edges[x, y]['weight'] += 1\n",
    "            else:\n",
    "                SNet.add_edge(x, y, weight=1)"
   ]
  },
  {
   "cell_type": "code",
   "execution_count": null,
   "metadata": {},
   "outputs": [],
   "source": [
    "curr_author = \"\"\n",
    "node_list = []\n",
    "for _,_, author, subreddit in union_author_subreddit.itertuples():\n",
    "    if curr_author != author:\n",
    "        curr_author = author\n",
    "        generate_edges(node_list)\n",
    "        node_list.clear()\n",
    "    node_list.append(subreddit)"
   ]
  },
  {
   "cell_type": "code",
   "execution_count": null,
   "metadata": {},
   "outputs": [],
   "source": [
    "nx.info(SNet)"
   ]
  },
  {
   "cell_type": "code",
   "execution_count": 123,
   "metadata": {},
   "outputs": [],
   "source": [
    "output_path = \"models/SNet.gml\"\n",
    "\n",
    "nx.write_gml(SNet, output_path)"
   ]
  },
  {
   "cell_type": "code",
   "execution_count": 14,
   "metadata": {},
   "outputs": [],
   "source": [
    "G = nx.read_gml(\"models/SNet.gml\")"
   ]
  },
  {
   "cell_type": "code",
   "execution_count": 15,
   "metadata": {},
   "outputs": [
    {
     "name": "stdout",
     "output_type": "stream",
     "text": [
      "Network density is =  0.00311604408428027\n"
     ]
    }
   ],
   "source": [
    "#1.7 Network density\n",
    "\n",
    "number_of_edges = SNet.number_of_edges()\n",
    "number_of_nodes = SNet.number_of_nodes()\n",
    "\n",
    "absolut_number_of_edges = number_of_nodes * (number_of_nodes - 1)/2\n",
    "\n",
    "network_density = number_of_edges/absolut_number_of_edges\n",
    "\n",
    "print(\"Network density is = \",network_density)"
   ]
  },
  {
   "cell_type": "code",
   "execution_count": 16,
   "metadata": {},
   "outputs": [
    {
     "name": "stdout",
     "output_type": "stream",
     "text": [
      "Connected components:  [3524, 3, 3, 3, 2, 2, 2, 2, 2, 2, 2, 2, 2, 2, 2, 2, 2, 2, 2, 2]\n",
      "Number of connected components:  20\n",
      "Number of nodes in biggest component:  3524\n"
     ]
    }
   ],
   "source": [
    "#Remove isolated nodes\n",
    "nx.is_connected(G)\n",
    "toRemove = list(nx.isolates(G))\n",
    "G.remove_nodes_from(toRemove)\n",
    "nx.is_connected(G)\n",
    "\n",
    "#Finding biggest component\n",
    "components_array = [len(c) for c in sorted(nx.connected_components(G), key=len, reverse=True)]\n",
    "print('Connected components: ',components_array)\n",
    "print('Number of connected components: ',len(components_array))\n",
    "S = [G.subgraph(c).copy() for c in nx.connected_components(G)]\n",
    "largest_component = S[0]\n",
    "print('Number of nodes in biggest component: ',largest_component.number_of_nodes())\n"
   ]
  },
  {
   "cell_type": "code",
   "execution_count": 17,
   "metadata": {},
   "outputs": [],
   "source": [
    "G = largest_component"
   ]
  },
  {
   "cell_type": "code",
   "execution_count": 244,
   "metadata": {},
   "outputs": [],
   "source": [
    "#Save largest component\n",
    "\n",
    "nx.write_gml(G, \"models/SNetLargestComponent.gml\")"
   ]
  },
  {
   "cell_type": "code",
   "execution_count": 2,
   "metadata": {},
   "outputs": [],
   "source": [
    "G = nx.read_gml(\"models/SNetLargestComponent.gml\")"
   ]
  },
  {
   "cell_type": "code",
   "execution_count": 18,
   "metadata": {},
   "outputs": [
    {
     "name": "stdout",
     "output_type": "stream",
     "text": [
      "Diameter is:  5\n",
      "Average shortest path is:  2.45908369936751\n"
     ]
    }
   ],
   "source": [
    "#1.8 Diameter and Avg Shortest path\n",
    "diameter = nx.diameter(largest_component)\n",
    "print('Diameter is: ', diameter)\n",
    "average_shortest_path = nx.average_shortest_path_length(largest_component, weight='weight') #2.45908369936751\n",
    "print('Average shortest path is: ',average_shortest_path)"
   ]
  },
  {
   "cell_type": "code",
   "execution_count": 172,
   "metadata": {},
   "outputs": [
    {
     "name": "stdout",
     "output_type": "stream",
     "text": [
      "\n",
      "Number of nodes :  3524\n",
      "Number of edges :  156934\n",
      "Broj čvorova originalne mreže minus broj čvorova u ER mreži iznosi 57, što je odstupanje od 0.036321001185211615%\n"
     ]
    }
   ],
   "source": [
    "#1.10 ER Model\n",
    "n = G.number_of_nodes()\n",
    "m = G.number_of_edges()\n",
    "print(\"\\nNumber of nodes : \", n)\n",
    "print(\"Number of edges : \", m)\n",
    "\n",
    "p = ( 2*float(m) ) / ( n* (n-1) )\n",
    "er_net = nx.erdos_renyi_graph(n,p)\n",
    "\n",
    "delta_m = m - er_net.number_of_edges()"
   ]
  },
  {
   "cell_type": "code",
   "execution_count": 22,
   "metadata": {},
   "outputs": [
    {
     "name": "stdout",
     "output_type": "stream",
     "text": [
      "Average clustering coefficient :  0.7642071380757702\n",
      "Global clustering coefficient :  0.2673082405054368\n",
      "Local clustering coefficients\n",
      "             subreddit        cc\n",
      "2364     Plugyoursite  0.001133\n",
      "804        ryanbulmer  0.001091\n",
      "2164       Indyapulse  0.001077\n",
      "470              Fish  0.001054\n",
      "2705  unlawflcombatnt  0.001038\n",
      "...               ...       ...\n",
      "2754            Liang  0.000033\n",
      "849    Ambientalmente  0.000032\n",
      "2484             Voto  0.000016\n",
      "1128          Turkiye  0.000011\n",
      "2815     kultur_sanat  0.000011\n",
      "\n",
      "[3000 rows x 2 columns]\n"
     ]
    },
    {
     "data": {
      "image/png": "[encoded data removed]",
      "text/plain": [
       "<Figure size 432x288 with 1 Axes>"
      ]
     },
     "metadata": {
      "needs_background": "light"
     },
     "output_type": "display_data"
    }
   ],
   "source": [
    "#1.10 Average and global clustering coefficient, Local clustering coefficient distribution for SNet\n",
    "      \n",
    "average_clustering_coefficient = nx.average_clustering(G)\n",
    "global_clustering_coefficient = nx.transitivity(G)\n",
    "\n",
    "subreddit, clustering_coef = zip(*nx.clustering(G, weight = \"weight\").items())\n",
    "local_clustering_data = [(subreddit, cc)  for subreddit, cc in zip(subreddit, clustering_coef) if cc > 0]\n",
    "local_clustering_coefficients = pd.DataFrame(local_clustering_data, columns = [\"subreddit\", \"cc\"])\n",
    "local_clustering_coefficients.sort_values('cc', inplace = True, ascending=False)\n",
    "\n",
    "print(\"Average clustering coefficient : \", average_clustering_coefficient)\n",
    "print(\"Global clustering coefficient : \", global_clustering_coefficient)\n",
    "print(\"Local clustering coefficients\\n\", local_clustering_coefficients)\n",
    "\n",
    "plt.hist(local_clustering_coefficients['cc'], color = 'pink', edgecolor = 'black',\n",
    "         bins = int(300/5))\n",
    "\n",
    "plt.title('Local clustering coefficient distribution')\n",
    "plt.xlabel('Clustering Coefficient')\n",
    "plt.ylabel('Number of nodes')\n",
    "plt.tight_layout()\n",
    "plt.show()\n"
   ]
  },
  {
   "cell_type": "code",
   "execution_count": 190,
   "metadata": {},
   "outputs": [
    {
     "name": "stdout",
     "output_type": "stream",
     "text": [
      "Average clustering coefficient :  0.025273234845362435\n",
      "Global clustering coefficient :  0.025267744160115842\n",
      "Local clustering coefficients\n",
      "       subreddit        cc\n",
      "1629       1629  0.037681\n",
      "612         612  0.034369\n",
      "1204       1204  0.033674\n",
      "2484       2484  0.032864\n",
      "359         359  0.032809\n",
      "...         ...       ...\n",
      "1032       1032  0.017593\n",
      "2426       2426  0.017514\n",
      "658         658  0.016963\n",
      "1604       1604  0.016729\n",
      "548         548  0.015066\n",
      "\n",
      "[3524 rows x 2 columns]\n"
     ]
    },
    {
     "data": {
      "image/png": "[encoded data removed]",
      "text/plain": [
       "<Figure size 432x288 with 1 Axes>"
      ]
     },
     "metadata": {
      "needs_background": "light"
     },
     "output_type": "display_data"
    }
   ],
   "source": [
    "#1.10 Average and global clustering coefficient, Local clustering coefficient distribution for ER Net\n",
    "\n",
    "average_clustering_coefficient_er = nx.average_clustering(er_net)\n",
    "global_clustering_coefficient_er = nx.transitivity(er_net)\n",
    "\n",
    "\n",
    "subreddit_er, clustering_coef_er = zip(*nx.clustering(er_net, weight = \"weight\").items())\n",
    "local_clustering_data_er = [(subreddit, cc)  for subreddit, cc in zip(subreddit_er, clustering_coef_er) if cc > 0]\n",
    "local_clustering_coefficients_er = pd.DataFrame(local_clustering_data_er, columns = [\"subreddit\", \"cc\"])\n",
    "local_clustering_coefficients_er.sort_values('cc', inplace = True, ascending=False)\n",
    "\n",
    "print(\"Average clustering coefficient : \", average_clustering_coefficient_er)\n",
    "print(\"Global clustering coefficient : \", global_clustering_coefficient_er)\n",
    "print(\"Local clustering coefficients\\n\", local_clustering_coefficients_er)\n",
    "\n",
    "plt.hist(local_clustering_coefficients_er['cc'], color = 'pink', edgecolor = 'black',\n",
    "         bins = int(300/5))\n",
    "\n",
    "plt.title('ER Local clustering coefficient distribution')\n",
    "plt.xlabel('ER Clustering Coefficient')\n",
    "plt.ylabel('ER Number of nodes')\n",
    "plt.tight_layout()\n",
    "plt.show()"
   ]
  },
  {
   "cell_type": "code",
   "execution_count": 19,
   "metadata": {},
   "outputs": [
    {
     "name": "stdout",
     "output_type": "stream",
     "text": [
      "Assortativity coefficient for unweighted graph: -0.43670253754011035\n"
     ]
    }
   ],
   "source": [
    "#1.12\n",
    "# Assortativity for unweighted graph\n",
    "r1 = nx.degree_assortativity_coefficient(G)\n",
    "print(f\"Assortativity coefficient for unweighted graph: {r1}\")\n",
    "\n",
    "# Assortativity for unweighted graph\n",
    "#r2 = nx.degree_assortativity_coefficient(G, weight='weight') - couldn't run on local machine"
   ]
  },
  {
   "cell_type": "code",
   "execution_count": null,
   "metadata": {},
   "outputs": [],
   "source": [
    "#1.14"
   ]
  },
  {
   "cell_type": "code",
   "execution_count": 20,
   "metadata": {},
   "outputs": [],
   "source": [
    "def plot_deg_frequency(G, weighted = False, xscale = \"log\", yscale = \"log\"):\n",
    "\n",
    "    if weighted:\n",
    "        degrees = G.degree(weight=\"weight\")\n",
    "    else:\n",
    "        degrees = G.degree()\n",
    "        \n",
    "    _, deg_list = zip(*degrees)\n",
    "    deg_counts = Counter(deg_list)       \n",
    "    x, y = zip(*deg_counts.items())                                                      \n",
    "\n",
    "    plt.figure(1)   \n",
    "\n",
    "    # prep axes   \n",
    "    if weighted:\n",
    "        plt.xlabel('weighted degree')  \n",
    "    else:\n",
    "        plt.xlabel('degree')                                                                                                             \n",
    "    plt.xscale(xscale)                                                                                                                \n",
    "    plt.xlim(1, max(x))  \n",
    "\n",
    "    plt.ylabel('frequency')                                                                                                          \n",
    "    plt.yscale(yscale)                                                                                                                \n",
    "    plt.ylim(1, max(y))                                                                                                             \n",
    "                                                                                                                                                                                                    \n",
    "    plt.scatter(x, y, marker='.')                                                                                                    \n",
    "    plt.show()"
   ]
  },
  {
   "cell_type": "code",
   "execution_count": 21,
   "metadata": {},
   "outputs": [
    {
     "data": {
      "image/png": "[encoded data removed]",
      "text/plain": [
       "<Figure size 432x288 with 1 Axes>"
      ]
     },
     "metadata": {
      "needs_background": "light"
     },
     "output_type": "display_data"
    }
   ],
   "source": [
    "plot_deg_frequency(G)"
   ]
  },
  {
   "cell_type": "code",
   "execution_count": 22,
   "metadata": {},
   "outputs": [
    {
     "data": {
      "image/png": "[encoded data removed]",
      "text/plain": [
       "<Figure size 432x288 with 1 Axes>"
      ]
     },
     "metadata": {
      "needs_background": "light"
     },
     "output_type": "display_data"
    }
   ],
   "source": [
    "plot_deg_frequency(G, weighted = True)"
   ]
  },
  {
   "cell_type": "code",
   "execution_count": 206,
   "metadata": {},
   "outputs": [
    {
     "data": {
      "image/png": "[encoded data removed]",
      "text/plain": [
       "<Figure size 432x288 with 1 Axes>"
      ]
     },
     "metadata": {
      "needs_background": "light"
     },
     "output_type": "display_data"
    }
   ],
   "source": [
    "degree_sequence = sorted([d for n, d in G.degree()], reverse=True)\n",
    "degreeCount = Counter(degree_sequence)\n",
    "deg, cnt = zip(*degreeCount.items())\n",
    "\n",
    "max_deg = max(deg)\n",
    "\n",
    "# calculating histogram\n",
    "values, base = np.histogram(deg, bins = max_deg)\n",
    "\n",
    "# cumulative sum\n",
    "cumulative = np.cumsum(values)\n",
    "\n",
    "# Ploting complementary cumulative degree distribution P(X>x)\n",
    "plt.plot(base[:-1], [float(x)/len(G) for x in len(G) - cumulative], c='blue')\n",
    "\n",
    "plt.show()"
   ]
  },
  {
   "cell_type": "code",
   "execution_count": 200,
   "metadata": {},
   "outputs": [
    {
     "name": "stdout",
     "output_type": "stream",
     "text": [
      "Calculating best minimal value for power law fit\n",
      "xmin progress: 00%\r",
      "xmin progress: 00%\r",
      "xmin progress: 00%\r",
      "xmin progress: 00%\r",
      "xmin progress: 00%\r",
      "xmin progress: 01%\r",
      "xmin progress: 01%\r",
      "xmin progress: 01%\r",
      "xmin progress: 01%\r",
      "xmin progress: 01%\r",
      "xmin progress: 02%\r",
      "xmin progress: 02%\r",
      "xmin progress: 02%\r",
      "xmin progress: 02%\r",
      "xmin progress: 02%\r",
      "xmin progress: 03%\r",
      "xmin progress: 03%\r",
      "xmin progress: 03%\r",
      "xmin progress: 03%\r",
      "xmin progress: 03%\r",
      "xmin progress: 04%\r",
      "xmin progress: 04%\r",
      "xmin progress: 04%\r",
      "xmin progress: 04%\r",
      "xmin progress: 05%\r",
      "xmin progress: 05%\r",
      "xmin progress: 05%\r",
      "xmin progress: 05%\r",
      "xmin progress: 05%\r",
      "xmin progress: 06%\r",
      "xmin progress: 06%\r",
      "xmin progress: 06%\r",
      "xmin progress: 06%\r",
      "xmin progress: 06%\r",
      "xmin progress: 07%\r",
      "xmin progress: 07%\r",
      "xmin progress: 07%\r",
      "xmin progress: 07%\r",
      "xmin progress: 07%\r",
      "xmin progress: 08%\r",
      "xmin progress: 08%\r",
      "xmin progress: 08%\r",
      "xmin progress: 08%\r",
      "xmin progress: 08%\r",
      "xmin progress: 09%\r",
      "xmin progress: 09%\r",
      "xmin progress: 09%\r",
      "xmin progress: 09%\r",
      "xmin progress: 10%\r",
      "xmin progress: 10%\r",
      "xmin progress: 10%\r",
      "xmin progress: 10%\r",
      "xmin progress: 10%\r",
      "xmin progress: 11%\r",
      "xmin progress: 11%\r",
      "xmin progress: 11%\r",
      "xmin progress: 11%\r",
      "xmin progress: 11%\r",
      "xmin progress: 12%\r",
      "xmin progress: 12%\r",
      "xmin progress: 12%\r",
      "xmin progress: 12%\r",
      "xmin progress: 12%\r",
      "xmin progress: 13%\r",
      "xmin progress: 13%\r",
      "xmin progress: 13%\r",
      "xmin progress: 13%\r",
      "xmin progress: 14%\r",
      "xmin progress: 14%\r",
      "xmin progress: 14%\r",
      "xmin progress: 14%\r",
      "xmin progress: 14%\r",
      "xmin progress: 15%\r",
      "xmin progress: 15%\r",
      "xmin progress: 15%\r",
      "xmin progress: 15%\r",
      "xmin progress: 15%\r",
      "xmin progress: 16%\r",
      "xmin progress: 16%\r",
      "xmin progress: 16%\r",
      "xmin progress: 16%\r",
      "xmin progress: 16%\r",
      "xmin progress: 17%\r",
      "xmin progress: 17%\r",
      "xmin progress: 17%\r",
      "xmin progress: 17%\r",
      "xmin progress: 17%\r",
      "xmin progress: 18%\r",
      "xmin progress: 18%\r",
      "xmin progress: 18%\r",
      "xmin progress: 18%\r",
      "xmin progress: 19%\r",
      "xmin progress: 19%\r",
      "xmin progress: 19%\r",
      "xmin progress: 19%\r",
      "xmin progress: 19%\r",
      "xmin progress: 20%\r",
      "xmin progress: 20%\r",
      "xmin progress: 20%\r",
      "xmin progress: 20%\r",
      "xmin progress: 20%\r",
      "xmin progress: 21%\r",
      "xmin progress: 21%\r",
      "xmin progress: 21%\r",
      "xmin progress: 21%\r",
      "xmin progress: 21%\r",
      "xmin progress: 22%\r",
      "xmin progress: 22%\r",
      "xmin progress: 22%\r",
      "xmin progress: 22%\r",
      "xmin progress: 23%\r",
      "xmin progress: 23%\r",
      "xmin progress: 23%\r",
      "xmin progress: 23%\r",
      "xmin progress: 23%\r",
      "xmin progress: 24%\r",
      "xmin progress: 24%\r",
      "xmin progress: 24%\r",
      "xmin progress: 24%\r",
      "xmin progress: 24%\r",
      "xmin progress: 25%\r",
      "xmin progress: 25%\r",
      "xmin progress: 25%\r",
      "xmin progress: 25%\r",
      "xmin progress: 25%\r",
      "xmin progress: 26%\r",
      "xmin progress: 26%\r",
      "xmin progress: 26%\r",
      "xmin progress: 26%\r",
      "xmin progress: 26%\r",
      "xmin progress: 27%\r",
      "xmin progress: 27%\r",
      "xmin progress: 27%\r",
      "xmin progress: 27%\r",
      "xmin progress: 28%\r",
      "xmin progress: 28%\r",
      "xmin progress: 28%\r",
      "xmin progress: 28%\r",
      "xmin progress: 28%\r",
      "xmin progress: 29%\r",
      "xmin progress: 29%\r",
      "xmin progress: 29%\r",
      "xmin progress: 29%\r",
      "xmin progress: 29%\r",
      "xmin progress: 30%\r",
      "xmin progress: 30%\r",
      "xmin progress: 30%\r",
      "xmin progress: 30%\r",
      "xmin progress: 30%\r",
      "xmin progress: 31%\r",
      "xmin progress: 31%\r",
      "xmin progress: 31%\r",
      "xmin progress: 31%\r",
      "xmin progress: 32%\r",
      "xmin progress: 32%\r",
      "xmin progress: 32%\r",
      "xmin progress: 32%\r",
      "xmin progress: 32%\r",
      "xmin progress: 33%\r",
      "xmin progress: 33%\r",
      "xmin progress: 33%\r",
      "xmin progress: 33%\r",
      "xmin progress: 33%\r",
      "xmin progress: 34%\r",
      "xmin progress: 34%\r",
      "xmin progress: 34%\r",
      "xmin progress: 34%\r",
      "xmin progress: 34%\r",
      "xmin progress: 35%\r",
      "xmin progress: 35%\r",
      "xmin progress: 35%\r",
      "xmin progress: 35%\r",
      "xmin progress: 35%\r",
      "xmin progress: 36%\r",
      "xmin progress: 36%\r",
      "xmin progress: 36%\r",
      "xmin progress: 36%\r",
      "xmin progress: 37%\r",
      "xmin progress: 37%\r",
      "xmin progress: 37%\r",
      "xmin progress: 37%\r",
      "xmin progress: 37%\r",
      "xmin progress: 38%\r",
      "xmin progress: 38%\r",
      "xmin progress: 38%\r",
      "xmin progress: 38%\r",
      "xmin progress: 38%\r",
      "xmin progress: 39%\r",
      "xmin progress: 39%\r",
      "xmin progress: 39%\r",
      "xmin progress: 39%\r",
      "xmin progress: 39%\r",
      "xmin progress: 40%\r",
      "xmin progress: 40%\r",
      "xmin progress: 40%\r",
      "xmin progress: 40%\r",
      "xmin progress: 41%\r",
      "xmin progress: 41%\r",
      "xmin progress: 41%\r",
      "xmin progress: 41%\r",
      "xmin progress: 41%\r",
      "xmin progress: 42%\r",
      "xmin progress: 42%\r",
      "xmin progress: 42%\r",
      "xmin progress: 42%\r",
      "xmin progress: 42%\r",
      "xmin progress: 43%\r",
      "xmin progress: 43%\r",
      "xmin progress: 43%\r",
      "xmin progress: 43%\r",
      "xmin progress: 43%\r",
      "xmin progress: 44%\r",
      "xmin progress: 44%\r",
      "xmin progress: 44%\r",
      "xmin progress: 44%\r",
      "xmin progress: 44%\r",
      "xmin progress: 45%\r",
      "xmin progress: 45%\r",
      "xmin progress: 45%\r",
      "xmin progress: 45%\r",
      "xmin progress: 46%\r",
      "xmin progress: 46%\r",
      "xmin progress: 46%\r",
      "xmin progress: 46%\r",
      "xmin progress: 46%\r",
      "xmin progress: 47%\r",
      "xmin progress: 47%\r",
      "xmin progress: 47%\r",
      "xmin progress: 47%\r",
      "xmin progress: 47%\r",
      "xmin progress: 48%\r",
      "xmin progress: 48%\r",
      "xmin progress: 48%\r",
      "xmin progress: 48%\r",
      "xmin progress: 48%\r",
      "xmin progress: 49%\r",
      "xmin progress: 49%\r",
      "xmin progress: 49%\r",
      "xmin progress: 49%\r",
      "xmin progress: 50%\r",
      "xmin progress: 50%\r",
      "xmin progress: 50%\r",
      "xmin progress: 50%\r",
      "xmin progress: 50%\r",
      "xmin progress: 51%\r",
      "xmin progress: 51%\r",
      "xmin progress: 51%\r",
      "xmin progress: 51%\r",
      "xmin progress: 51%\r",
      "xmin progress: 52%\r",
      "xmin progress: 52%\r",
      "xmin progress: 52%\r",
      "xmin progress: 52%\r",
      "xmin progress: 52%\r",
      "xmin progress: 53%\r",
      "xmin progress: 53%\r",
      "xmin progress: 53%\r",
      "xmin progress: 53%\r",
      "xmin progress: 53%\r",
      "xmin progress: 54%\r",
      "xmin progress: 54%\r",
      "xmin progress: 54%\r",
      "xmin progress: 54%\r",
      "xmin progress: 55%\r",
      "xmin progress: 55%\r",
      "xmin progress: 55%\r",
      "xmin progress: 55%\r",
      "xmin progress: 55%\r",
      "xmin progress: 56%\r",
      "xmin progress: 56%\r",
      "xmin progress: 56%\r",
      "xmin progress: 56%\r",
      "xmin progress: 56%\r",
      "xmin progress: 57%\r",
      "xmin progress: 57%\r",
      "xmin progress: 57%\r",
      "xmin progress: 57%\r",
      "xmin progress: 57%\r",
      "xmin progress: 58%\r",
      "xmin progress: 58%\r",
      "xmin progress: 58%\r",
      "xmin progress: 58%\r",
      "xmin progress: 58%\r",
      "xmin progress: 59%\r",
      "xmin progress: 59%\r",
      "xmin progress: 59%\r",
      "xmin progress: 59%\r",
      "xmin progress: 60%\r",
      "xmin progress: 60%\r",
      "xmin progress: 60%\r",
      "xmin progress: 60%\r",
      "xmin progress: 60%\r",
      "xmin progress: 61%\r",
      "xmin progress: 61%\r",
      "xmin progress: 61%\r",
      "xmin progress: 61%\r",
      "xmin progress: 61%\r",
      "xmin progress: 62%\r",
      "xmin progress: 62%\r",
      "xmin progress: 62%\r",
      "xmin progress: 62%\r",
      "xmin progress: 62%\r",
      "xmin progress: 63%\r",
      "xmin progress: 63%\r",
      "xmin progress: 63%\r",
      "xmin progress: 63%\r",
      "xmin progress: 64%\r",
      "xmin progress: 64%\r",
      "xmin progress: 64%\r",
      "xmin progress: 64%\r",
      "xmin progress: 64%\r",
      "xmin progress: 65%\r",
      "xmin progress: 65%\r",
      "xmin progress: 65%\r",
      "xmin progress: 65%\r",
      "xmin progress: 65%\r",
      "xmin progress: 66%\r",
      "xmin progress: 66%\r",
      "xmin progress: 66%\r",
      "xmin progress: 66%\r",
      "xmin progress: 66%\r",
      "xmin progress: 67%\r",
      "xmin progress: 67%\r",
      "xmin progress: 67%\r",
      "xmin progress: 67%\r",
      "xmin progress: 67%\r",
      "xmin progress: 68%\r",
      "xmin progress: 68%\r",
      "xmin progress: 68%\r",
      "xmin progress: 68%\r",
      "xmin progress: 69%\r",
      "xmin progress: 69%\r",
      "xmin progress: 69%\r",
      "xmin progress: 69%\r",
      "xmin progress: 69%\r",
      "xmin progress: 70%\r",
      "xmin progress: 70%\r",
      "xmin progress: 70%\r",
      "xmin progress: 70%\r",
      "xmin progress: 70%\r",
      "xmin progress: 71%\r",
      "xmin progress: 71%\r",
      "xmin progress: 71%\r",
      "xmin progress: 71%\r",
      "xmin progress: 71%\r",
      "xmin progress: 72%\r",
      "xmin progress: 72%\r",
      "xmin progress: 72%\r",
      "xmin progress: 72%\r",
      "xmin progress: 73%\r",
      "xmin progress: 73%\r",
      "xmin progress: 73%\r",
      "xmin progress: 73%\r",
      "xmin progress: 73%\r",
      "xmin progress: 74%\r",
      "xmin progress: 74%\r",
      "xmin progress: 74%\r",
      "xmin progress: 74%\r",
      "xmin progress: 74%\r",
      "xmin progress: 75%\r",
      "xmin progress: 75%\r",
      "xmin progress: 75%\r",
      "xmin progress: 75%\r",
      "xmin progress: 75%\r",
      "xmin progress: 76%\r",
      "xmin progress: 76%\r",
      "xmin progress: 76%\r",
      "xmin progress: 76%\r",
      "xmin progress: 76%\r",
      "xmin progress: 77%\r",
      "xmin progress: 77%\r",
      "xmin progress: 77%\r",
      "xmin progress: 77%\r",
      "xmin progress: 78%\r",
      "xmin progress: 78%\r",
      "xmin progress: 78%\r",
      "xmin progress: 78%\r",
      "xmin progress: 78%\r",
      "xmin progress: 79%\r",
      "xmin progress: 79%\r",
      "xmin progress: 79%\r",
      "xmin progress: 79%\r",
      "xmin progress: 79%\r",
      "xmin progress: 80%\r",
      "xmin progress: 80%\r",
      "xmin progress: 80%\r",
      "xmin progress: 80%\r",
      "xmin progress: 80%\r",
      "xmin progress: 81%\r",
      "xmin progress: 81%\r",
      "xmin progress: 81%\r",
      "xmin progress: 81%\r",
      "xmin progress: 82%\r",
      "xmin progress: 82%\r",
      "xmin progress: 82%\r",
      "xmin progress: 82%\r",
      "xmin progress: 82%\r",
      "xmin progress: 83%\r",
      "xmin progress: 83%\r",
      "xmin progress: 83%\r",
      "xmin progress: 83%\r",
      "xmin progress: 83%\r",
      "xmin progress: 84%\r",
      "xmin progress: 84%\r",
      "xmin progress: 84%\r",
      "xmin progress: 84%\r",
      "xmin progress: 84%\r",
      "xmin progress: 85%\r",
      "xmin progress: 85%\r",
      "xmin progress: 85%\r",
      "xmin progress: 85%\r",
      "xmin progress: 85%\r",
      "xmin progress: 86%\r",
      "xmin progress: 86%\r",
      "xmin progress: 86%\r",
      "xmin progress: 86%\r",
      "xmin progress: 87%\r",
      "xmin progress: 87%\r",
      "xmin progress: 87%\r",
      "xmin progress: 87%\r",
      "xmin progress: 87%\r",
      "xmin progress: 88%\r",
      "xmin progress: 88%\r",
      "xmin progress: 88%\r",
      "xmin progress: 88%\r",
      "xmin progress: 88%\r",
      "xmin progress: 89%\r",
      "xmin progress: 89%\r",
      "xmin progress: 89%\r",
      "xmin progress: 89%\r",
      "xmin progress: 89%\r",
      "xmin progress: 90%\r",
      "xmin progress: 90%\r",
      "xmin progress: 90%\r",
      "xmin progress: 90%\r",
      "xmin progress: 91%\r",
      "xmin progress: 91%\r",
      "xmin progress: 91%\r",
      "xmin progress: 91%\r",
      "xmin progress: 91%\r",
      "xmin progress: 92%\r",
      "xmin progress: 92%\r",
      "xmin progress: 92%\r",
      "xmin progress: 92%\r",
      "xmin progress: 92%\r",
      "xmin progress: 93%\r",
      "xmin progress: 93%\r",
      "xmin progress: 93%\r",
      "xmin progress: 93%\r",
      "xmin progress: 93%\r",
      "xmin progress: 94%\r",
      "xmin progress: 94%\r",
      "xmin progress: 94%\r",
      "xmin progress: 94%\r",
      "xmin progress: 94%\r",
      "xmin progress: 95%\r",
      "xmin progress: 95%\r",
      "xmin progress: 95%\r",
      "xmin progress: 95%\r",
      "xmin progress: 96%\r",
      "xmin progress: 96%\r",
      "xmin progress: 96%\r",
      "xmin progress: 96%\r",
      "xmin progress: 96%\r",
      "xmin progress: 97%\r",
      "xmin progress: 97%\r",
      "xmin progress: 97%\r",
      "xmin progress: 97%\r",
      "xmin progress: 97%\r",
      "xmin progress: 98%\r",
      "xmin progress: 98%\r",
      "xmin progress: 98%\r",
      "xmin progress: 98%\r",
      "xmin progress: 98%\r",
      "xmin progress: 99%\r",
      "xmin progress: 99%\r",
      "xmin progress: 99%\r",
      "xmin progress: 99%\r",
      "{'power_law': <class 'powerlaw.Power_Law'>, 'lognormal': <class 'powerlaw.Lognormal'>, 'exponential': <class 'powerlaw.Exponential'>, 'truncated_power_law': <class 'powerlaw.Truncated_Power_Law'>, 'stretched_exponential': <class 'powerlaw.Stretched_Exponential'>, 'lognormal_positive': <class 'powerlaw.Lognormal_Positive'>}\n"
     ]
    }
   ],
   "source": [
    "results = powerlaw.Fit(degree_sequence)\n",
    "\n",
    "print(results.supported_distributions)\n"
   ]
  },
  {
   "cell_type": "code",
   "execution_count": 202,
   "metadata": {},
   "outputs": [
    {
     "name": "stdout",
     "output_type": "stream",
     "text": [
      "2.2464911508648253\n",
      "156.0\n",
      "0.056025610831647574\n",
      "Loglikelihood ratio: -12.644147229109814\n",
      "Statistical significance: 0.001085624099228952\n",
      "Loglikelihood ratio: 22.582676543743453\n",
      "Statistical significance: 0.0730904396689174\n",
      "Loglikelihood ratio: -15.613893371177623\n",
      "Statistical significance: 2.2945806810170666e-08\n"
     ]
    },
    {
     "name": "stderr",
     "output_type": "stream",
     "text": [
      "Assuming nested distributions\n"
     ]
    }
   ],
   "source": [
    "print(results.power_law.alpha)\n",
    "print(results.power_law.xmin)\n",
    "print(results.power_law.sigma)\n",
    "R, p = results.distribution_compare('power_law', 'lognormal')\n",
    "print(f\"Loglikelihood ratio: {R}\")\n",
    "print(f\"Statistical significance: {p}\")\n",
    "R, p = results.distribution_compare('power_law', 'exponential')\n",
    "print(f\"Loglikelihood ratio: {R}\")\n",
    "print(f\"Statistical significance: {p}\")\n",
    "R, p = results.distribution_compare('power_law', 'truncated_power_law')\n",
    "print(f\"Loglikelihood ratio: {R}\")\n",
    "print(f\"Statistical significance: {p}\")"
   ]
  },
  {
   "cell_type": "code",
   "execution_count": 23,
   "metadata": {},
   "outputs": [
    {
     "name": "stdout",
     "output_type": "stream",
     "text": [
      "SNet Hubs\n",
      "\n",
      "('reddit.com', 0.0634892676099054)\n",
      "('politics', 0.052982234075869876)\n",
      "('pics', 0.0494552512378013)\n",
      "('funny', 0.04737307262556406)\n",
      "('science', 0.04626831071461235)\n",
      "('technology', 0.04472677605948191)\n",
      "('worldnews', 0.043866658907851894)\n",
      "('WTF', 0.043621869159447185)\n",
      "('entertainment', 0.04186640209205595)\n",
      "('programming', 0.037392328450102055)\n",
      "\n",
      "SNet Authorities\n",
      "\n",
      "('reddit.com', 0.06348926760990539)\n",
      "('politics', 0.05298223407586986)\n",
      "('pics', 0.0494552512378013)\n",
      "('funny', 0.04737307262556407)\n",
      "('science', 0.04626831071461234)\n",
      "('technology', 0.044726776059481915)\n",
      "('worldnews', 0.0438666589078519)\n",
      "('WTF', 0.04362186915944719)\n",
      "('entertainment', 0.04186640209205595)\n",
      "('programming', 0.037392328450102076)\n"
     ]
    }
   ],
   "source": [
    "#1.15 Hubs and authorities\n",
    "hubs, authorities =nx.hits(G)\n",
    "\n",
    "hub_items = sorted(hubs.items(), key=operator.itemgetter(1), reverse=True)[:10]\n",
    "print(\"SNet Hubs\\n\")\n",
    "for hub_item in hub_items:\n",
    "    print(hub_item)\n",
    "\n",
    "authority_items = sorted(authorities.items(), key=operator.itemgetter(1), reverse=True)[:10]\n",
    "print(\"\\nSNet Authorities\\n\")\n",
    "for authority_item in authority_items:\n",
    "    print(authority_item)"
   ]
  },
  {
   "cell_type": "code",
   "execution_count": 24,
   "metadata": {},
   "outputs": [
    {
     "name": "stdout",
     "output_type": "stream",
     "text": [
      "Max core number :  192\n"
     ]
    }
   ],
   "source": [
    "#Find core nodes\n",
    "\n",
    "core_number = nx.core_number(G)\n",
    "max_core_number = max(core_number.values())\n",
    "print(\"Max core number : \", max_core_number)\n",
    "\n",
    "    \n",
    "#All hub/authorities are in core of network"
   ]
  },
  {
   "cell_type": "code",
   "execution_count": 227,
   "metadata": {},
   "outputs": [
    {
     "name": "stdout",
     "output_type": "stream",
     "text": [
      "Top 10 Degree centrality:\n",
      "reddit.com \t\t 0.8921373829122906 \t 3143\n",
      "technology \t\t 0.6304286119784275 \t 2221\n",
      "politics \t\t 0.6275901220550667 \t 2211\n",
      "pics \t\t 0.6162361623616236 \t 2171\n",
      "funny \t\t 0.6026114107294919 \t 2123\n",
      "science \t\t 0.5975021288674425 \t 2105\n",
      "worldnews \t\t 0.5935282429747374 \t 2091\n",
      "entertainment \t\t 0.5850127732046551 \t 2061\n",
      "WTF \t\t 0.5801873403349418 \t 2044\n",
      "programming \t\t 0.5799034913426058 \t 2043\n"
     ]
    }
   ],
   "source": [
    "#1.16 \n",
    "#degree_centrality, closeness_centrality, betweenes_centrality\n",
    "print(\"Top 10 Degree centrality:\\n\")\n",
    "DC = nx.degree_centrality(G)\n",
    "dc_items = sorted(DC.items(), key=operator.itemgetter(1), reverse=True)[:10]\n",
    "for dc_item in dc_items:\n",
    "    print(dc_item[0], \"\\t\\t\",dc_item[1], \"\\t\",G.degree[dc_item[0]])\n"
   ]
  },
  {
   "cell_type": "code",
   "execution_count": 26,
   "metadata": {},
   "outputs": [
    {
     "name": "stdout",
     "output_type": "stream",
     "text": [
      "Top 10 Closeness centrality:\n",
      "\n",
      "\n",
      "reddit.com     0.9019457245263697\n",
      "technology     0.7283440148852595\n",
      "politics     0.7260923330585326\n",
      "pics     0.7201553556827474\n",
      "funny     0.7125809061488673\n",
      "science     0.710139084861923\n",
      "worldnews     0.7084254976875126\n",
      "entertainment     0.7040367705835332\n",
      "WTF     0.7013736810670914\n",
      "programming     0.700815595782773\n",
      "\n",
      "Top 10 Betweenness centrality:\n",
      "\n",
      "reddit.com     0.3686547520487645\n",
      "technology     0.04937105642143906\n",
      "programming     0.04363491513740279\n",
      "politics     0.04304902436498485\n",
      "business     0.04129223409955247\n",
      "entertainment     0.03775667884001717\n",
      "pics     0.03760614288944095\n",
      "worldnews     0.03365842774623493\n",
      "funny     0.032314804042720656\n",
      "science     0.031917276291879515\n"
     ]
    }
   ],
   "source": [
    "print(\"Top 10 Closeness centrality:\\n\\n\")\n",
    "CC = nx.closeness_centrality(G)\n",
    "cc_items = sorted(CC.items(), key=operator.itemgetter(1), reverse=True)[:10]\n",
    "for cc_item in cc_items:\n",
    "    node = cc_item[0]\n",
    "    print(cc_item[0], \"   \", cc_item[1])\n",
    "\n",
    "print(\"\\nTop 10 Betweenness centrality:\\n\")\n",
    "BC = nx.betweenness_centrality(G)\n",
    "bc_items = sorted(BC.items(), key=operator.itemgetter(1), reverse=True)[:10]\n",
    "for bc_item in bc_items:\n",
    "    node = bc_item[0];\n",
    "    print(bc_item[0], \"   \", bc_item[1])\n"
   ]
  },
  {
   "cell_type": "code",
   "execution_count": 229,
   "metadata": {},
   "outputs": [
    {
     "name": "stdout",
     "output_type": "stream",
     "text": [
      "\n",
      "Top 10 Eigenvector centrality:\n",
      "\n",
      "reddit.com     0.0869853759151425\n",
      "politics     0.0849974875047629\n",
      "technology     0.08495275088747631\n",
      "pics     0.08488712702959006\n",
      "science     0.0846269016537996\n",
      "funny     0.08459504891566152\n",
      "worldnews     0.08421867967487955\n",
      "WTF     0.08368474037729566\n",
      "entertainment     0.08336384940437629\n",
      "programming     0.08281215543735897\n"
     ]
    }
   ],
   "source": [
    "#1.17 Eigenvector centrality\n",
    "\n",
    "print(\"\\nTop 10 Eigenvector centrality:\\n\")\n",
    "EC = nx.eigenvector_centrality(G)\n",
    "ec_items = sorted(EC.items(), key=operator.itemgetter(1), reverse=True)[:10]\n",
    "for ec_item in ec_items:\n",
    "    print(ec_item[0], \"   \", ec_item[1])\n"
   ]
  },
  {
   "cell_type": "code",
   "execution_count": 3,
   "metadata": {},
   "outputs": [],
   "source": [
    "#1.18 Katz centrality\n",
    "\n",
    "def calculate_beta(default_beta, reddit_beta):\n",
    "    dict = {}\n",
    "    i = 0\n",
    "    for node in G.nodes():\n",
    "        if node == 'reddit.com':\n",
    "            dict[node] = reddit_beta\n",
    "        else:\n",
    "            dict[node] = default_beta\n",
    "        i+=1\n",
    "        \n",
    "    return dict\n"
   ]
  },
  {
   "cell_type": "code",
   "execution_count": 4,
   "metadata": {},
   "outputs": [
    {
     "name": "stdout",
     "output_type": "stream",
     "text": [
      "(5.451925984405687e-06+0j)\n"
     ]
    }
   ],
   "source": [
    "lambda_max =  max(nx.adjacency_spectrum(G))\n",
    "print(1/lambda_max)"
   ]
  },
  {
   "cell_type": "code",
   "execution_count": 5,
   "metadata": {},
   "outputs": [
    {
     "name": "stdout",
     "output_type": "stream",
     "text": [
      "reddit.com     (0.015273098900518325+0j)\n",
      "technology     (0.01523503821027116+0j)\n",
      "politics     (0.015234625345939582+0j)\n",
      "pics     (0.015232974126722755+0j)\n",
      "funny     (0.015230992597923642+0j)\n",
      "science     (0.015230249630723917+0j)\n",
      "worldnews     (0.015229671563045314+0j)\n",
      "entertainment     (0.015228432969938055+0j)\n",
      "WTF     (0.015227731246410805+0j)\n",
      "programming     (0.015227689795011438+0j)\n"
     ]
    },
    {
     "name": "stderr",
     "output_type": "stream",
     "text": [
      "C:\\Users\\sretenp\\Anaconda3\\lib\\site-packages\\networkx\\algorithms\\centrality\\katz.py:184: ComplexWarning: Casting complex values to real discards the imaginary part\n",
      "  s = 1.0 / sqrt(sum(v ** 2 for v in x.values()))\n"
     ]
    }
   ],
   "source": [
    "KC = nx.katz_centrality(G, alpha=1/(2*lambda_max), beta=1.0, max_iter=1000, tol=1e-06, nstart=None, normalized=True, weight=None)\n",
    "kc_items = sorted(KC.items(), key=operator.itemgetter(1), reverse=True)[:10]\n",
    "for kc_item in kc_items:\n",
    "    print(kc_item[0], \"   \", kc_item[1])"
   ]
  },
  {
   "cell_type": "code",
   "execution_count": 6,
   "metadata": {},
   "outputs": [
    {
     "name": "stdout",
     "output_type": "stream",
     "text": [
      "reddit.com     (0.04750841832002927+0j)\n",
      "politics     (0.041888884286598135+0j)\n",
      "pics     (0.0402947088873711+0j)\n",
      "funny     (0.03923188438544093+0j)\n",
      "science     (0.03875406522475151+0j)\n",
      "technology     (0.03792700762289277+0j)\n",
      "WTF     (0.037413989587874646+0j)\n",
      "worldnews     (0.03741262673799614+0j)\n",
      "entertainment     (0.036423310911065765+0j)\n",
      "programming     (0.034095006170716556+0j)\n"
     ]
    }
   ],
   "source": [
    "KC = nx.katz_centrality(G, alpha=1/(2*lambda_max), beta=1.0, max_iter=1000, tol=1e-06, nstart=None, normalized=True, weight='weight')\n",
    "kc_items = sorted(KC.items(), key=operator.itemgetter(1), reverse=True)[:10]\n",
    "for kc_item in kc_items:\n",
    "    print(kc_item[0], \"   \", kc_item[1])"
   ]
  },
  {
   "cell_type": "code",
   "execution_count": 10,
   "metadata": {},
   "outputs": [
    {
     "name": "stdout",
     "output_type": "stream",
     "text": [
      "reddit.com     (0.06349001857351431+0j)\n",
      "politics     (0.04387267950730567+0j)\n",
      "pics     (0.042011669777274815+0j)\n",
      "funny     (0.04085804970500777+0j)\n",
      "science     (0.04033026330552025+0j)\n",
      "technology     (0.03949476190703619+0j)\n",
      "worldnews     (0.03890314148482572+0j)\n",
      "WTF     (0.03887091569465365+0j)\n",
      "entertainment     (0.03789771889121953+0j)\n",
      "programming     (0.03537494299238236+0j)\n"
     ]
    }
   ],
   "source": [
    "KC = nx.katz_centrality(G, alpha=1/(2*lambda_max), beta=calculate_beta(1,2), max_iter=1000, tol=1e-06, nstart=None, normalized=True, weight='weight')\n",
    "kc_items = sorted(KC.items(), key=operator.itemgetter(1), reverse=True)[:10]\n",
    "for kc_item in kc_items:\n",
    "    print(kc_item[0], \"   \", kc_item[1])"
   ]
  },
  {
   "cell_type": "code",
   "execution_count": 9,
   "metadata": {},
   "outputs": [
    {
     "name": "stdout",
     "output_type": "stream",
     "text": [
      "reddit.com     (0.060598214922778934+0j)\n",
      "technology     (0.015208848474197666+0j)\n",
      "politics     (0.015208436320273189+0j)\n",
      "pics     (0.015206787940925493+0j)\n",
      "funny     (0.01520480981947628+0j)\n",
      "science     (0.01520406813014439+0j)\n",
      "worldnews     (0.015203491056191636+0j)\n",
      "entertainment     (0.015202254589924857+0j)\n",
      "WTF     (0.015201554074713993+0j)\n",
      "programming     (0.015201512682777819+0j)\n"
     ]
    }
   ],
   "source": [
    "KC = nx.katz_centrality(G, alpha=1/(2*lambda_max), beta=calculate_beta(1,4), max_iter=1000, tol=1e-06, nstart=None, normalized=True, weight='weight')\n",
    "kc_items = sorted(KC.items(), key=operator.itemgetter(1), reverse=True)[:10]\n",
    "for kc_item in kc_items:\n",
    "    print(kc_item[0], \"   \", kc_item[1])"
   ]
  },
  {
   "cell_type": "code",
   "execution_count": null,
   "metadata": {},
   "outputs": [],
   "source": [
    "#1.20 Spektralna analiza\n",
    "#Couldn't calculate because of complexity - 0(n^3)\n"
   ]
  },
  {
   "cell_type": "code",
   "execution_count": 25,
   "metadata": {},
   "outputs": [
    {
     "name": "stdout",
     "output_type": "stream",
     "text": [
      "Potential most influencial brokers:  {'obama', 'love', 'Mustang', 'AquariumFish', 'MotherAboutInsane', 'SafetyNews', 'Rickey', 'HomeBrewNews', 'salakedan', 'Big_Tits_old_Milfs', 'Weblogicguru', 'Reefing', 'EstwingTools', 'testname', 'USMLEMD', 'sar', 'YouPublish', 'monika', 'mobwisdom', 'Hair', 'Soccymartin', 'Jawad', 'egistb', 'awwcute', 'exboyfriendback', 'Francie', 'ten31', 'PaulShort', 'elain', 'PoplarGirl1', 'psyapsy', 'bestshoes', 'Hindi', 'azher', 'xrosswheeler', 'wristtattoo', 'netaudio', 'zinio', 'fr', 'NuyoRiquena', 'The_Fantasy_Art_Blog', 'weddingfavors', 'TinT', 'umass', 'walmartvitamins', 'realsurf', 'mormon', 'nsedreams', 'sporevote', 'jenn', 'peaceulloan', 'civildraftinservice', 'PawShow', 'skytourbeau', 'Voto', 'rosilawani', 'Lipstick', 'Canuckgook', 'SpoonBlog', 'Tandberg', 'JamesButterfield', 'capetownnews', 'Zensurf', 'pycon2008', 'Victoria', 'DNChamp', 'Xstaticarmchair', 'Mickreddit', 'Shailendra', 'MontrealTechWatch', 'AtulTanna', 'gamereviews', 'Nima', 'GamingIndustryNews', 'kharis', 'LeonaLewis', 'thestem', 'dcpanganiban', 'videointhetube', 'BLESSIE', 'WendyM', 'europeansolutions', 'AmandaNRoy', 'shamaaz', 'jeux_flash', 'HeyShae', 'AvaBea', 'sub', 'Nurse_dot_com', 'providentestate', 'Polilingua', 'Payday', 'Entrebloggers', 'Redants', 'wesley', 'RealLifeSketch', 'cleavepoetry', 'bdcburma', 'UsefulBlogs', 'dooblets', 'reference', 'biassaid', 'imoka', 'pics', 'DietHealth', 'wc2010', 'e2mars', 'usuiela', 'vod', 'maninee', 'homeschool', 'FelonReports', 'civilengineering', 'kokonios', 'MovieGab', 'myblogroom', 'social_bookmarking', 'WTF', 'redditua', 'apple', 'syok3gp', 'women', 'CollegeCounseling', 'dezvoltarepersonala', 'Interior', 'Grind_Vision', 'contrarian', 'de', 'blueoceandirect', 'orangeinks', 'clikdicks', 'Christmasparty', 'fundoo', 'kikko', 'Ambientalmente', 'galeej', 'Fivelead', 'mp3buff', 'clink', 'Packaging', 'Passion', 'blogofilia', 'efluential', 'Sports2Debate', 'greatpinoy', 'bigjimslade', 'ghostbusters', 'melbourne', 'tattoosofgirls2', 'Younai', 'nuxeo', 'UndiesDrawer', 'CO13', 'GregK', 'IRONMIKEHAMILTON', 'ZioNews', 'Mackorisnik', 'hapaxlegomena', 'crownedregal', 'littlestar', 'designerly', 'rhs', 'Gogogadgetwidget', 'webhosting', 'HairStraightener', 'ARYA', 'grant_tda', 'reddit.com', 'Debtfreehispanic', 'AskReddit', 'Chinese', 'ObammunismWatch', 'shenzhen', 'Archana', 'BintanLagoonResort', 'Mary', 'apple89', 'NewsPlus', 'politics', 'Manuj', 'HernandoRealty', 'Patty', 'Gopher', 'The_Trainer', 'bianca', 'consultingblog', 'Madumbi76', 'NewsGuru', 'sports', 'Melton', 'mental_helaht', 'Homebrewing101', 'programming', 'es', 'AppleApps', 'Swarming', 'LAlofts', 'storesaver', 'worldnews', 'jasonallenmiller', 'joesholmes', 'tmichaelcart', 'BustingDiva', 'nsfw', 'HealthcareErrors', 'bendnews', 'Xnews', 'QuickBooker', 'Authenticfashion', 'ashima28', 'Radixweb', 'Tonya', 'Simplyzigzag', 'troyflorida', 'SixHourStartup', 'Realty', 'CMMI', 'rentcentralpa', 'Pink', 'OnlineDating', 'whowantslove', 'Travelchacha', 'business', 'dixipix', 'cogsci', 'DreamHomes', 'themintchicks', 'productreview', 'altaVoz', 'Mosaic_Interactive', 'libattery', 'Cetatenie', 'matija', 'DHgate', 'jac481', 'webbuzzz', 'MensRights', 'YFRIndia', 'jltff', 'terryly', 'osbgroup', 'PUBLICADDS', 'GPSLLC', 'InnoGage', 'bulgaria', 'Arzum', 'vancec', 'ads', 'biphentinhealth', 'GeorgiaAquarium', 'technobay', 'Gossiptainment', 'computergraphics', 'Tomcan', 'davidhood189', 'azliensa', 'hypatia', 'KeralaWebWorks', 'China', 'ArtBook', 'Teachforever', 'LittleToddler', 'LBD', 'xaluan', 'lolz', 'SamuiBeachVillage', 'comics', 'alexda', 'creditwrench', 'SearchMyCampus', 'Houseofbikers', 'Pauliespoint', 'BDJobs', 'Altamente', 'PlanetaCiencia', 'BlackBlog', 'Personalized', 'Nurseries', 'freemusic', 'Alexanderc', 'spark', 'FAIRFederation', 'kriminals', 'Sobhaneh', 'jecobsw', 'Memorials', 'trolls', 'Peiman', 'JaneDing', 'MoveFitness', 'Hans', 'cheats', 'BloZip', 'Hapi', 'paygossiper', 'Jaden', 'FrancieFace', 'Tenurist', 'Fixed', 'handletime', 'Anil', 'Filmzu', 'HouseMusic', 'backdropsource', 'HotWater', 'Sherewizki', 'gaming', 'PUAmethod', 'Vofferu', 'TodaysNewsBlog', 'Spanking', 'Sleeptreatment', 'aliyaleigh', 'letterwritingguide', 'f4forex', 'reproduction', 'vedicastrology', 'matrako', 'pitchengine', 'BlazersReddit', 'dgjohnston', 'it', 'lgbt', 'Haah', 'ThisIsMyTestRun', 'Dimas', 'ComProg', 'Dirtfloor', 'andrewdemm', 'sumobackup', 'Posters', 'CASTELATED', 'positivethinker', 'sharkarts', 'siliconflorist', 'chicagotribune', 'rdpriest', 'Bakugan', 'hurribugs', 'puppies', 'lds', 'TwilightGurl', 'ALALabAuto', 'Sakitha', 'Sense', 'techdorks', 'newcapitalclub', 'FlyerWiki', 'GreenEnergyNews', 'davebenzList', 'Dressupgurl', 'Mortgage', 'Allsmsmessages', 'bernsbarry', 'paulantoinem', 'guysharp', 'Lookieloo', 'files1000', 'Dwight', 'Widgets', 'poppins_reddit', 'CorporateCreative', 'cute04', 'WalKnDude', 'faridi', 'ScrappyMusic', 'cp_retailpos', 'anilobm', 'experiment1', 'Websites', 'femto', 'OCPaddler', 'cros', 'footballcupleague', 'Sexyf', 'environment', 'TrafficSchool', 'mainfo', 'science', 'dico', 'workathome', 'Blueyes0094', 'TheManifestStation', 'MyTotalKitchen', 'listmania', 'OnceAgain', 'avrham', 'ouddy', 'brentpurves', 'webanalyticsblog', 'ScottWhiskeyeBlog', 'oilexploration', 'AtlantisDivers', 'spk', 'zeuux', 'BusinessIntelligence', 'ChanningTatum', 'Everton', 'bushlegacyproject', 'Webroads', 'GGGGive', 'FiduciaryInvestment', 'loft20', 'Hardawrae', 'GreenTree', 'oracle', 'TheBeautyAcademy', 'dpolly', 'GrabberOrange', 'bliptv', 'sexyjapanx', 'recycled', 'CriminalBR', 'funny', 'entertainment', 'ebruce', 'Marijuana', 'beer', 'mndoci', 'Economics', 'nightbloom', 'Health', 'JessicaMooray', 'nsfw2', 'BeyondWords', 'Kristabell', 'Tiquicia', 'Paunchiness', 'wrexham', 'CODEcontent', 'BurrellColour', 'AegonReligare', 'BestApparel', 'cncrk', 'PhD', '3ren', 'callingIT', 'foradog', 'Rhonda', 'tr', 'kingrobotic', 'Haknit', 'grecosonthefly', 'Promotionals', '21212', 'getdomain', 'Embeddedavr', 'campusvideos', 'Powerplay', 'inflatable', 'FinancialTrading', 'LoanModification', 'tanjit', 'Ahken', 'MilleniumForce', 'iMarketing', 'technology', 'nintin', 'bestactorofiran', 'Webbook', 'Vanhomeless', 'gossip', 'abandoned', 'RedBalloonDays', 'off_topic', 'Lancement', 'Marius93', 'PreparedSociety', 'VGC', 'captainreboot', 'Senditcertified', 'Tryton', 'makhanhar', 'ZinioBest', 'ewing2001', 'valium', 'TechDaysTour', 'solar', 'Gabrella', 'Debt', 'CassandraTroy', 'Detox', 'billebert', 'Great', 'GameTech', 'yahooanswers', 'Infos', 'NEWWIDE', 'PrideNation', 'math', 'SCUK', 'stephanerd', 'OnlineShopping', 'valleyvoice', 'Viamedic', 'ChoosyHomeschoolers', 'Infosec2008', 'FTVgirls', 'ariyes', 'bathrooms', 'czech', 'ko', 'StitchSimply', 'gal', 'InTraser', 'Jesika', 'FlightSimulation', 'grist', 'Qtour', 'Jithin', 'gaidep', 'James1234', 'tashad', 'muzammal', 'reeemix', 'relationships', 'iloveeverything', 'mexico', 'TopPosition', 'Louis', 'GatorArcade', 'Opeth', 'Watches', 'sexzone', 'freesoftware', 'malwarecity', 'NSCocoa', 'jaichiru', 'Vipin', 'Musicoursoul', 'QueenSlimey', 'kratos', 'BrooklynFriends', 'adekeda', 'my_own_test_reddit', 'MDVC', 'parrots', 'OneMFriends', 'purity_products', 'sportnographe', 'pcolinks', 'VillasMoraira', 'brendoreddit', 'viajeros', 'shtruc', 'revenue', 'Julie', 'chachadeals', 'hopes', 'Gracefullbabes', 'Heeroguy', 'holidays', 'chilereddit', 'plavix', 'Sukhpreet', 'GinsanaEnergy', 'Winworld', 'metart', 'Coach4u', 'AspiringMarketer', 'word', 'loynomsc', 'knowledgespeak', 'editgrid', 'OURANIMALFRIENDS', 'bonsaijon', 'myvideofight', 'harneu', 'signofthefox', 'BrickImaging', 'vitaminsforhairloss', 'bedla', 'atheism', 'frostih', 'radhoo', 'JPK', 'dwhost', 'PetsLoveJessica', 'MoneyAnswerTree', 'YankeeFlipperFeeder', 'houseless', 'Candice', 'Igor', 'OurChinese', 'ChileRemix', 'MonsterVine', 'DefendersOwn', 'fredwissman', 'ElementaryEducation', 'MegaJonasLova', 'search9', 'RedPrice', 'BookSmarts', 'solucionesseo', 'GreenCult', 'MilitantStuggles'}\n"
     ]
    }
   ],
   "source": [
    "#1.23\n",
    "bridges = list(nx.bridges(G))\n",
    "potential_brokers = []\n",
    "for bridge in bridges:\n",
    "    potential_brokers.append(bridge[0])\n",
    "    potential_brokers.append(bridge[1])\n",
    "print('Potential most influencial brokers: ',set(potential_brokers))"
   ]
  },
  {
   "cell_type": "code",
   "execution_count": 27,
   "metadata": {},
   "outputs": [
    {
     "name": "stdout",
     "output_type": "stream",
     "text": [
      "Most influencial brokers based on betweenes centrality\n",
      "reddit.com     0.3686547520487645\n",
      "technology     0.04937105642143906\n",
      "programming     0.04363491513740279\n",
      "politics     0.04304902436498485\n",
      "business     0.04129223409955247\n",
      "entertainment     0.03775667884001717\n",
      "pics     0.03760614288944095\n",
      "worldnews     0.03365842774623493\n",
      "funny     0.032314804042720656\n",
      "science     0.031917276291879515\n",
      "WTF     0.02849546111627981\n",
      "Chinese     0.014044014687369351\n",
      "gaming     0.012221818395893997\n",
      "Economics     0.010733825991583741\n",
      "AskReddit     0.010028973351065664\n",
      "nsfw     0.010000297129988444\n",
      "environment     0.009430288969051627\n",
      "atheism     0.008630839752859073\n",
      "comics     0.007200097548767125\n",
      "obama     0.005407476941709801\n",
      "Health     0.004994144165884502\n",
      "it     0.0044598562028012765\n",
      "ads     0.004392895906832522\n",
      "sports     0.0041240444080981545\n",
      "es     0.004034831456892147\n",
      "gossip     0.0032146865841833627\n",
      "cogsci     0.0029586772426389357\n",
      "de     0.0027909646564102768\n",
      "Marijuana     0.002734033763997474\n",
      "math     0.0027293660509219975\n",
      "ko     0.0022696636349144052\n",
      "women     0.002060613764551467\n",
      "apple     0.0018935006466424976\n",
      "beer     0.0016519967481341134\n",
      "fr     0.0016494035875529028\n",
      "tr     0.0014242312321526964\n",
      "MensRights     0.0013321587280246655\n",
      "lgbt     0.0012785774006682305\n",
      "Peiman     0.0011352347830908527\n",
      "dezvoltarepersonala     0.0011352347830908525\n",
      "Infos     0.0008993119183173863\n",
      "mexico     0.0008813579765656108\n",
      "Ambientalmente     0.0008668742608294449\n",
      "ChileRemix     0.000847214755406936\n",
      "Webbook     0.0007567049312033309\n",
      "social_bookmarking     0.0007510106198434274\n",
      "Realty     0.0006838227005977724\n",
      "China     0.0006167866173861352\n",
      "kriminals     0.0006144298200996741\n",
      "cheats     0.000609655358634238\n",
      "love     0.0005949731768077441\n",
      "freemusic     0.0005847878123062221\n",
      "bulgaria     0.0005809928995370477\n",
      "ZinioBest     0.0005773386454007045\n",
      "computergraphics     0.0005690547953364404\n",
      "sexzone     0.0005684508877057639\n",
      "homeschool     0.000568319682801908\n",
      "siliconflorist     0.0005678178381090617\n",
      "Mackorisnik     0.0005676979846721616\n",
      "PlanetaCiencia     0.0005676979846721544\n",
      "experiment1     0.0005676979846721544\n",
      "czech     0.0005676979846721536\n",
      "Voto     0.0005676979846721536\n",
      "Francie     0.0005676979846721523\n",
      "cute04     0.0005676979846721485\n",
      "lds     0.0005676979846721483\n"
     ]
    }
   ],
   "source": [
    "print('Most influencial brokers based on betweenes centrality')\n",
    "bc_items = sorted(BC.items(), key=operator.itemgetter(1), reverse=True)[:]\n",
    "for bc_item in bc_items:\n",
    "    if bc_item[0] in set(potential_brokers) and bc_item[1]>0:\n",
    "        print(bc_item[0], \"   \", bc_item[1])"
   ]
  },
  {
   "cell_type": "code",
   "execution_count": null,
   "metadata": {},
   "outputs": [],
   "source": []
  }
 ],
 "metadata": {
  "kernelspec": {
   "display_name": "Python 3 (ipykernel)",
   "language": "python",
   "name": "python3"
  },
  "language_info": {
   "codemirror_mode": {
    "name": "ipython",
    "version": 3
   },
   "file_extension": ".py",
   "mimetype": "text/x-python",
   "name": "python",
   "nbconvert_exporter": "python",
   "pygments_lexer": "ipython3",
   "version": "3.8.12"
  }
 },
 "nbformat": 4,
 "nbformat_minor": 4
}
