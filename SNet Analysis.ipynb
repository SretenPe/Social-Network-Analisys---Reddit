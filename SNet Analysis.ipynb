{
 "cells": [
  {
   "cell_type": "code",
   "execution_count": 1,
   "metadata": {},
   "outputs": [],
   "source": [
    "#!pip install powerlaw\n",
    "import pandas as pd\n",
    "import glob\n",
    "import numpy as np\n",
    "import pickle\n",
    "import networkx as nx\n",
    "import itertools\n",
    "import matplotlib.pyplot as plt\n",
    "from collections import Counter\n",
    "import powerlaw\n",
    "import math\n",
    "import operator"
   ]
  },
  {
   "cell_type": "code",
   "execution_count": 56,
   "metadata": {},
   "outputs": [],
   "source": [
    "unique_subreddits_path =r\"cleaned_data\\unique_subreddits\"\n",
    "with open(unique_subreddits_path, 'rb') as file:\n",
    "    unique_subreddits = pickle.load(file)\n",
    "\n",
    "with open(\"cleaned_data\\submissions_cleanead\", 'rb') as file:\n",
    "    submissions = pickle.load(file)\n",
    "\n",
    "with open(\"cleaned_data\\comments_cleanead\", 'rb') as file:\n",
    "    comments = pickle.load(file)"
   ]
  },
  {
   "cell_type": "code",
   "execution_count": 119,
   "metadata": {},
   "outputs": [
    {
     "name": "stdout",
     "output_type": "stream",
     "text": [
      "                       author    subreddit\n",
      "325999    zzzzzzzzzzzzzzzzzzz   reddit.com\n",
      "363069            zzzzzzzzzzz     politics\n",
      "362905            zzzzzzzzzzz   reddit.com\n",
      "551567                 zzzz71   reddit.com\n",
      "6168983              zzzz2008         pics\n",
      "...                       ...          ...\n",
      "443682   --------------------  programming\n",
      "443934   --------------------   reddit.com\n",
      "3052649               -------         pics\n",
      "486767          *polhold00149      science\n",
      "382541          *polhold00133   reddit.com\n",
      "\n",
      "[648031 rows x 2 columns]\n"
     ]
    }
   ],
   "source": [
    "submissions_authors_subreddits = submissions[['author', 'subreddit']]\n",
    "comments_authors_subreddits = comments[['author', 'subreddit']]\n",
    "\n",
    "frames = [submissions_authors_subreddits,comments_authors_subreddits]\n",
    "union_author_subreddit = pd.concat(frames)\n",
    "union_author_subreddit.drop_duplicates(subset=None, keep=\"first\", inplace=True)\n",
    "union_author_subreddit = union_author_subreddit.sort_values(by=['author'], ascending=False)\n",
    "print(union_author_subreddit)\n"
   ]
  },
  {
   "cell_type": "code",
   "execution_count": 120,
   "metadata": {},
   "outputs": [
    {
     "name": "stdout",
     "output_type": "stream",
     "text": [
      "['testingaufdeutsch', 'Military', 'ARG', 'pcmonteiro13', 'AmateurPorn', '7mooode', 'orsiko', 'dezvoltarepersonala', 'Eienelle', 'madG', 'gonewild', 'poker', 'DBpooper', 'bestentrepbooks', 'jbrains', 'forum', 'Coach4u', 'Agorism', 'CLVideos', 'WeGame', 'morrissey', 'giftfruit', 'Nurseries', 'Sporn', 'swapmeet', 'schneier', 'redditbay', 'ThisIsMyTestRun', 'comics', 'viet', 'russian', 'Suomi', 'VideoGameReviews', 'readit', 'philadelphia', 'badasshub', 'haneporg', 'ubiquity', 'Icreon', 'joel', 'CouchDB', 'Multiplayergames', 'investing', 'NSCocoa', 'sporevote', 'ada', 'StopitNow', 'weather', 'workathome', 'Gristmill', 'freelance', 'Clockwork', '777gambling', 'girlskissing', 'Polilingua', 'SignPetitions', 'secularism', 'Nima', 'motivationalspeech', 'bicycling', 'Poo', 'cycling', 'Sense', 'FlyerWiki', 'tf2', 'PawShow', 'SeeIt4Fun', 'ComProg', 'supdeeht', 'geyik', 'Neoogilvy', 'jeanculture', 'sexytern', 'cncrk', 'brasil', 'marcusjjam', 'DesignGrava', 'Zeitgeist', 'listmania', 'Bullet', 'Invites', 'Cow', 'Mackorisnik', 'jissmiss', 'freeculture', 'GoGreenUSA', 'realsurf', 'hackernews', 'ridiculous', 'Coq', 'ekerala', 'discgolf', 'justjim73', 'davidw', 'potus08', 'dak', 'Catalogbiz', 'Demoscene', 'gif', 'RenewLV', 'ohmygod', 'AmericanGovernment', 'scholarscamp', 'socialinvesting', 'Libertarian', 'shtruc', 'audioengineering', 'OperaMusic', 'Archana', 'energy', 'Wholesale_Products', 'Quality', 'Gabrella', 'Algereddit', 'ebookcompiler', 'gayporn', 'wecreate', 'actlocally', 'ads', 'echoe', 'JazzMusic', 'linguistics', 'NonAustrianEconomics', 'WendyM', 'Pflegehilfe', 'GiftIdeas', 'MailMeShirts', 'processsecrets', 'sociology', 'nachos', 'jengajam', 'worldwidewar', 'puerrit', 'RareList', 'Hannibal', 'photowalking', 'budiman', 'writeright', 'DrSpam', 'CandyCrib', 'Clickry', 'techinhiding', 'venezuela', 'ThriftyFinds', 'Amateur', 'amiga', 'Govvit', 'Tcl', 'redditCANADA', 'celebrities', 'PlorfWantsToKnow', 'ScrapMetalPrices', 'cfi', 'self2', 'Spore', 'Uberazzi', 'wallpaper', 'merb', 'Quirked', 'translation', 'macprogramming', 'lamengao', 'rem091', 'lists', 'minnesota', 'magick', 'zora', 'test', 'phish', 'conspiracies', 'esteem', 'IRO', 'zubii', 'WorldHistory', 'brothels', 'foreignaffairs', 'RevDevsReddit', 'WolfFrameworks', 'economy', 'fascinating', 'YomiuriGiants', 'darkreddit', 'UrbanExploring', 'TheBeautyAcademy', 'orangered', 'computers', 'netaudio', 'TechDispenser', 'lazy', 'badger', 'igr', 'youre_doing_it_wrong', 'joomla', 'Knowing', 'howto', 'yellowpagesturkey', 'transhumanism', 'geek', 'FantasticContraption', 'debian', 'Pork', 'Sex_Offender_Issues', 'FinancialTrading', 'chemistry', 'USNEWS', 'Reddichicks', 'testyreddit', 'CAKEWIN', 'SafetyNews', 'chucktaco', 'malaysia', 'inspirational', 'impoliteconverstaion', 'GSOH', 'Clojure', 'Phonecasting', 'buzznewsroom', 'bioinformatics', 'DigitalEdge', 'bnm', 'PlayadenBossa', 'gustav', 'closeoutcctv', 'Lipstick', 'billoreilly', 'crl', 'leagueofnonvoters', 'nuclear', 'soccer', 'Scribd', 'conspiracyhub', 'Tawn31', 'techdorks', 'nintendo', 'testtest', 'pittsburgh', 'NEWWIDE', 'Omemo', 'folk', 'WeAreTheFilmMakers', 'UndiesDrawer', 'pitchengine', 'WiscMUG', 'lolcats', 'WaybackMachine', 'prolog', 'Tees2Greens', 'greenbiz', 'basis', 'business2', 'Quran', 'Scotch', 'The_Idea_Shop', 'bjj', 'CueSportTV', 'Steve', 'redditua', 'bork', 'salakedan', 'agnostic', 'hilmy', '2008Olympics', 'ShepherdExpress', 'California', 'mplatz', 'Great', 'adnerds', 'COMMARKETING', 'Conservative', 'hopes', 'LionsSummit', 'eric', 'FreeOnlineGames', 'iolanguage', 'theantirobot', 'technology', 'Jurors', 'fuckXmas', 'oil', 'realestateinvesting', 'chentao807', 'atheism', 'AGo', 'southamerica', 'greenskeptics', 'BlackZoda', 'olivierg', 'onlinegames', 'healthcare', 'pics', 'whinybitchcirclejerk', 'cristyano', 'Owls', 'hapaxlegomena', 'WebGol', 'plasma', 'thingsthatarefun', 'Deliverator', 'Crazy', 'onlysc', 'Motorsport', 'searchisbroken', 'kratos', 'ireland', 'SOF', 'AtlantisDivers', 'iloveeverything', 'Jesika', 'BestSoccerPlayers', 'innovationGarage', 'african_music', 'wealdreamit', 'shock', 'Lindy', 'EnterpriseNation', 'getrealtest', 'advertising', 'akilito', 'nightbloom', 'geekmusic', 'Mickreddit', 'floridasux', 'orangeinks', 'dtsit', 'nerdcore', 'gadgets', 'blownmortgage', 'SantexQBlog', 'dico', 'Austin', 'disability', 'Unanimous', 'scissoring', 'Amazingdit', 'Psychedelic', 'kherisno', 'sandbox', 'hundredstensunits', 'bostonceltics', 'Informatics', 'FrancieFace', 'honestly', 'PhilosophyCorner', 'Way2Send', 'featurerequest', 'seanmichael', 'owie', 'crazybitch', 'linux', 'kevinbcp', 'NoDuh', 'YerbaMateCanada', 'parent', 'talespinner', 'Immunology', 'neoknight', 'LoanModification', 'dooblets', 'aws', 'houseofsodom', 'redditSubscribers', 'radiocontrol', 'chwakcha', 'rrrd', 'FunnyOlympic', 'CO13', 'teevee', 'Weird_Science', 'bonsaijon', 'BlackOps', 'MrChips', 'norge', 'WebTechBlog', 'ldingo', 'facts', 'Widgets', 'tissue', 'myst', 'newreddits', 'FootFetish', 'cannabis', 'BLS', 'autism', 'Shelia', 'buskers', 'hdemici', 'Yamen', 'MarketPicks', 'ohwhataworld', 'DHgate', 'Eve', 'TheSpidedrWebSystem', 'Horoscop', 'Gopi', 'indierock', 'stories', 'Defcon', 'dgjohnston', 'serious_news', 'runetnews', 'punthreads', 'DirtyJerz', 'onejerusalem', 'filesharing', 'DNChamp', 'hip_hop', 'gadgetlab', 'Dealzin8', 'p2ptech', 'Psychonaut', 'tips', 'DarK', 'beta1776', 'macdk', 'VolvoRWD', 'letterwritingguide', 'origami', 'Cafegadgets', 'organic', 'dilipm', 'relaxinbathsalts', 'ask', 'wc2010', 'visualization', 'frostih', 'Gracefullbabes', 'VenezuelaReddit', 'finance', 'futurenews', 'YankeeFlipperFeeder', 'lunchatdolbey', 'theg33kshow', 'gaijin', 'Israel', 'mileycyrus', 'Ajohn', 'til', 'Washington', 'mente_mecanica', 'dlatua', 'QueenSlimey', 'xrosswheeler', 'ThePerfectSmile', 'xbox360', 'thepale', 'wedding', 'PlookaWebsite', 'StevePohlit', 'yardsale', 'GrammarNazi', 'GeoAtreides', 'retrogaming', 'cool', 'adventuresports', 'arguments', 'HernandoRealty', 'MilwaukeeWebDesign', 'Pets', 'bathroomfix11', 'clownpenis_fart', 'Bratz', 'SuggestMusic', 'monocle', 'politics', 'takeurseat1', 'politicstoo', 'RockYourWeb', 'globalpoon', 'games4u', 'MomsRule', 'kitz007', 'Switzerland', 'TrivaniTeam', 'GameTech', 'vitaminsforhairloss', 'newspeak', 'musicians', 'MoneySavers', 'Parkour', 'sub', 'theology', 'ants', 'oddities', 'insideYC', 'CarteBlanche', 'travelers', 'pun', 'Igor', 'tldr', 'beer', 'JessicaMooray', 'rape', 'GreenProducts', 'antibacon', 'travel', 'charlenejones', 'INTELLECTUALPROPERTY', 'forestcityinstitute', 'no', 'LDbidz', 'questions', 'bestofcraigslist', 'wackyworld', 'latinoamerica', 'Fivelead', 'tapefind', 'zinio', 'aggieliberal', 'Brann', 'Younai', 'education', 'Redditnecks', 'gnu', 'Kristabell', 'ltr', 'custombusinesscards', 'love', 'Fantasy', 'tattoosofgirls2', 'Debtfreehispanic', 'Shinobi', 'DataZilla', 'Fyn', 'cooltales', 'Zonker', 'interviews', 'redditrevolution', 'panda', 'Slimemolds', 'Tacticum', 'Tenurist', 'bizarre', 'motiongraphics', 'Wordpress', 'jobia', 'SocialTheory', 'usuiela', 'Detox', 'Marijuana', 'contests', 'thailandhotels', 'SMS', 'BayuAditya', 'FixedGearBicycle', 'CarlitoxX_Jair', 'pua', 'newsfusion', 'oracle', 'tony', 'piercing', 'haiku', 'mysearch2008', 'Omorashi', 'Tinnagorn', 'sourceec', 'mauritius', 'tattoo', 'glitchee', 'survivor', 'RilySi', 'Gossiptainment', 'RealEstate', 'webdeals', 'notleavingreddit', 'arunrocks', 'brentpurves', 'OnlineBingoGala', 'ASC', 'ukulele', 'forensics', 'webanalyticsblog', 'Poetry', 'diggstolefromreddit', 'sdcc1', 'DB2', 'Biography', 'Magic', 'Android', 'vids', 'doomedamerica', 'mspianobug', 'captioncontest', 'WeAreStillinBeta', 'badmusic', 'cuil', 'SocialMediaLinks', 'MeeID', 'wood', 'DjordjeZlatanovic', 'Songwriting', 'security', 'Showboxx', 'testpassport', 'criticalminds', 'Storytellers', 'hate', 'DoraTheExplora', 'oversightings', 'GameSkive', 'adekosis', 'PGD', 'bioreddit', 'DanSaltman', 'ReliableScience', 'Metaphysics', 'greenbusiness', 'Gopinath', 'bernsteinslaw', 'nukethewhales', 'JACKgg', 'Detroit', 'csharp', 'Knoxville', 'Recursive', 'futurevision', 'Transhuman', 'czech', 'app', 'gogame', 'scion', 'The_Wire', 'FAIRFederation', 'programming_ru', 'SexyLinks', 'iran', 'HappinessSF', 'Denver', 'rva', 'veg', 'Livestrip', 'amv', 'DickButt', 'Event_Launch', 'Anarchism', 'heavy_metal', 'TheBible', 'Woikr', 'GatorArcade', 'PSP', 'shortstories', 'diabetes', 'Fish', 'ForgottenBookmarks', 'Nash8686', 'ArtCrit', 'darwin', 'nottheonion', 'parrots', 'canada', 'dickoftheyear', 'Babyluver', 'Pre_Bacon', 'PhotoBlog', 'mndoci', '3ren', 'Webmasters', 'sketches', 'Webometrics', 'Temon', 'peteseddits', 'beefgun', 'torus', 'SuperNova', 'joomlatricks', 'drudgereport', 'Fixed', 'Besim', 'BlogVibrations', 'climateskeptics', 'LifeHacker', 'Amigos', 'Altamente', 'pylu', 'pretty', 'Seattle', 'sawwit', 'australia', 'Rickey', 'flyingpenis', 'mansion', 'bodymods', 'nodoubt', 'OnlineDating', 'freeclassifieds', 'Crap', 'floss', 'kokonios', 'onlinelivemeeting', 'InboxMarketing', 'causes', 'MASA', 'ExclusivelyDogBeds', 'breakglass', 'ethandit', 'safety', 'robotics', 'Gossimerwebhosting', 'prueba', 'school', 'webdesign', 'formula1', 'Fliiby', 'PRICXwatch', 'nsfwvideos', 'changedotgov', 'redditanonoymous', 'SixHourStartup', 'www', 'PersianToronto', 'Sexzy', 'animalfriends', 'GlobalistNews', 'Lemonchavs', 'DoggieWeight', 'uk_ecommerce', 'Voting', 'shell', 'kundi', '1337', 'programing', 'gamedesignlondon', 'cute04', 'country', 'PrimetimePolitics', 'Danielsbestsites', 'artition', 'ServerSupport', 'Teachforever', 'Iowa', 'allthingsutah', 'alcohol', 'jira', 'warhammeronline', 'censoredatreddit', 'oregon', 'elsewhenreturns', 'helpdesk', 'HorribleIdea', 'Trepanation', 'foreignpolicy', 'soulmate', 'compaign', 'software', 'Armoloy', 'ASKPCExperts', 'KarenLiberation', 'programming', 'latin', 'death', 'haxe', '2moroX', 'metart', 'futbol_haberleri', 'men', 'hotpockets', 'joob', 'MitchHedberg', 'ten31', 'Gogogadgetwidget', 'cinemablend', 'templates', 'Celtic', 'citylocalbelfast', 'Webmaster', 'weboose', 'singularity', 'MR4Real', 'TheGame', 'showroom', 'Exercise', 'techsupport', 'animation', 'semanticweb', 'PaulShort', 'Rowing', 'baseball', 'OhWord', 'downloadfromyoutube', 'Shortfilms', 'CHHC', 'spatula_city', 'Cetatenie', 'theselectionist', 'CashbackCity', 'classicalmusic', 'Divorce', 'onemillion', 'INDO_US_NUCLEAR_DEAL', 'StarWars', 'worldpolitics', 'citeboomers', 'mp3buff', 'provocative', 'scifi', 'f4forex', 'merealty', 'shoppingbag', 'Tanah123', 'Evil', 'london', 'neoachorite', 'gtoddv', 'left4dead', 'google', 'test1234', 'Cera1503', 'timetravel', 'game', 'smritinayar', 'indocapitalfund', 'Guitarman51', 'editgrid', 'epicthread', 'WikiDashboard', 'landscaping', '3Dpungo', 'Polska', 'davebenzList', 'thetansonly', 'Prop8Passes', 'delishio', 'newworldorder', 'housing', 'nightnightly', 'manliness', 'Green', 'spirituality', 'rudiemods', 'catswithbacon', 'FourPanelsofFun', 'business', 'USHealthcarePolicy', 'Vofferu', 'AmericanMilitary', 'BCG', 'Maxwell', 'worldnews', 'maths', 'clao', 'AspiringMarketer', 'mertblog', 'tech', 'functionallang', 'ZenHabits', 'docsmartz', 'consciousness', 'athiesm', 'Christmasparty', 'scaling', 'RightsandLaw', 'favorites', 'rocketry', 'Ezinewriter', 'Graffiti', 'aww', 'SamuiBeachVillage', 'CGSutra', 'christfollowers', 'neopagan', 'CaseMate', 'encryption', 'Tamil_Blogs', 'CoolBikes', 'demsoc', 'IndiaOnline', 'solutions', 'wikipedia', 'mcmattp', 'Asbestos', 'SignsUS', 'cleavage', 'prnine', 'China', 'Americans', 'area51', '33revolutions', 'Mortgages', 'webcomics', 'Stargate', 'azliensa', 'Heeroguy', 'bloggerdal', 'fx15', 'testa', 'superhappy', 'Denmark', 'chachadeals', 'hockey', 'nightlife', 'SexyPeachy', 'Anarcho_Capitalism', 'ClandestineMarketing', 'just4callie', 'Jameselle', 'Pampelmoose', '7Gossip', 'sevenload', 'MVPSubmissions', 'obama', 'NorthernNewJersey', 'lakers', 'nick', 'camerabattery', 'bestsitesever', 'avtorentacar', 'activism', 'acriacao', 'kenyoncreditservices', 'gr8buy', 'neufbox', 'MovieGab', 'sport', 'ANALI', 'extremeprogramming', 'genetic_algorithms', 'Happynews', 'JJKCrime', 'exmafia', 'futurama', 'electronicmusic', 'dave', 'AJokes', 'Daydreams', 'bathrooms', 'AnimalRights', 'lindynews', 'Reruns', 'lego', 'Embeddedavr', 'Articles', 'Designing', 'The_Fantasy_Art_Blog', 'rbeder', 'DLP', 'animalattacks', 'wristtattoo', 'scientific', 'bestof_conspiracy', 'aklunder72', 'mystupidtestreddit', 'emerfv', 'cpanratings', 'isariv', 'harrypotter', 'GadgetGuy', 'puns', 'sumobackup', 'agathaaden', 'yo_yo', 'flashlights', 'OnlineShopping', 'kidsfacepainting', 'Spanking', 'uruguay', 'mtg', 'java_webframeworks', 'ipodsandappletalk', 'dwhost', 'Houseofbikers', 'emergenze', 'toys', 'capetownnews', 'compsci', 'jena', 'PoliticalAction', 'pencils', 'Web_Analytics', 'marion', 'TheTechLabs', 'Stonecrypt', 'SinoBeta', 'Cleveland', 'CSU', 'ALALabAuto', 'wii', 'swissinfo', 'otl', 'RATS', 'Reefing', 'scheme', 'Diggolo', 'seduction', 'LeonaLewis', 'NEIT', 'wesnoth', 'jenkem', 'CiscoUCCE', 'Marketallica', 'hurricane', 'campus', 'Freshhome', 'Concerts', 'rosslinks', 'SadNews', 'BellaBraxton', 'earthsearch', 'Genealogy', 'NI4D', 'BiblicalArcheology', 'soundbites', 'HPF', 'Tonya', 'diabetesnews', 'colliston', 'Egypt', 'SCUK', 'MilleniumForce', 'PuppiesWhoFightBears', 'islam', 'nocrap', 'awesome', 'pl', 'Radixweb', 'UseSmallWords', '911truth', 'ColorBlind', 'weddingfavors', 'narwhals', 'NERInews', 'bedla', 'goodoldays', 'algorithm', 'shashimaru28', 'gis', 'redundant', 'PlanetaCiencia', 'water', 'haskell_proposals', 'skeptic', 'asftechnology', 'Catholic', 'Idea2Company', 'blackchasm', 'gtd', 'outdoorsmen', 'Sudhir', 'audible', 'WVGE', 'science2', 'Mortgage', 'sharepoint', 'Dimas', 'NPR', 'NewOrleans', 'trt', 'OSU', 'Gears', 'privacy', 'GreenEnergy', 'LGBTReddit', 'TradeMaster', 'cat', 'emacs', 'blender', 'webhosting', 'Bikini', 'Posters', 'riezuan', 'mattraibert', 'PersonalLoanHelper', 'clikdicks', 'BurnsideWriters', 'Simplyzigzag', 'NewsPlus', 'Voteapalooza', 'clink', 'xTRUMANx', 'bugreports', 'ideas', 'videomakers', 'NaplesWebDesign', 'PetsandSuch', 'invest', 'painting', 'pupunk', 'Reprap', 'Kile', 'yahooanswers', 'mazarebacha', 'Asiaobserver', 'energyefficiency', 'AndySalmo', 'EugeneOnline', 'roddit', 'Zionism', 'DailyTrainings', 'awsomemusic', 'thenikoo', 'FiduciaryInvestment', 'markymark', 'su123jon', 'Entrepreneur', 'elain', 'casualgamer', 'Ringernation', 'FiestyCharlie', 'WendyClem', 'GreenBayPackers', 'cera', 'StreetFighter', 'Vanhomeless', 'zhenyuan', 'vibemetrix', 'linuxgamedevelopment', 'techoops', 'ArunzFormula1', 'RacistReddit', 'comicbooks', 'lightningrod', 'foodart', 'teknoloji', 'Las_Vegas', 'MusicFail', 'pic', 'RealtorWebDesign', 'IPhoneApps', 'Alexanderc', 'sexyjapanx', 'limaumanis', 'douche', 'testowy', 'Smoothies', 'bilinkis', 'titox', 'hhjoo', 'catfight', 'Inflation_Watch', 'fetish', 'Autographs', 'ryanbulmer', 'Jokes', 'pie', 'Asiana', 'contrarian', 'nakajima', 'BiblicalArchaeology', 'CFL', 'baltimorednd', 'reddiquette', 'captainnachopants', 'conspiracy', 'Allin210', 'telescopes', 'BloodNi55a', 'britpolitics', 'ChileRemix', 'bulgaria_theme', 'railfanning', 'optimism', 'CrazyJoe', 'smart', 'MGSM', 'CDf14', 'csnews', 'religion', 'Toonih', 'wrexham', 'poerty', 'tragic_satire', 'recipes', 'virtualworlds', 'web', 'poop', 'Politicalanalysis', 'deutschland', 'BitterVotersforObama', 'artofpickup', 'Internet', 'ido', 'MilitantStuggles', 'bark', 'MiaPresley', 'Wormintheworks', 'blogebreddit', 'linkmingle', 'left_blogs', 'punq', 'chemtrails', 'Quakers', 'ResearchCapital', 'BEEINGE', 'writing', 'BillCube', 'redditchan', 'MoosePatrol', 'naughtyamerica', 'shoebush', 'miminco', 'tarot', 'Ambientalmente', 'GreenEnergyNews', 'thorlin', 'religionseriously', 'pwang', 'poppablues', 'AsesoresInversiones', 'JeffPaul', 'sysor', 'Ornella', 'Dirtfloor', 'refactorphoenix', 'douchebag', 'Radiology', 'Heavymetal', 'albachtimi', 'PHP', 'qualjobs', 'FatLoss', 'duwanis', 'celebnsfw', 'KhmerLife', 'hacking', 'HolyFuckingShit', 'Madness', 'JimDicken', 'FedWorker', 'sadao', 'nsfw2', 'HOUMAN', 'CFB', 'Gingers', 'sandiego', 'voteups', 'yoyo', 'chrome', 'japan', 'Exercises', 'SoftwareEngineering', 'WeeklyTA', 'fsharp', 'KLUG', 'adekeda', 'tattoos', 'YourFindit', 'MediaBias', 'collapse', 'exjw', 'connconcon', 'RedditComplaints', 'meetup', 'Pauliespoint', 'Wonderland', 'Construction', 'GreenTree', 'SocialNews', 'AllAccess', 'allfacebook100', 'Pizza', 'ARYA', 'news', 'slinger', 'legos', 'longvideos', 'JamesButterfield', 'lazyweb', 'trash', 'SuicideWatch', 'mybaseballcardspace', '5edwin', 'Tiquicia', 'VC2009', 'spark', 'userexperience', 'AmandaNRoy', 'Decisions', 'egalitarian', 'footballcupleague', 'Madumbi76', 'PUBLICADDS', 'Emarketer', 'EnergyIndependence', '3cs', 'vocabulary', 'TeamFortress2', 'Islamofascism', 'sambaja', 'awesomereddit', 'italy', 'Rockband', 'Composers', 'Innerpreneurship', 'Celebrity_Central', 'Music', 'BMW', 'TakeAction', 'Clemson', 'DSP', 'Trucking', 'TheOnion', 'Social__Media', '4geth', '1keral', 'computergraphics', 'ourex', 'inconcievable', 'CarpetCleaning', 'WhatIsLuxury', 'NotMadeInChina', 'forrtryout', 'hookah', 'enviroknow', 'RobinhoodRewrite', 'code', 'fuckFuck', 'Tintomara', 'scala', 'culturalstudies', 'ashima28', 'popper', 'aqzaveri', 'techculture', 'missouri', 'FoodBlog', 'Nails', 'LittleToddler', 'Francie', 'pharma', 'SDOT4LIFE', 'bitteroldmen', 'religiousdebate', 'guysharp', 'rolaqonline', 'tidder', 'bingecat', 'Oliviaryan', 'Dumitru', 'humptydumptynews', 'beachweddings', 'choppers', 'proud12mama', 'Breakfast', 'mixtape', 'directrep', 'interactiondesign', 'BLESSIE', 'consultingblog', 'endless', 'CASTELATED', 'Developernews', 'Colorado', 'Design', 'smokefree2009', 'Ferrari', 'stripclubs', 'cuilsucks', 'foss', 'tacos', 'boating', 'ThisAmericanLife', 'Spirits', 'Iraq', 'womentravel', 'gokhan', 'Quonews', 'happyatwork', 'mormon', 'teacherlibrarian', 'Hedging', 'conservativenut', 'worldnews2', 'QualityAssurance', 'geospatial', 'types', 'warpiggs', 'oldlive', 'Energy_Efficiency', 'computerscience', 'logocompetition', 'salesforce', 'catonmat', 'Fotobookmarks', 'transformers', 'ocaml', 'videogames', 'mensa', 'trailer', 'MRMMO', 'PoliticalPhilosophy', 'deism', 'MMORPG', 'Frugal', 'pinay', 'Vacations', 'Cappuccino', 'productivity', 'Discussion', 'RealLifeSketch', 'slashdotxx', 'mytestreddittwo', 'DreamHomes', 'Humanisme', 'jtdrct', 'avisynth', 'WebGames', 'Tandberg', 'iphone', 'shenzhen', 'circlejerk', 'abandoned', 'phpfreelancer', 'productreview', 'Yutiti', 'actuary', 'rodjonsroadhouse', 'BlogIndians', 'texas', 'punk', 'Vriesema', 'nationwidepaintball', 'perl', 'c64', 'geoFeed', 'cimigo', 'Gothic', 'SingaporeMarketing', 'bebq', 'livableplaces', 'ponyexpress', 'AegonReligare', 'access', 'Theaters', 'johncabellreads', 'WorldWidePolitics', 'Cruises', 'cherrysave', 'Travelchacha', 'craigslist', 'nuxeo', 'ConceptSeries', 'sexzone', 'jobpostings', 'insomnia', 'ComputerSecurity', 'nanotechnology', 'xotcl', 'muxtape', 'StupidVideos', 'SugarCoatings', 'nyisi', 'blackhatseo', 'guns', 'GreenMGSM', 'loghomes', 'literature', 'idea', 'galeej', 'NYPolitics', 'FunStuff', 'psyapsy', 'ComputerworldUKNews', 'cts', 'GraduateSchool', 'zoepster', 'war', 'SpoonBlog', 'sv', 'dilbert', 'quake3', 'nature', 'Arzum', 'pwnage', 'Archaeology', 'honesty', 'EntertainMe', 'billebert', 'azher', 'ATL', 'nanotech', 'anime', 'Models', 'EBM', 'pointless', 'vagina', 'AlertsCar', 'houseless', 'localecommerce', 'jewscaused911', 'osbgroup', 'science', 'todayilearned', 'shouldhavesentapoet', 'Zensky', 'BBMeals', 'DOCAM', 'chidchan', 'floridanursinghome', 'venkey', 'mit', 'HPC', 'redesignreddit', 'greenmachinestour', 'InnoGage', 'PlayableWebGames', 'holyroller', 'Apologists', 'history', 'RUI', 'hardbodies', 'ciencia', 'Fishing', 'Zeeol', 'florida', 'Teachers', 'positivethinker', 'motorbikes', 'livemusic', 'sets', 'fbl2', 'newengland', 'map', 'IndependentBaseball', 'ecm', 'weirdgames', 'AmericanBridal', 'Purdue', 'andrewdemm', 'TwilightLinks', 'produkt', 'Koreus', 'providentestate', 'rugbyunion', 'parislemon', 'kayakotto', 'Cephalopods', 'SerialMurder', 'Confucianism', 'Hardcore', 'BerkshireHathaway', 'Soccymartin', 'happy', 'deanver', 'amazon', 'fortress', 'Capitalism', 'subvertising', 'motormaniac', 'mattculbreth', 'propaganda', 'PikeCountyPA', 'tanjit', 'deleteme', 'testreddittryitfornj', 'AmericanHistory', 'TechZulu', 'tinfoilhat', 'weighttalk', 'Coffee', 'banjo', 'discussions', 'citizenjournalism', 'Men_at_home', 'fantasyfootball', 'redditorsfor911truth', 'AdaptogenNet', 'almakdad', 'random', 'media', 'carhire01', 'HealthcareErrors', 'RawFitnessOnline', 'snoindod', 'Ofbeat', 'barter', 'Terzostipendio', 'braga', 'Josie', 'asia', 'Ahken', 'PCH', 'pcgaming', 'Thisisawesome', 'Mushrooms', 'ScrewYouGuys', 'Ubuntu', 'vdm', 'rusmoney', 'RetailHomeGoods', 'bestshoes', 'vlogging', 'D_programming', 'TheJerseyDump', 'shopingmania', 'USPE08', 'outkast', 'zh', 'supermarkets', 'YouPublish', 'astrology', 'sem', 'running', 'Viajes', 'PetsLoveJessica', 'Freshmobileus', 'notusa', 'nomigobo', 'ja', 'snobs', 'Steeletravel', 'efluential', 'Turkiye', 'SubmitPro', 'Fitness', 'Basketball', 'drblog', 'copyfight', 'PS3', 'jos', 'Liberty', 'aikido', 'dixipix', 'GreenCult', 'AmericanEconomy', 'feminisms', 'loynomsc', 'Ginkoba', 'casinostags', 'Marxism', 'MONASTIC', 'blingblog', 'designerly', 'cms', 'fakenews', 'osfanboyism', 'profile', 'southafrica', 'lectures', 'MediaServices', 'HeatherLutze', 'wwww', 'Joseph4u', 'paygossiper', 'CAPSLOCK', 'FTVgirls', 'ruby', 'USPE12', 'matrako', 'Mustard', 'fail', 'percocet', 'GLIS663', 'dap', 'hotdeals', 'HurricaneIke', 'gingerbeer25', 'Marius93', 'daily', 'Gifts', 'wireless', 'Bluegrass', 'answers', 'bitch', 'TroubleFixers', 'bookclub', 'Cybersquatting', 'wordrosia', 'Belem40', 'Dietandhealth', 'Noospherism', 'police', 'SewerHorse', 'Python', 'urbanexploration', 'ItsNotOnion', 'sceptics', 'magamed', 'whereisliz', 'yourweek', 'BusinessIntelligence', 'TrueHorrorStories', 'AdultChildren', 'Cplusplus', 'Websites', 'datarecover', 'CreativeInspiration', 'MEMS', 'WebNews', 'hotnesscelebritiess', 'fuck', 'GBGuide', 'tango', 'BritneySpears', 'BigNoise', 'designercorps', 'Lawyer', 'avrham', 'MemeMuseum', 'windows', 'cambridge', 'Horses', 'awk', 'esolangs', 'argentina', 'Jazz', 'ecommerce', 'BagLovers', 'TimeTravellers', 'livesex', 'Sparta', 'gardening', 'baseballcard', 'elinaswain', 'MDVC', 'wrong', 'Today', 'radiofreereddit', 'sailing', 'cros', 'JailbaitPhotos', 'ClassifiedAds', 'chakdeindia', 'iTulip', 'christmas', 'UKBUBBLE', 'Virtual_Reality', 'WillowVera', 'myvideofight', 'blasphemyhaven', 'Pantsless', 'Janet', 'Kell', 'dynasty666', 'stefantochev', 'Allsmsmessages', 'Boxing', 'myshortfilms', 'NewsGuru', 'CanadaFTW', 'c_language', 'mjd', 'hypatia', 'Theism', 'Viamedic', 'MrWebmonster', 'FIFIK', 'testingue2', 'Tardonaut', 'files1000', 'sar', 'Jeffrey', 'ducks', 'Paranormal', 'libattery', 'redditman', 'singh85', 'baduk', 'matheducation', 'ZioNews', 'Pacifism', 'bronson', 'Cushings', 'Domains', 'CommonLaw', 'vmware', 'odd', 'Blinds2go', 'Chloetay', 'hcwdb', 'Gin', 'prakash', 'Gail', 'cevre', 'NaturalDisasters', 'pandorastations', 'FuckingRepost', 'ben', 'software2', 'Brandsaloon', 'tr', 'ActressPhotos', 'fredwissman', 'churchvisions', 'biology', 'wantonegotone', 'InTraser', 'cazzate', 'PYF', 'lds', 'memetics', 'Hindi', 'CakeWatch', 'netsec', 'Connectiviity', 'animations', 'UsefulShit', 'PhotoCenter', 'FISA', 'ByTheStreet', 'BABNews', 'my_little_interests', 'NoveltyUserNames', 'BookSmarts', 'sbhockey', 'curiosity', 'ACL', 'JOrnstein', 'Gopher', 'chistes', 'HeyShae', 'hiltingbury', 'blackculture', 'bushlegacyproject', 'hawk258', 'Entrebloggers', 'DailyShow', 'Jaden', 'jobs', 'PoesLaw', 'PinklisarParadise', 'blueoceandirect', 'PristineMerchandise', 'obituaries', 'wma', 'stylesheets', 'Journalism', 'MacleansMagazine', 'neutralnews', 'BrickImaging', 'd_language', 'cakephp', 'trippy', 'nsedreams', 'Digital', 'Websitedevlopement', 'taiwan', 'Googlepagerank', 'Scotland', 'Parties', 'syok3gp', 'springfieldMO', 'Diggtard', 'gentle', 'DefendersOwn', 'Sitesbid', 'rock', 'cp_retailpos', 'goodnews', 'Tryton', 'olympics', 'WHITE', 'Wirelessgalaxy', 'ShowtimeTees', 'GGGGive', 'Entertainment_Gossip', 'StrangeUniverse', 'DanSturgis', 'STFU', 'cocktails', 'pomppoker', 'naturism', 'Subzero', 'Woerterbuch', 'DIY', 'BABScience', 'politicalnews', 'Labour', 'Tugimp', 'justwow', 'migration', 'Composition', 'WebsiteDevelopers', 'GolfInstruction', 'flowchart', 'smallbiz', 'Sports2Debate', 'Canuckgook', 'shqip', 'basura', 'Bass', 'investment', 'TBarrett', 'rashme', 'MaryaSusan1', '4chan', 'tennismasters', 'oppositeday', 'aussierules', 'redesign', 'telecom', 'AHMED3', 'funnyvideos', 'Domaining', 'myblogroom', 'gymnast', 'shemale', 'CARHIRE', 'Senditcertified', 'IntelligentVideos', 'uxbuzz', 'LSD', 'Subprime', 'Poojabrahmi', 'shoe', 'dpolly', 'mobile', 'Antireligion', 'eggs', 'surreal', 'TasteCast', 'late', 'PropertyLawyer', 'voluptuous', 'Salsa', 'vintagetwist', 'meme', 'Memorials', 'Socialize', 'RedBalloonDays', 'istanbul', 'PRunderground', 'ukpolitics', 'RenaissanceRonin', 'KeralaWebWorks', 'persuasivecontent', 'gambling', 'McCain', 'BaconAndPorn', 'theship', 'BabesInBra', 'Aiqbalawan', 'Boobies', 'SearchMarketing', 'Mold', 'lida', 'Promotionals', 'fringeelement', 'ChristianPrayer', 'nba', 'web_infrastructure', 'Stardom', 'stupid', 'Lookieloo', 'dranger', 'DietHealth', 'orlando', 'srch', 'Cisco', 'LBD', 'bicycles', 'CODEcontent', 'Thirdsoul', 'PCHhumor', 'Dhimmitude', 'uls', 'NepalNews', 'StitchSimply', 'Phenocal', 'Indiana', 'BSG', 'defc0n1', 'morales', 'secondlife', 'TnT', 'maxtou', 'Mandriva', 'ABCCouriers', 'youtubetester', 'Gamelair', 'Ohio_News', 'unlockiphoneliveseo', 'FirefoxAddons', 'Pocketbook', 'lispclub', 'mexico', 'unknownarmies', 'askXKCD', 'zope', 'slate', 'sheddit', 'revenge', 'Hardawrae', 'Wales', '2008is1929', 'mentalhealth', '1_Irritated_Mother', 'nhnews', 'vinyl', 'childwelfare', 'gamedev', 'astro', 'manchester', 'Atlanta', 'PinkNews', 'NewAgeReligion', 'AruiZen', 'RedditorCreations', 'not_bacon', 'videointhetube', 'Gays', 'greenpartyhamilton', 'Clairepontino', 'disc', 'russia', 'EducationWorld', 'ngongo', 'freemusic', 'jews', 'halanscott', 'WREDIT', 'space', 'stock', 'GregorMendel', 'cyrusinnovation', 'iCoCo', 'matjackson', 'Syndicalism', 'beerpong', 'BlackBlog', 'phoenixarizona', 'myth', 'kyonounnsei', 'Lanaiv', 'psu', 'kaboom', 'crochet', 'hobbylazy', 'Intubate', 'femto', 'TestMySite', 'food', 'undead', 'michaeldavid96', 'Faildogs', 'OMGWTF', 'nodoubt2', 'chiptunes', 'ravi', 'empoweredinternet', 'INTP', 'msu', '21212', 'SubGenius', 'ScottishForums', 'Garritan', 'GeekMyLove', 'Galatron', 'helpmereddit', 'binselman', 'Survival', 'nfsw', 'bhutan', 'geostuff', 'nota', 'WomenOfColor', 'whoa', 'ferdinando', 'Badass', 'opinion', 'Leoparr', 'Epicenter', 'Kesehatan', 'VAD', 'prebacon', 'sportwatches', 'edu2do', 'BargainShopping', 'pssdrafts', 'PrideNation', 'pinoy', 'Apocalypse', 'EnAmerique', 'democracy', 'ihavereadit', 'slackware', 'newscrux', 'Oh2be16', 'biphentinhealth', 'ObammunismWatch', 'typography', 'C_Programming', 'Wahido', 'bealemj', 'rben', 'occult', 'BurrellColour', 'Futurism', 'CougarPulse', 'infosthetics', 'college', 'MICROTEST', 'VietNam', 'Letsgetawesome', 'GregK', 'CADCAM', 'pronadji', 'lonely', 'reeemix', 'ariyes', 'networking', 'MyTotalKitchen', 'tracetrack', 'Sonny', 'PutinforPresident', 'walmartvitamins', 'kooks', 'exotic_cuisine', 'penis', 'linkai', 'RushLimbaugh', 'AllTube', 'TheManifestStation', 'pinchpenny', 'Iceland', 'tazert', 'OnceAgain', 'wisebread', 'thesayer', 'djjroc', 'Webbook', 'PcSoftBuy', 'ko', 'startfs', 'labor', 'norulesMMA', 'openerp', 'it', 'CassandraTroy', 'WhiteMenGoneWild', 'Homebrewing', 'BBCAMISMG', 'Winworld', 'IndustrialDesign', 'WowJustWow', 'photoshop', 'DandD', 'unix', 'Anthropology', 'mushroom', 'unitedkingdom', 'dev', 'GreaseMonkey', 'Singles', 'Realty', 'fioricetonline', 'HERMITS', 'EntenduQc', 'OCPaddler', 'EcoKindDesign', 'hinduism', 'tablehockey', 'nsfw', 'lily', 'ProMigrant', 'awards', 'newyork', 'ZUMBEEL', 'PETA', 'germany', 'hawkeyes', 'longisland', 'mygame', 'howardstern', 'try', 'HotelsUK', 'Gossimer', 'cuiltheory', 'selfhelp', 'bdcburma', 'reportthetrolls', 'labortech', 'nikolas', 'tritit', 'fsm', 'Bleachfinder', 'lovethepast', 'beyazonluk', 'ipostme', 'Tippiz', 'beards', 'Watches', 'shamaaz', 'OurChinese', 'torrents', 'Shailendra', 'Technologyzone', 'redheads', 'lost', 'cocoa', 'Unicode', 'CanadaVotes2008', 'AnimalLiberation', 'MathComics', 'FineArt', 'masangiklan', 'Brian01', 'tofu', 'xkcd', 'FunnyFidos', 'asm', 'Twitter', 'Packaging', 'berkeley', 'TechRadar', 'ExecNetProperties', 'likereddit', 'resources', 'QuickBooker', 'lybolt', 'analplay', 'charter', 'ChoosyHomeschoolers', 'Zombie', 'virals', 'sirusdesign', 'yahuwaku', 'hacks', 'reddit.com', 'Kasey', 'GossipMax', 'captainreboot', 'callingIT', 'iaido', 'Shemoidesigns', 'leetsuit', 'RantRave', 'Cliche', 'ShmoozeIt', 'earthhour', 'Christopher', 'MTB', 'self', 'Charitable', 'Catalysts', 'ArtMakers', 'breadpig', 'Mesothelioma_treat', 'restaurants', 'steampunk', 'Impeachment', 'Pankaj', 'com', 'Dissent', 'redditwar', 'comic', 'PATENT', 'Garry', 'osx', 'toronto', 'ManageYourLifeNow', 'ultimate', 'TSQL_MIDDLE_Command', 'Africa', 'siciliasud', 'off_topic', 'deferred', 'martin', 'skating', 'batandball', 'qgyh2', 'portugal', 'foom', 'awwcute', 'xaluan', 'spoilers', 'JimmyFallon', 'Pirate', 'Kerala', 'Cooking', 'Palachinka', 'AlternativeHistory', 'Database', 'samokrutka', 'Mosaic_Interactive', 'tiantiankankan', 'gothicandhorror', 'geopolitics', 'ProgrammingLanguages', 'psychoanalysis', 'furniture', 'Objectivism', 'Attenborough', 'artificial', 'squiggol', 'Hair', 'lean', 'SwampSparrowSucks', 'richlach', 'Mirrors', 'Discounts', 'Addicted2Salsa', 'Libraries', 'bestbarsboulder', 'ANTISHARIA', 'guitartuts', 'NaturalWomen', 'EverythingThai', 'sydney', 'BearlyaSubreddit', 'policestateUSA', 'experssregalo', 'nutrition', 'BlueCheese', 'Thailand', 'relationships', 'uvr', 'Authenticfashion', 'woz', 'expert', 'Sleeptreatment', 'Animals', 'meta', 'refreshphoenix', 'microsoft', 'Rachel61', 'houston', 'Equus', 'Sherewizki', 'xomobo', 'jaggedaloc', 'Muecs', 'bodybuilding', 'thesingularity', 'YoDawg', 'death_metal', 'web20development', 'CallForPapers', 'wow', 'django', 'bizjgreen', 'MobileDepot', 'BCCResearch', 'Melton', 'MixingItUp', 'jakobsenfred', 'black_metal', 'petshopplaneta', 'crime', 'Rubens', 'cpp', 'WahyuDewanto', 'joos', 'Haknit', 'albino', 'Musicoursoul', 'TinT', 'CriminalBR', 'europe', 'environment2', 'AlternativeHair', 'sex', 'DaveRamsey', 'search9', 'PeanutButter', 'Essays', 'BlazersReddit', 'redsox', 'THA', 'xbmc', 'startup', 'Everton', 'slashdot', 'Indeye', 'Catholicism', 'RWM', 'gal', 'GWilliamCo', 'Supplements', 'Protocols', 'Gamer', 'JustinaConway', 'ResistTyranny', 'MooreForWomen', 'law', 'fallacy', 'tom', 'qclabels', 'WTF', 'BABEnvironment', 'canon', 'guides', 'debates', 'DulceBurro', 'bollywood', 'contraptions', 'atrocity', 'searchengines', 'NOads', 'rosevictorreddit01', 'LuluTopContent', 'alexda', 'LowesRedApron', 'gamereviews', 'chocolate', 'SNUBA', 'shortentertainment', 'cheats', 'blogger', 'bestactorofiran', 'AppEngine', 'JuicedMangoes', 'greetings', 'destinationclubs', 'grabeco', 'blackberrynation', 'search', 'Backingitup', 'LaTeX', 'mainfo', 'makhanhar', 'withoutlinks', 'sirichai', 'undergroundfilm', 'grammar', 'accurev', 'askgod', 'Bakugan', 'GFT', 'Artimaeis', 'UsefulBlogs', 'economics2', 'maninee', 'International', 'Urbandead', 'ambusha', 'Pocketsmith', 'milf', 'EPA', 'littlestar', 'Triduanus', 'interestingasfuck', 'hotmanflesh', 'puzzlegames', 'masala', 'ralphnader', 'unclibwebteam', 'whedon', 'unfunny', 'Niger', 'linkhay', 'moon', 'totosoft', 'medicalscience', 'cocoadev', 'Innovationmeme', 'WedgieGirls', 'Self_Defense_1', 'Candice', 'Romeo', 'updates', 'Bagsforless', 'bernsbarry', 'Fabrizio', 'PoliticalHumor', 'Addicting', 'thestem', 'hurts_my_eyes', 'climate', 'knitting', 'stocks', 'meat', 'EasyStreet', 'IraqDeathToll', 'thetruth', 'HowToDIY', 'TellReddit', 'Money', 'tokiohotelamerica', 'familychild', 'dylan', 'psychopharmacology', 'MotherAboutInsane', 'trustart', 'SEO', 'funnylolcats', 'lolz', 'outrage', 'Launch_Strategies', 'Palm', 'hitler', 'UsInjins', 'karma', 'hotvideos', 'HotWater', 'WingChun', 'cfcamerica', 'Genseq', 'Swarming', 'Empowerednurse', 'Skepticism', 'koreanmovies', 'note_to_self', 'polls', 'Mullets', 'marjorie_L', 'Indiatrends', 'specialplace', 'Souneil_Park', 'QA_Tools', 'ogijun', 'KaptainCo', 'Drozzzz', 'skycars', 'melbourne', 'myparkingsign', 'memphis', 'faridi', 'webdynamicideas', 'classics', 'solarpowerreview', 'management', 'MoveFitness', 'deaf', 'Wolffe', 'obeygiant', 'J2EE', 'tashad', 'jltff', 'testing12332', 'blog', 'auto', 'tmichaelcart', 'ZeroPunctuation', 'omni', 'JeremyElijah', 'Rocking', 'dior_lei', 'ChristopherLower', 'incidental', 'WalKnDude', 'MarketingBabe', '8bit', 'SouthAfricanTravel', 'apple', 'Deineip', 'Statism', 'onlinejournalism', 'hizdamnut_personal', 'KarmaArmy', 'gossip', 'nasa', 'BDSMStores', 'nsfa', 'chicago', 'marketcrash', 'LegalNews', 'coldfusion', 'signofthefox', 'SensitiveHeadlines', 'vedicastrology', 'umass', 'personalRss', 'whatarekidssaying', 'yourgovernmentatwork', 'AmerikanPolizei', 'yoomeo', 'Quebec', 'wealth', 'militantatheist', 'heresy', 'dostuff', 'rickroll', 'zen', 'MST3K', 'Nicole', 'indonesia', 'electronics', 'akhilbali', 'webtools', 'Filmzu', 'goats', 'battletech', 'usability', 'Cathar', 'Chuams', 'epictureperfect', 'nostalgia', 'Harvard', 'TUPOEorg', 'winternals', 'be_Green', 'clickticks', 'alaska', 'my_own_test_reddit', 'surfing', 'Personalized', 'Explosions', 'fuckthedrugwar', 'pranks', 'amateurradio', 'functional', 'ObamasInagural', 'harajuku', 'startups', 'WaitWhat', 'indianbirder', 'fashion360', 'InternetActivism', 'wallpapers', 'Mariakiru', 'TELOSMYSTERY', 'papercraft', 'ffxi', 'soccerleagueslive', 'techbookreviews', 'golf', 'webmaster123', 'grecosonthefly', 'bendnews', 'Freemark', 'The_Trainer', 'test54321', 'celebritiesphotos', 'kingrobotic', 'AppleApps', 'ppbb', 'PoliticsUK', 'india', 'jun', 'l3ib', 'sad', 'coins', 'vegan', 'kriminals', 'lol', 'furry', 'Crowdsourcing', 'UnsolvedMysteries', 'boardgames', 'teeshirtart', 'pcolinks', 'Pink', 'wagi', 'grrm', 'Virginia', 'ExplativeHeadlines', 'motorcycles', 'halloween', 'ass', 'foradog', 'hitchhiking', 'fotografiaainternet', 'thiyagaraaj', 'melvin', 'Preisvergleich', 'Manuj', 'whattttt', 'oilexploration', 'creditwrench', 'anti', 'SQLServer', 'ystore', 'PhD', 'iPhoneNews', 'quickoats', 'ouddy', 'tattoosofgirls', 'Hot_Babes', 'subreddit_complaints', 'angry', 'mechatronics', 'CPAWebGuy', 'acdindia', 'kogoa', 'Vipin', 'CliveRichards', 'ArtBook', 'Charlottesville', 'telaviv', 'cardsinnerpoker', 'classy', 'Bellydance', 'grant_tda', 'biberhapi', 'Amigoni', 'Positive', 'nanowrimo', 'arduino', 'EmbracetheChaos', 'ForumReddit', 'Alex', 'babychangingstation', 'puzzles', 'Ablacksheep', 'Austria', 'snowboarding', 'WildwoodNJ', 'prowrestling', 'datacompression', 'revolution', 'xmpp', 'bangladesh', 'franco_security', 'Crazy_On_Tap', 'chicagotribune', 'cute', 'medienytt', 'MillAvenue', 'bayarea', 'aakashlivetek', 'implead', 'Tecnologia', 'agnosticism', 'Beginnerpilot', 'url', 'dogs', 'diggsucks', 'ghostbusters', 'ecreeds', 'superoutdoorsmen', 'lansing', 'WinCustomize', 'videouselection2008', 'mobwisdom', 'timelapses', 'valium', 'OddStuff', 'reproduction', 'AmericanHondaSucks', 'parapsych', 'intj', 'celebrity', 'AnnikRubens', 'browsers', 'tedtalks', 'travelnews', 'newerbetterreddit', 'Tabs', 'gianu', 'Askmoses', 'lumrax', 'KMY1980', 'videos', 'Grecian', 'computerviruses', 'eberling', 'trackbike', 'otaku', 'UpperCanada', 'Metamorphosis', 'ElementaryEducation', 'trolls', 'CelebrityCaricatures', 'offensive', '9jabuzz', 'stereo', 'drunkenpigs', 'ideasfortheadmins', 'electroraggahiphop', 'Atkins', 'metaverse', 'startrek', 'loft20', 'SoundersFC', 'badreddit', 'Hillary', 'turkalo', 'boston', 'government', 'ITnews', 'dictionary', 'Blogging', 'monika', 'BintanLagoonResort', 'WUOG', 'artenovance', 'LittletonCoinCompany', 'meron5', 'lgbt', 'thamiz', 'submit', 'FlightSimulation', 'christianrap', 'tabletucker', 'German', 'crownedregal', 'videogaming', 'trout', 'sdfsd', 'pgoramming', 'Soambitious', 'MonsterVine', 'ewing2001', 'mixes', 'Giuse', 'handletime', 'surf', 'Conserve', 'allcrap', 'solucionesseo', 'arsenal', 'sportscars', 'askkaens', 'camping', 'ManchesterUTD', 'invisibleclothes', 'bizarrenews', 'Yeeher', 'newspapers', 'testname', 'rankreddit', 'dnbmixes', 'Demotivational', 'rap', 'opinions', 'boss', 'winson', 'halo', 'mrsubtraction', 'pakistan', 'creativitycentral', 'rumors', 'llin', 'Tantra', 'depraved', 'porn', 'talk', 'knowledgespeak', 'Haah', 'sustainability', 'mgive', 'mises', 'TravelinginThailand', 'Cool_Pictures', 'reference', 'ScrappyMusic', 'powellendorsesdobama', 'obvious', 'oreillymedia', 'algeria', 'noprop8', 'Gusari', 'ChanningTatum', 'csstest2', 'npr_test', 'triumphproperty', 'riaa', 'oreilly', 'Julie', 'Providence_Swings', 'freebooks', 'Qualitydoor', 'weirdnews', 'VoteUpIf', 'izvornisignal', 'Shopaholic', 'hu', 'graphics', 'Motivational', 'aldimeola', 'Health', 'myshill3', 'amarok', 'Anxiety', 'espanol', 'redditfree2009', 'calvinball', 'cyberactivism', 'PCFreak', 'evmsale', 'songs', 'Lovecraft', 'UIUC', 'slowakei', 'portblue', 'trains', 'titan', 'vod', 'hurribugs', 'Survivalist', 'Joe_zhang', 'trolling', 'Programminginterests', 'lagreenlife', 'darlingasian', 'HairStraightener', 'uggit', 'COPYRIGHT', 'hornio', 'babeplanet', 'NLP', 'dotnet', 'vegas', 'PangaeaTravel', 'mufeedaanees1', 'FinanceNews', 'kompassworld', 'moleskine', 'NOLA', 'things', 'designcontest', 'Anil', 'psychics', 'Tomas', 'userscripts', 'ferrets', 'flashlight', 'racing', 'longtext', 'tard', 'Tgirls', 'Qyam', 'BilaBila', 'SearchMyCampus', 'MontrealTechWatch', 'Hunting', 'trailers', 'MotivatedPhotos', 'explolab', 'kevin332', 'skiing', 'James1234', 'fastfood', 'Ashish', 'girgor', 'lipstick.com', 'viajeros', 'adown', 'rails', 'Cufflinks', 'shoegaze', 'ChildHealth', 'artistic', 'webbuzzz', 'Outdoors', 'threed', 'horror', 'EstwingTools', 'unhappy', 'softwaredevelopment', 'fhyd', 'Fascism', 'lifehacks', 'Solorya', 'cheminformatics', 'metareddit', 'employmentagencies', 'humanresources', '2600', 'Cubicleddit', 'cccombobreaker', 'StupidCriminals', 'Smiffys', 'parsoc', 'Desktop_Wallpaper', 'antiterrorism', 'phapluat', 'nrl', 'CallofDuty5Hacks', 'holidays', 'SUBZEROLOSANGELES', 'ebruce', 'LazyHour', 'espneurofeed', 'scrum', 'Halo2x', 'VideoRemix', 'flash', 'Thaiblog', 'potatoarecool', 'MXO', 'women', 'roundstone', 'sexyfemale', 'PixelArt', 'BIZWIZ', 'RBT', 'CuteWriting', 'Cricketworld', 'intelligent', 'irwanbee', 'Dinosaurs', 'Designing_subreddits', 'robot', 'Homebrewing101', 'TopPosition', 'Zinemaya', 'pooplickingpromises', 'invasion', 'austin8591', 'Christians', '911_Truth', 'xubuntu', 'SexToys', 'singapore', 'mrpurple', 'NoMorePowellLinks', 'PersianDigg', 'CKL', 'Atheism2', 'codeprojects', 'bullshit', 'FelonReports', 'RomulusCristea', 'transit', 'Ebay', 'mike918999', 'picdump', 'Annoying', 'modula3', 'opelousas', 'Balls', 'LegallyMinded', 'hrw', 'urgentloan', 'Mars', 'Thaidarling', 'breakingradio', 'Vote_up_if', 'Shamanism', 'martialarts', 'nl', 'iMarketing', 'vervegirl', 'devcanon', 'Canaddit', 'wackynews', 'geeky', 'sharkarts', 'Mary', 'photography', 'theSmallCapAlert', 'Clothing', 'VisitCrete', 'ScottWhiskeyeBlog', 'Headlines', 'SavedComments', 'bots', 'KeisterMeisterh', 'hentai', 'sunum', 'Buffalo', 'AssHandery', 'balkanpolitics', 'Irony', 'introweb', 'dating', 'MensRights', 'free_thought', 'methlab', 'onlycode', 'uponthousands', 'consumerist', 'MapleLinks', 'UsedCars', 'Nametagsnet', 'Roosta', 'virtualworld', 'GlobalEconomy', 'cons', 'CaptainG0705', 'FreeStuff', 'playthecrowd', 'Bondage', 'FlowerWindowBoxes', 'starcraft', 'SRRAR', 'zeppelins', 'scitech', 'chilereddit', 'Christianity', 'broccoli', 'Omaha', 'Ninjas', 'badassgirls', 'belgium', 'Louis', 'motherapproves', 'mshiltonj', 'Muskurahat', 'PoliticianRegistry', 'MyRevivl', 'UUreddit', 'deepdata', 'Sakitha', 'Agriculture', 'Marcocchio', 'DarkPoetFawn', 'fixedgear', 'mozilla', 'memes', 'SGBoise', 'askcheez', 'reggae', 'Bedrijfsevenementen', 'I_am_a_PC', 'brewing', 'MSN_ADRESLERi', 'xfce', 'terryly', 'cogsci', 'comedy', 'Jeannes', 'Grind_Vision', 'scrapir', 'evensys', 'Zigimeworkspace', 'suceel', 'dailywtf', 'borondon', 'stephanerd', 'es', 'hatersclub', 'ALP', 'ProcurementLeaders', 'movies', 'marcog', 'Astronomy', 'doctorwho', 'inflatable', 'Defenestrate', 'apod', 'IWTest', 'Leitmotivmedia', 'Jennifer', 'phoenix', 'PalinProblem', 'esquivalience', 'bestof', 'Palestine', 'gnome', 'MillionaireMommy', 'driving', 'id', 'Bacon', 'Turkey', 'feetish', 'winhid', 'HouseGarden', 'donrobert', 'Celebs', 'blueangel', 'Indyapulse', 'Blind', 'trance', 'paulantoinem', 'BustingDiva', 'Freethought', 'Shorpy', 'fffffffuuuuuuuuuuuu', 'Sobhaneh', 'markedwardlewis', 'Enlighten', 'vim', 'nader', 'web30', 'justforkids', 'Charity', 'digg', 'subreddit', 'maculardegeneration', 'casualgames', 'TechnologyBlogs', 'ZinioBest', 'hugs', 'Celebrity_Pictures', 'eupolitics', 'IAMIL', 'BusinessNetwork', 'TakingLiberties', 'sca', 'lithuania', 'Kehlocricket', 'FoodPolitics', 'ebooks', 'anonymus', 'Sudarshana', 'blackfriday', 'wesley', 'Geneology', 'sanfrancisco', 'kuebasah', 'AttentionSeekers', 'mzaeen', 'DigitalDivide', 'confessions', 'ASPNET', 'accessibility', 'Riddle', 'DominioDesign', 'Petitions', 'diplomacy', 'EPICBACON', 'introduce', 'rbondi', 'VotingReddit', 'vermont', 'akira', 'achewood', 'sridhar', 'information', 'scene', 'gracemassage', 'KISS', 'Debt', 'd1g', 'GraphicNerd', 'harneu', 'vikramkaushal', 'NewAthens', 'SEC', 'vi', 'urbanplanning', 'TENTRACKS', 'OSINT', 'imoka', 'sales', 'jaichiru', 'primetrend', 'newjersey', 'Missed_Opportunities', 'gps', 'StencilRevolution', 'Madhav', 'podcasts', 'techwriting', 'CSPapers', 'DazedenConfewzd', 'inshort', 'InternetMarketing', 'MusicLoft', 'hivemind', 'gaurav', 'HomeImprovement', 'petpeeve', 'Lechnacom', 'angrykeyboarder', 'muzammal', 'puppies', 'lyrics', 'breakgame', 'impoliteconversation', 'quiz', 'tala', 'icanhaz', 'Concert', 'tweets', 'SuperSwedishGirls', 'smalltalk', 'GrabberOrange', 'Hepsi', 'independent', 'tonutest', 'GinsanaEnergy', 'ryansjones', 'TurkeyBacon', 'qtp', 'yahoo', 'kde', 'Baroque', 'tips_tricks', 'pugot', 'HarvardElection08', 'PhiBetaSigma', 'scientology', 'vero', 'engineering', 'BlackMarket', 'screwed', 'sed', 'fundoo', 'egistb', 'Rwanda', 'complaints', 'graffiticreator', 'jruby', 'bungaseruni', 'steak', 'Monterrey', 'philosophy', 'bpdc', 'action', 'chicagoland', 'CaughtMyAttention', 'jemfinch', 'Public_Domain', 'tamil', 'Giants', 'aynrandreddits', 'BestPsychTutorials', 'Pennsylvania', 'Bitching', 'UFOs', 'championsleague', 'ShirleyAtkinson', 'subredditis', 'KILO_ALDIRICI', 'LiberalHippies', '_test', 'BigFs5', 'Folk_Music', 'Beers', 'beauty', 'jamesbritt', 'streetview', 'digitalove', 'john_r', 'formulaone', 'greentea', 'Rural', 'HomeBrewNews', 'spotify', 'OddSizeBeds', 'stacktrace', 'Dance', 'IndiMusic', 'BloZip', 'Stan', 'hotels', 'LATIMES', 'PUAmethod', 'MenuBar', 'nsw', 'Bible', 'PHANTOMAVRI', 'nederlands', 'opensource', 'Cheese', 'Bad_Cop_No_Donut', 'y2cl', 'joesholmes', 'hairmetal', 'motorsports', 'alife', 'CampingandHiking', 'Rikard', 'pixint', 'redditcompetition', 'BestGamesEver', 'gaming', 'oliveoil', 'pancreaticcancer', 'ptsd', 'Existentialism', 'loosupaya', 'businessnews', 'Exoplanetology', 'taoism', 'shaku1981', 'CarLeasing', 'theater', 'leet', 'web_design', 'bmx', 'crypto', 'technews', 'j2me', 'lexlinguae', 'bitch_n_complain', 'newsben', 'cuetians', 'TORBooks', 'HallOfFame', 'mississippi', 'work', 'Tripartisan', 'ajax', 'mysafetysign', 'HouseMusic', 'crashcourse', 'loldogs', 'gwetzel', 'rubyonrails', 'rentcentralpa', 'mykittygifts', 'sfmagazines', 'socialmediastuff', 'elections', 'teleco', 'mathematics', 'alexrussia', 'tiptopmovie', 'Jacob', 'epicenterblog', 'none', 'lawns', 'NUIGroupIRC', 'openbsd', 'hugeboobs', 'scripting', 'Aylol68', 'TheRickyShow', 'galaxyweblinks', 'phishing', 'social_bookmarking', 'herddit', 'cake', 'caregiving', 'civilengineering', 'Who', 'word', 'KeysHappenings', 'Unbelievable', 'baltimore', 'WeAreTheMusicMakers', 'vfx', 'SinjeLuebbke', 'yeahisawthat', 'Common_Lisp', 'LUKEPICCO', 'Debate', 'cheat_sheets', 'poetscorner', 'sharingjesus', 'closedloopliving', 'photographers', '2008Election', 'drupal', 'colorreddit', 'reddit_trolls', 'WEBFTW', 'JaneDing', 'Paradise', 'entertainment', 'Fran', 'nin', 'lacy2430', 'Plugyoursite', 'robotlunch', 'youthparticipation', 'tangerines', 'GlobalWarming', 'vancec', 'exboyfriendback', 'beyou', 'Wonderwedge', 'Eugene', 'wayne79au', 'flying', 'bulgaria', '2012', 'jquery', 'matija', 'AmericanJewishPower', 'wfaulkner', 'e2mars', 'Vegetarianism', 'ComputerWeekly', 'ANYVIDEO', 'NHibernate', 'greatpinoy', 'Morrisseysolo', 'personals', 'notreallynews', 'valleyvoice', 'thebigbadwolf', 'srpski', 'gender', 'miglioramento', 'ForexMania', 'Chinese', 'Movie', 'Khao_Lak_Thailand', 'Publicani', 'shirts', 'bugs', 'hurd', 'interface_design', 'followup', 'geography', 'pssnaked', 'Collapse_Peak_Oil', 'rgwtest', 'redneck', 'kajiroom', 'YFRIndia', 'hiphop', 'QuadraIsland', 'ExDiggers', 'Interior', 'lift', 'television', 'AcademicArticles', 'weed', 'humanitarian', 'sl', 'sinema', 'GeorgiaAquarium', 'jobinterviews', 'solar', 'rhs', 'Ihitztraffic', 'leBuzzdeLamar', 'mec', 'SamReddit', 'offbeat', 'sortrosia', 'Epilare', 'AvaBea', 'MACGREGOR', 'mg0314a', 'RedPrice', 'filmbuff', 'bizhonorsbooks', 'TwilightGurl', 'jeux_flash', 'VoteDownIf', 'xna', 'microcontrollers', 'AsiaTalk', 'humor', 'PirateParty', 'Tomcan', 'Richien', 'VietNam_website', 'experience', 'zibb', 'europeansolutions', 'hilary', 'thisshouldbepolitics', 'anglotopia', 'modelrocketry', 'OpenEd', 'MassHighTech', 'hacker', 'AnimatedGifs', 'Infos', 'youtube', 'cityofangels', 'TipsterHosting', 'indiemusic', 'jasonallenmiller', 'overmoderated', 'aliyaleigh', '10stepstohealth', 'mysecuritysign', 'merry', 'marketing', 'aodag', 'zine', 'bootstrapping', 'LoveMugs', 'Stratfor', 'BluesMusic', 'grails', 'regassan', 'Abundance', 'crossfit', 'LiverpoolFC', 'shipping', 'nomorecrapmusic', 'progressive', 'god', 'johnmccain', 'cyberthinkinfotech', 'SOA', 'nutechstuff', 'as3', 'xprogramming', 'programming_pics', 'xandy', 'tubing', 'paris', 'ManishSharma', 'Xolusmojo', 'Descary', 'racism', 'Judaism', 'Scary', 'LibertarianSocialism', 'omoibadan', 'longform', 'Oberon', 'harrisonburg', 'Csma', 'ASCII', 'TuyetVoi', 'greece', 'bertels', 'MLM', 'revenue', 'minnesotavikings', 'lullaby', 'ltst', 'DearReddit', 'SatuKarimun', 'outsourcing', 'waaagh', 'terrible', 'schadenfreude', 'Nurse_dot_com', 'webcam', 'AskReddit', 'lojban', 'radio', 'flychina', 'agi', 'Voto', 'genetics', 'Brooklyn', 'onlinebooks', 'imageboards', 'CMMI', 'spk', 'mobileweb', 'kimkardashian', 'PLUSMOOD', 'promos', 'byu', 'noshit', 'ucf', 'blitzforum', 'Astaqauliyah', 'Emo', 'Kaede_Rukawa', 'Contractors', 'BoilerExplosion', 'quant', 'troyflorida', 'teddit', 'IntellectualReddit', 'OURANIMALFRIENDS', 'sugarcrm', 'rubybr', 'polydactyl', 'civildraftinservice', 'thevoiceofdon', 'blogofilia', 'idcontent', 'charts', 'Metal', 'l33t', 'nethack', 'appdata', 'Randomosity', 'Art', 'mandrivafr', 'Corruption', 'breakingBUZZ', 'deandrown', 'WFRE', 'LipLock16', 'Impel', 'sports', 'timperry42', 'brendoreddit', 'beef', 'atari', 'falcons', 'VoteUplf', 'dotfiles', 'Britain', 'altdotnettools', 'GTA4Hacks', 'antiwar', 'bngbng', 'Francophone', 'spanishlanguagenerds', 'Kristronline', 'lechna', 'Xstaticarmchair', 'features', 'LawofSuccess', 'prostitution', 'whilehigh', 'Dwight', 'bigjimslade', 'environment', 'Philippines', 'wenyude', 'medicine', 'RamaOne', 'reddit7752', 'mercurial', 'gundem', 'nondual', 'Michigan', 'pHwebdev', 'ca', 'AirDuctCleaning', 'reeses', 'MMJ', 'britishcolumbia', 'karlitox', 'abortionisprolife', 'postname', 'Peiman', 'blogs', 'boingboing', 'scouting', 'Airfare', 'bliptv', 'ROHIT2SMART', 'elivepages', 'Webroads', 'sportnographe', 'eOffice', 'Parenting', 'Mastercom', 'BestApparel', 'rpg', 'jac481', 'anonymous', 'PakistanHousing', 'mac', 'cyoadventure', 'CollegeCounseling', 'selfimprovement', 'yro', 'bomboimantado', 'ChrisMerchant', 'HotPads', 'hotshots', 'dcpanganiban', 'motorcycle', 'Krugman', 'matt', 'magicTCG', 'p41n', 'whowantslove', 'XYON', 'letsmakeagame', 'socialism', 'venti', 'musicandnoise', 'Educatedguess', 'spiritual', 'theworld', 'Cryptogon', 'haskell', 'getdomain', 'jacobwillread', 'BeardsMotherfucker', 'thelazyslackerblog', 'Pictures', 'newzealand', 'kharis', 'language', 'askJeph', 'ActivistNow', 'brighton', 'RobTurner', 'Opeth', 'CoolSiteOfTheDay', 'programmingbooks', 'interviewquestions', 'handexandi', 'lisp', 'redditsucks', 'culturehacking', 'JLProps', 'dvd', 'newhaven', 'betch', 'quotes', 'jameswatt', 'giveaways', 'BILD_com', 'AmericanPolitics', 'orf', 'interviewpuzzles', 'Saltworks', 'anrinn188', 'firefox', 'themes', 'Documentaries', 'ftw', 'is_computer_on', 'paintball', 'Rhonda', 'Ezekiel', 'evolution', 'RobotUprising', 'AtulTanna', 'ddpulsa', 'pkny23', 'triangle', 'MMA', 'ATWT', '8tracks', 'audai', 'MichaelSeylar', 'javascript', 'bestoutdoortowns', 'Tesla', 'yuen999', 'MoneyAnswerTree', 'themintchicks', 'GregSlevin', 'geeks', 'Caterinca', 'pianoetudes', 'BurningMan', 'Point_', 'Greatdit', 'Mustang', 'splashsface', 'WorkingParents', 'electronic_cigarette', 'miscellaneous', 'FunEbay', 'wealthmanagement', 'polyphasic', 'MusicVideos', 'fial', 'winehq', 'BritishPolitics', 'Mechatroniker', 'graphicnovels', 'nobik', 'fashionnews', 'Nebraska', 'Fedora', 'techymarketer', 'LAlofts', 'kefke44', 'Patty', 'AlvinHe', 'WhiteCollarFraud', 'aragon', 'finance2', '311', 'eu', 'industry', 'arslion', 'ijustreddit', 'autrementleweb', 'Forex', 'selflanguage', 'AquariumFish', 'Williammooch', 'pokemans', 'JamesAddison', 'redditdev', 'RedditRetards', 'TodaysNewsBlog', 'dezan', 'kikko', 'Dreams', 'TheSystemInfo', 'Warcraft', 'Drugs', 'Hopefuls', 'CelebrityBabyGossip', 'campusvideos', 'MaynardsConfusions', 'misc', 'pickuplines', 'fashion', 'fashionweek', 'Artists', 'kinky', 'Mister', 'JesseAbram', 'EeePC', 'Slut', 'video', 'womenofreddit', 'lesb', 'HAM', 'ru', 'serialkiller', 'smellyfish', 'awallafashagba', 'java', 'Mali', 'free_movies', 'socialmedia', 'JamsBio', 'nobama', 'arabicblogs', 'hotel', 'euro', 'malwarecity', 'Xnews', 'tibet', 'anna7317', 'altnet', 'DADA', 'Trays', 'ReverseEngineering', 'skytourbeau', 'opensourcescifi', 'WorldWideNews', 'MegaJonasLova', 'CollegeFootball', 'refreshing', 'luke', 'rest', 'HealthInsurance', 'turf', 'Ninja', 'redditorpics', 'skateboarding', 'oseun', 'EuroBookings', 'Passion', 'mediareddit', 'developer', 'straightedge', 'SonyPS3', 'flatlanderjournal', 'zapped', 'madeinusa', 'screenshots', 'PCebooks', 'IRONMIKEHAMILTON', 'OUI', 'Vietnameasytravel', 'Golfo', 'romeguide', 'Reposts', 'interesting', 'peaceulloan', 'storesaver', 'unlawflcombatnt', 'userstorylab', 'CompEddit', 'PeterSchiff', 'Redants', 'finnish', 'chinaacrylicbeads', 'mental_helaht', 'apple89', 'KiNov', 'Bonsai', 'whatsupp', 'serbia', 'artmine1', 'BlogContests', 'nonprofit', '5Cene', 'jecobsw', 'blanket', 'freebies', 'engrish', 'Celebs_Gossiper', 'Iwillblowupthelaptop', 'fiction', 'infp', 'maaraj', 'FREE', 'pycon2008', 'cosplay', 'giaoduc', 'altaVoz', 'metalworking', 'recycled', 'davidhood189', 'statistics', 'epilasyon', 'Roofio81', 'imprimerie', 'Integral', 'england', 'Dr_Horrible', 'classicReddit', 'Doom_And_Gloom', 'howard_rosner_reddit', 'MensaPhilOpen', 'birding', 'Dunn4good', 'bdsm', 'operabrowser', 'TechDaysTour', 'request', 'ThirdWaveFeminism', 'TechnoGameGripes', 'hotselling', 'fukuro77', 'Guitar', 'cheerwine', 'future', 'math', 'survivalism', 'fucknancygrace', 'NatGeo', 'AlquileresArgentina', 'Ibollywoodvideos', 'politics2', 'JHaHa', 'gay', 'src_montbeliard', 'Woerterbuecher', 'Dayspamiami', 'mccainsgaffeoftheday', 'blenderbabies', 'govstuff', 'agile', 'Uniongal', 'fr', 'muslims', 'rockerhifi', 'financialmarkets', 'interactive', 'Liang', 'lifestyle', 'chess', 'JPK', 'BRAAAAINS', 'Product', 'dnorton', 'Dealzin', 'bittersweet', 'DATSOL', 'groovy', 'culture', 'joufgirls', 'geovanimartinez', 'GTA4', 'FIlm', 'GroepsLog', 'Datingsites', 'timecube', 'Autoseatcushions', 'rosilawani', 'Hapi', 'garden', 'ACGA', 'Rule_34', 'censorship', 'arabic', 'facebook', 'FootballCentral', 'haloforge', 'baconcat', 'Gold', 'downvote', 'hacktivism', 'gridsix', 'spammers', 'ChristmasSALE', 'PassionOnNow', 'SportsEvent', 'grist', 'crybabies', 'Bamze', 'kansascity', 'zombies', 'DIPPSEO', 'plazanetwork', 'Reviews', 'luisalonsoja', 'faboccasion', 'gaynsfw', 'policeabuse', 'Shedworking', 'Squidoo', 'ArkansasShootings', 'technobay', 'jenn', 'bahai', 'bianca', 'athiest', 'hockeysphere', 'eo', 'Gunners', 'siobs', 'Big_Tits_old_Milfs', 'Miami', 'Physics', 'Zensurf', 'Sexy', 'macgamedev', 'Media_Sharing', 'extjs', 'world_adekosis', 'blizzit', 'Victoria', 'usa', 'Firnrg', 'VideoBuzz', 'Esperanto', 'erlang', 'Tasers', 'HealthAndFitness', 'GPSLLC', 'alexandre', 'orkut', 'responsetoemail', 'hypotheticals', 'sushi', 'ntoLabs', 'kultur_sanat', 'poll', 'Marrimiller', 'Taringames', 'ipv6', 'sriganesh', 'KnittingReddit', 'windowshots', 'biassaid', 'fuckedinvestmentbank', 'iPhoneDev', 'pennystocks', 'LinuxTutorials', 'australian', 'angelsflower', 'NorthCarolina', 'CarpetRepair', 'git', 'Yalin', 'thomas', 'schwa', 'chilipress', 'Cricket', 'bash', 'binoshtb', 'vintagecomputing', 'nyc', 'korea', 'PoplarGirl1', 'globalization', 'BRBPodcast', 'bees', 'Chennai', 'alexandra6', 'naphi', 'architecture', 'KnobsHingesandMore', 'homeschool', 'SexyWomen', 'digitaladvertising', 'tennis', 'Bnews', 'AntiHillary', 'radhoo', 'VillasMoraira', 'aurismarketing', 'moonhoax', 'GGiPhone', 'University', 'nintin', 'aviation', 'renil', 'vinblackham', 'avr', 'RivieraNayarit', 'JetSetSocialite', 'baby', 'CorporateCreative', 'RooR', 'loveandroid', 'pitbulls', 'Weird', 'Ongofu', 'TennisGrandstand', 'terroristrepublicans', 'ChicagoREALTOR', 'diddit', 'SophiesWorld', 'Honorcide', 'BDIU', 'karaoke', 'xbox360games', 'GlobalNews', 'Lancement', 'twilight', 'ischool', 'Boise', 'popetastic', 'kebek', 'gaidep', 'megaroyalti', 'televizoare', 'darl', 'Risk', 'survivalfood', 'OneMFriends', 'Buddhism', 'words', 'CARTOON', 'MagicMushrooms', 'RouletteSystem', 'Weblogicguru', 'Blueyes0094', 'NuyoRiquena', 'autonews', 'israelis', 'BDJobs', 'anilobm', 'washingtondc', 'xinh', 'AsianGirls', 'ohhdisss', 'BSD', 'thewayoftheweb', 'footballzone', 'wazayf', 'arbejdsglaede', 'books', 'plt', 'incomingbooks', 'cnbeta', 'plavix', 'aii3e', 'Paunchiness', 'USMLEMD', 'cars', 'triathlon', 'foccart', 'psychology', 'GamingIndustryNews', 'sweden', 'solusiplus', 'worstof', 'tempatan', 'Jithin', 'freesoftware', 'MAXSPEED', 'LosAngeles', 'kliqd', 'rdpriest', 'Fun', 'DotSiamMove', 'redditAnswers', 'Economics', 'Smarty', 'homedreamtheater', 'FirstMeditations', 'Tobacco', 'publishing', 'audio', 'NileshRathi', 'scales', 'pinkfloyd', 'Autos', 'hardware', 'BrooklynFriends', 'zeuux', 'newcapitalclub', 'suave', 'uclanerds', 'Kucinich', 'embassysuitesniagara', 'VGC', 'Glorycamp', 'purity_products', 'LOC', 'hamo2008', 'aerospace', 'secret', 'drunk', 'Demolition', 'projecth3o', 'vikash', 'Stoner', 'Pornorati', 'dancemusik', 'Rudyman', 'Heroes', 'whine', 'bears', 'BooCooBay', 'SecurityReddit', 'unsigned', 'ourdyingplanet', 'Portland', 'Payday', 'merecoincidence', '_Descary', 'de', 'Ethics', 'drburn', 'sunsecurity', 'picture', 'kablamo', 'TrafficSchool', 'backdropsource', 'virtualization', 'Qtour', 'librarians', 'france', 'Claire', 'DMT', 'monkeys', 'dotnet30', 'Sexyf', 'marriedtothesea', 'yep', 'DigitalDisasters', 'mantriarun', 'GoBrandIt', 'DebtReliefServices', 'Powerplay', 'wine', 'voteup', 'ronpaul', 'visualeffects', 'Antiglobalism', 'solaris', 'theflatlanders', 'ryerson', 'mypussyhurts', 'microblogging', 'hotblooded', 'Hans', 'gp2x', 'siliconvalley', 'funny', 'daily_mail', 'WorkHappyNow', 'sgportal', 'rugby', 'hackers', 'LegalTeens', 'uymasadakodum', 'younessi', 'poppins_reddit', 'koreangamenewstest1', 'MyDailyDj', 'nytimes', 'testtest22', 'vid', 'TotallyTennessee', 'Rhymes', 'LatinAmerica', 'Storesonline', 'test888', 'palin', 'za121n', 'Lighting', 'lovereddit', 'Minixr', 'petshop', 'Sukhpreet', 'cookie', 'Games', '1111111', 'sick', 'Punkrockin', 'Georgia', 'Edwards', 'brondo', 'toonsUp', 'THATPainterLady', 'Dipsy', 'BeyondWords', 'Deddit', 'hotsauce', 'PreparedSociety', 'freelancing', 'pbwiki', 'ClothesBracelets', 'directory', 'RedditTakesAction', 'Stuff', 'getpresales', 'weddingchapel', 'Shoes', 'StockMarket', 'pokerposted', 'PotterNerds', 'desktops', 'wrong_subreddit', 'OrangeCountyNY', 'siliconflorist', 'Drexel', 'London_News', 'Infosec2008', 'TRADEMARK', 'Jawad', 'Zharster', 'Graphics4u', 'algorithms', 'WebInfoList', 'gratefuldead', 'illuminati', 'LechnaBlog', 'Dressupgurl', 'cleavepoetry', 'political_issues', 'CoolCars', 'Online', 'BCFood', 'amitshah', 'StupidNinjaSociety', 'spain', 'bestdamntech', 'experiment1', 'simon']\n"
     ]
    }
   ],
   "source": [
    "#Graph creation\n",
    "SNet = nx.Graph()\n",
    "SNet.add_nodes_from(set(unique_subreddits))\n",
    "print(SNet.nodes)"
   ]
  },
  {
   "cell_type": "code",
   "execution_count": 249,
   "metadata": {},
   "outputs": [],
   "source": [
    "def generate_nodes(node_list):\n",
    "    if(len(node_list)>0): \n",
    "        list_of_edges = list(itertools.combinations(node_list,2))\n",
    "        for x,y in list_of_edges:\n",
    "            if (x, y) in SNet.edges:\n",
    "                SNet.edges[x, y]['weight'] += 1\n",
    "            else:\n",
    "                SNet.add_edge(x, y, weight=1)"
   ]
  },
  {
   "cell_type": "code",
   "execution_count": 122,
   "metadata": {},
   "outputs": [],
   "source": [
    "curr_author = \"\"\n",
    "node_list = []\n",
    "for _, author, subreddit in union_author_subreddit.itertuples():\n",
    "    if curr_author != author:\n",
    "        curr_author = author\n",
    "        generate_nodes(node_list)\n",
    "        node_list.clear()\n",
    "    node_list.append(subreddit)"
   ]
  },
  {
   "cell_type": "code",
   "execution_count": 123,
   "metadata": {},
   "outputs": [],
   "source": [
    "nx.info(SNet)\n",
    "output_path = \"models/SNet.gml\"\n",
    "\n",
    "nx.write_gml(SNet, output_path)"
   ]
  },
  {
   "cell_type": "code",
   "execution_count": 14,
   "metadata": {},
   "outputs": [],
   "source": [
    "G = nx.read_gml(\"models/SNet.gml\")"
   ]
  },
  {
   "cell_type": "code",
   "execution_count": 245,
   "metadata": {},
   "outputs": [
    {
     "name": "stdout",
     "output_type": "stream",
     "text": [
      "Gustina mreze je =  0.016525024949303878\n"
     ]
    }
   ],
   "source": [
    "#1.7 Network density\n",
    "\n",
    "number_of_edges = SNet.number_of_edges()\n",
    "number_of_nodes = SNet.number_of_nodes()\n",
    "\n",
    "absolut_number_of_edges = number_of_nodes * (number_of_nodes - 1)/2\n",
    "\n",
    "network_density = number_of_edges/absolut_number_of_edges\n",
    "\n",
    "print(\"Gustina mreze je = \",network_density)"
   ]
  },
  {
   "cell_type": "code",
   "execution_count": 21,
   "metadata": {},
   "outputs": [
    {
     "name": "stdout",
     "output_type": "stream",
     "text": [
      "Niz povezanih komponenti:  [3524, 3, 3, 3, 2, 2, 2, 2, 2, 2, 2, 2, 2, 2, 2, 2, 2, 2, 2, 2]\n",
      "Br povezanih komponenti:  20\n",
      "Velicina najvece komponente:  3524\n"
     ]
    }
   ],
   "source": [
    "nx.info(G)\n",
    "\n",
    "#Uklanjanje izolovanih cvorova\n",
    "nx.is_connected(G)\n",
    "toRemove = list(nx.isolates(G))\n",
    "G.remove_nodes_from(toRemove)\n",
    "nx.is_connected(G)\n",
    "\n",
    "#Izvlacenje najvece komponente\n",
    "components_array = [len(c) for c in sorted(nx.connected_components(G), key=len, reverse=True)]\n",
    "print('Niz povezanih komponenti: ',components_array)\n",
    "print('Br povezanih komponenti: ',len(components_array))\n",
    "S = [G.subgraph(c).copy() for c in nx.connected_components(G)]\n",
    "largest_component = S[0]\n",
    "print('Velicina najvece komponente: ',largest_component.number_of_nodes())\n"
   ]
  },
  {
   "cell_type": "code",
   "execution_count": null,
   "metadata": {},
   "outputs": [],
   "source": [
    "G = largest_component"
   ]
  },
  {
   "cell_type": "code",
   "execution_count": 244,
   "metadata": {},
   "outputs": [],
   "source": [
    "#Save largest component\n",
    "\n",
    "output_path = \"models/SNet.gml\"\n",
    "nx.write_gml(G, \"models/SNetLargestComponent.gml\")"
   ]
  },
  {
   "cell_type": "code",
   "execution_count": 157,
   "metadata": {},
   "outputs": [
    {
     "name": "stdout",
     "output_type": "stream",
     "text": [
      "5\n"
     ]
    }
   ],
   "source": [
    "#1.8 Diameter and Avg Shortest path\n",
    "diameter = nx.diameter(largest_component)\n",
    "print(diameter)\n",
    "#nx.average_shortest_path_length(largest_component, weight='weight') #2.45908369936751\n",
    "# uradi sa i bez tezina"
   ]
  },
  {
   "cell_type": "code",
   "execution_count": null,
   "metadata": {},
   "outputs": [],
   "source": [
    "#1.9 ???\n",
    "#velicine komponenata\n",
    "#postoji gigantska komponenta"
   ]
  },
  {
   "cell_type": "code",
   "execution_count": 172,
   "metadata": {},
   "outputs": [
    {
     "name": "stdout",
     "output_type": "stream",
     "text": [
      "\n",
      "Number of nodes :  3524\n",
      "Number of edges :  156934\n",
      "Broj čvorova originalne mreže minus broj čvorova u ER mreži iznosi 57, što je odstupanje od 0.036321001185211615%\n"
     ]
    }
   ],
   "source": [
    "#1.10 ER Model\n",
    "n = G.number_of_nodes()\n",
    "m = G.number_of_edges()\n",
    "print(\"\\nNumber of nodes : \", n)\n",
    "print(\"Number of edges : \", m)\n",
    "\n",
    "p = ( 2*float(m) ) / ( n* (n-1) )\n",
    "er_net = nx.erdos_renyi_graph(n,p)\n",
    "\n",
    "delta_m = m - er_net.number_of_edges()\n",
    "print(f\"Broj čvorova originalne mreže minus broj čvorova u ER mreži iznosi {delta_m}, što je odstupanje od {abs(float(delta_m)) * 100 / m}%\")\n"
   ]
  },
  {
   "cell_type": "code",
   "execution_count": 187,
   "metadata": {},
   "outputs": [
    {
     "name": "stdout",
     "output_type": "stream",
     "text": [
      "Average clustering coefficient :  0.7705443947900459\n",
      "Global clustering coefficient :  0.26730816965364673\n",
      "Local clustering coefficients\n",
      "            subreddit        cc\n",
      "2359    Plugyoursite  0.001133\n",
      "804       ryanbulmer  0.001091\n",
      "2160      Indyapulse  0.001077\n",
      "470             Fish  0.001054\n",
      "105     redditCANADA  0.001038\n",
      "...              ...       ...\n",
      "2746           Liang  0.000033\n",
      "849   Ambientalmente  0.000032\n",
      "2479            Voto  0.000016\n",
      "2807    kultur_sanat  0.000011\n",
      "1127         Turkiye  0.000011\n",
      "\n",
      "[2991 rows x 2 columns]\n"
     ]
    }
   ],
   "source": [
    "#1.10 Average and global clustering coefficient, Local clustering coefficient distribution for SNet\n",
    "      \n",
    "average_clustering_coefficient = nx.average_clustering(G)\n",
    "global_clustering_coefficient = nx.transitivity(G)\n",
    "\n",
    "subreddit, clustering_coef = zip(*nx.clustering(G, weight = \"weight\").items())\n",
    "local_clustering_data = [(subreddit, cc)  for subreddit, cc in zip(subreddit, clustering_coef) if cc > 0]\n",
    "local_clustering_coefficients = pd.DataFrame(local_clustering_data, columns = [\"subreddit\", \"cc\"])\n",
    "local_clustering_coefficients.sort_values('cc', inplace = True, ascending=False)\n",
    "\n",
    "print(\"Average clustering coefficient : \", average_clustering_coefficient)\n",
    "print(\"Global clustering coefficient : \", global_clustering_coefficient)\n",
    "print(\"Local clustering coefficients\\n\", local_clustering_coefficients)\n",
    "\n",
    "plt.hist(local_clustering_coefficients['cc'], color = 'pink', edgecolor = 'black',\n",
    "         bins = int(300/5))\n",
    "\n",
    "plt.title('Local clustering coefficient distribution')\n",
    "plt.xlabel('Clustering Coefficient')\n",
    "plt.ylabel('Number of nodes')\n",
    "plt.tight_layout()\n",
    "plt.show()\n"
   ]
  },
  {
   "cell_type": "code",
   "execution_count": 190,
   "metadata": {},
   "outputs": [
    {
     "name": "stdout",
     "output_type": "stream",
     "text": [
      "Average clustering coefficient :  0.025273234845362435\n",
      "Global clustering coefficient :  0.025267744160115842\n",
      "Local clustering coefficients\n",
      "       subreddit        cc\n",
      "1629       1629  0.037681\n",
      "612         612  0.034369\n",
      "1204       1204  0.033674\n",
      "2484       2484  0.032864\n",
      "359         359  0.032809\n",
      "...         ...       ...\n",
      "1032       1032  0.017593\n",
      "2426       2426  0.017514\n",
      "658         658  0.016963\n",
      "1604       1604  0.016729\n",
      "548         548  0.015066\n",
      "\n",
      "[3524 rows x 2 columns]\n"
     ]
    },
    {
     "data": {
      "image/png": "[encoded data removed]",
      "text/plain": [
       "<Figure size 432x288 with 1 Axes>"
      ]
     },
     "metadata": {
      "needs_background": "light"
     },
     "output_type": "display_data"
    }
   ],
   "source": [
    "#1.10 Average and global clustering coefficient, Local clustering coefficient distribution for ER Net\n",
    "\n",
    "average_clustering_coefficient_er = nx.average_clustering(er_net)\n",
    "global_clustering_coefficient_er = nx.transitivity(er_net)\n",
    "\n",
    "\n",
    "subreddit_er, clustering_coef_er = zip(*nx.clustering(er_net, weight = \"weight\").items())\n",
    "local_clustering_data_er = [(subreddit, cc)  for subreddit, cc in zip(subreddit_er, clustering_coef_er) if cc > 0]\n",
    "local_clustering_coefficients_er = pd.DataFrame(local_clustering_data_er, columns = [\"subreddit\", \"cc\"])\n",
    "local_clustering_coefficients_er.sort_values('cc', inplace = True, ascending=False)\n",
    "\n",
    "print(\"Average clustering coefficient : \", average_clustering_coefficient_er)\n",
    "print(\"Global clustering coefficient : \", global_clustering_coefficient_er)\n",
    "print(\"Local clustering coefficients\\n\", local_clustering_coefficients_er)\n",
    "\n",
    "plt.hist(local_clustering_coefficients_er['cc'], color = 'pink', edgecolor = 'black',\n",
    "         bins = int(300/5))\n",
    "\n",
    "plt.title('ER Local clustering coefficient distribution')\n",
    "plt.xlabel('ER Clustering Coefficient')\n",
    "plt.ylabel('ER Number of nodes')\n",
    "plt.tight_layout()\n",
    "plt.show()"
   ]
  },
  {
   "cell_type": "code",
   "execution_count": null,
   "metadata": {},
   "outputs": [],
   "source": [
    "#1.11 avg shortest path i clustering coef poredjen sa random mrezom"
   ]
  },
  {
   "cell_type": "code",
   "execution_count": 192,
   "metadata": {},
   "outputs": [
    {
     "name": "stdout",
     "output_type": "stream",
     "text": [
      "Koeficijent asortativnosti na osnovu netežinskog stepena čvora: -0.4367025375401105\n"
     ]
    }
   ],
   "source": [
    "#1.12\n",
    "# asortativnost na osnovu netežinskog stepena čvora\n",
    "r1 = nx.degree_assortativity_coefficient(G)\n",
    "print(f\"Koeficijent asortativnosti na osnovu netežinskog stepena čvora: {r1}\")\n",
    "\n",
    "# asortativnost na osnovu težinskog stepena čvora\n",
    "#r2 = nx.degree_assortativity_coefficient(G, weight='weight') - ne moze da se izracuna na lokalnoj masini\n",
    "#print(f\"Koeficijent asortativnosti na osnovu težinskog stepena čvora: {r2}\")"
   ]
  },
  {
   "cell_type": "code",
   "execution_count": null,
   "metadata": {},
   "outputs": [],
   "source": [
    "#1.12 HAVEL HAKIMI analiza !!!"
   ]
  },
  {
   "cell_type": "code",
   "execution_count": null,
   "metadata": {},
   "outputs": [],
   "source": [
    "#1.13 Ne ispoljava rich club phenomenon"
   ]
  },
  {
   "cell_type": "code",
   "execution_count": null,
   "metadata": {},
   "outputs": [],
   "source": [
    "#1.14"
   ]
  },
  {
   "cell_type": "code",
   "execution_count": 203,
   "metadata": {},
   "outputs": [],
   "source": [
    "def plot_deg_frequency(G, weighted = False, xscale = \"log\", yscale = \"log\"):\n",
    "\n",
    "    if weighted:\n",
    "        degrees = G.degree(weight=\"weight\")\n",
    "    else:\n",
    "        degrees = G.degree()\n",
    "        \n",
    "    _, deg_list = zip(*degrees)\n",
    "    deg_counts = Counter(deg_list)        \n",
    "    print(deg_counts)\n",
    "    x, y = zip(*deg_counts.items())                                                      \n",
    "\n",
    "    plt.figure(1)   \n",
    "\n",
    "    # prep axes   \n",
    "    if weighted:\n",
    "        plt.xlabel('weighted degree')  \n",
    "    else:\n",
    "        plt.xlabel('degree')                                                                                                             \n",
    "    plt.xscale(xscale)                                                                                                                \n",
    "    plt.xlim(1, max(x))  \n",
    "\n",
    "    plt.ylabel('frequency')                                                                                                          \n",
    "    plt.yscale(yscale)                                                                                                                \n",
    "    plt.ylim(1, max(y))                                                                                                             \n",
    "                                                                                                                                                                                                    \n",
    "    plt.scatter(x, y, marker='.')                                                                                                    \n",
    "    plt.show()"
   ]
  },
  {
   "cell_type": "code",
   "execution_count": 204,
   "metadata": {},
   "outputs": [
    {
     "name": "stdout",
     "output_type": "stream",
     "text": [
      "Counter({1: 530, 2: 250, 3: 148, 5: 97, 4: 86, 6: 77, 11: 50, 10: 44, 7: 43, 8: 43, 18: 41, 16: 39, 14: 39, 13: 38, 12: 38, 9: 36, 24: 35, 29: 31, 20: 31, 25: 30, 17: 30, 21: 29, 19: 29, 23: 28, 22: 28, 26: 27, 28: 27, 15: 25, 43: 25, 31: 23, 30: 23, 38: 22, 33: 22, 78: 21, 49: 20, 32: 20, 36: 19, 39: 19, 45: 19, 44: 18, 48: 17, 27: 17, 50: 17, 37: 17, 56: 16, 41: 16, 64: 16, 42: 16, 35: 15, 121: 15, 40: 15, 34: 14, 55: 14, 180: 14, 83: 14, 57: 14, 74: 13, 75: 13, 46: 13, 84: 13, 68: 12, 52: 12, 54: 12, 62: 11, 51: 11, 61: 11, 67: 11, 95: 11, 60: 11, 58: 10, 90: 10, 59: 10, 96: 10, 71: 10, 66: 9, 72: 9, 99: 9, 101: 9, 47: 9, 81: 8, 69: 8, 103: 8, 80: 8, 89: 8, 73: 8, 122: 8, 115: 8, 92: 8, 86: 8, 93: 8, 63: 7, 114: 7, 65: 7, 76: 7, 135: 7, 102: 7, 91: 7, 157: 7, 125: 7, 106: 7, 85: 7, 70: 7, 192: 7, 140: 6, 138: 6, 120: 6, 228: 6, 109: 6, 53: 5, 88: 5, 105: 5, 193: 5, 100: 5, 153: 5, 162: 5, 256: 5, 127: 5, 132: 5, 87: 5, 98: 5, 149: 5, 181: 5, 107: 5, 104: 5, 183: 5, 134: 4, 200: 4, 77: 4, 110: 4, 82: 4, 188: 4, 182: 4, 128: 4, 167: 4, 116: 4, 119: 4, 137: 4, 488: 3, 161: 3, 321: 3, 113: 3, 94: 3, 230: 3, 133: 3, 245: 3, 178: 3, 694: 3, 199: 3, 196: 3, 112: 3, 190: 3, 126: 3, 131: 3, 244: 3, 79: 3, 156: 3, 229: 3, 205: 3, 111: 3, 97: 3, 185: 3, 136: 3, 231: 3, 145: 3, 172: 3, 271: 3, 304: 3, 130: 3, 164: 3, 150: 3, 197: 3, 668: 2, 142: 2, 290: 2, 226: 2, 993: 2, 790: 2, 246: 2, 166: 2, 247: 2, 118: 2, 223: 2, 302: 2, 234: 2, 233: 2, 284: 2, 426: 2, 179: 2, 336: 2, 241: 2, 143: 2, 159: 2, 526: 2, 171: 2, 353: 2, 252: 2, 255: 2, 265: 2, 282: 2, 462: 2, 189: 2, 365: 2, 232: 2, 222: 2, 177: 2, 371: 2, 301: 2, 334: 2, 469: 2, 314: 2, 296: 2, 346: 2, 269: 2, 549: 2, 151: 2, 433: 2, 169: 2, 147: 2, 155: 2, 191: 2, 455: 2, 160: 2, 264: 2, 341: 2, 215: 2, 327: 2, 261: 2, 173: 2, 338: 2, 278: 2, 293: 2, 238: 2, 254: 2, 257: 2, 220: 2, 123: 2, 163: 2, 186: 2, 318: 2, 237: 2, 170: 2, 203: 2, 124: 2, 225: 2, 108: 2, 523: 2, 141: 2, 1470: 1, 368: 1, 652: 1, 420: 1, 1009: 1, 458: 1, 117: 1, 643: 1, 765: 1, 533: 1, 949: 1, 369: 1, 817: 1, 1428: 1, 227: 1, 965: 1, 224: 1, 2221: 1, 1501: 1, 2171: 1, 208: 1, 1475: 1, 1169: 1, 578: 1, 2211: 1, 617: 1, 312: 1, 577: 1, 492: 1, 315: 1, 1044: 1, 195: 1, 344: 1, 749: 1, 383: 1, 786: 1, 637: 1, 505: 1, 680: 1, 2043: 1, 317: 1, 1018: 1, 1126: 1, 636: 1, 627: 1, 1994: 1, 2091: 1, 641: 1, 310: 1, 849: 1, 1060: 1, 1333: 1, 585: 1, 354: 1, 194: 1, 529: 1, 219: 1, 513: 1, 461: 1, 796: 1, 920: 1, 855: 1, 573: 1, 404: 1, 258: 1, 176: 1, 491: 1, 201: 1, 1251: 1, 466: 1, 1425: 1, 739: 1, 395: 1, 876: 1, 473: 1, 490: 1, 198: 1, 384: 1, 594: 1, 251: 1, 467: 1, 727: 1, 468: 1, 696: 1, 348: 1, 543: 1, 2105: 1, 947: 1, 144: 1, 1095: 1, 405: 1, 670: 1, 266: 1, 311: 1, 379: 1, 477: 1, 630: 1, 481: 1, 519: 1, 129: 1, 287: 1, 734: 1, 216: 1, 493: 1, 359: 1, 1024: 1, 291: 1, 522: 1, 152: 1, 427: 1, 139: 1, 518: 1, 986: 1, 280: 1, 333: 1, 331: 1, 389: 1, 165: 1, 390: 1, 1441: 1, 279: 1, 210: 1, 351: 1, 940: 1, 3143: 1, 1085: 1, 221: 1, 294: 1, 597: 1, 494: 1, 451: 1, 411: 1, 322: 1, 463: 1, 1028: 1, 447: 1, 2044: 1, 202: 1, 187: 1, 204: 1, 394: 1, 846: 1, 174: 1, 168: 1, 382: 1, 448: 1, 567: 1, 212: 1, 355: 1, 260: 1, 239: 1, 381: 1, 569: 1, 1503: 1, 752: 1, 1206: 1, 388: 1, 213: 1, 146: 1, 933: 1, 520: 1, 892: 1, 658: 1, 1090: 1, 380: 1, 980: 1, 401: 1, 596: 1, 1343: 1, 1099: 1, 370: 1, 452: 1, 273: 1, 576: 1, 1067: 1, 217: 1, 409: 1, 629: 1, 240: 1, 1655: 1, 903: 1, 386: 1, 595: 1, 2061: 1, 516: 1, 374: 1, 1688: 1, 1145: 1, 430: 1, 356: 1, 1621: 1, 456: 1, 955: 1, 1132: 1, 1505: 1, 428: 1, 345: 1, 414: 1, 366: 1, 510: 1, 515: 1, 326: 1, 775: 1, 906: 1, 236: 1, 599: 1, 446: 1, 363: 1, 248: 1, 281: 1, 1001: 1, 148: 1, 364: 1, 235: 1, 476: 1, 660: 1, 638: 1, 263: 1, 360: 1, 323: 1, 422: 1, 361: 1, 950: 1, 748: 1, 320: 1, 1537: 1, 666: 1, 309: 1, 737: 1, 2123: 1, 400: 1, 362: 1})\n"
     ]
    },
    {
     "data": {
      "image/png": "[encoded data removed]",
      "text/plain": [
       "<Figure size 432x288 with 1 Axes>"
      ]
     },
     "metadata": {
      "needs_background": "light"
     },
     "output_type": "display_data"
    }
   ],
   "source": [
    "plot_deg_frequency(G)"
   ]
  },
  {
   "cell_type": "code",
   "execution_count": 205,
   "metadata": {},
   "outputs": [
    {
     "name": "stdout",
     "output_type": "stream",
     "text": [
      "Counter({1: 525, 2: 243, 3: 146, 5: 94, 4: 81, 6: 77, 7: 47, 11: 47, 18: 42, 10: 41, 14: 39, 13: 38, 8: 38, 21: 37, 24: 35, 12: 34, 19: 33, 16: 31, 9: 30, 25: 30, 17: 27, 29: 26, 28: 26, 22: 25, 43: 25, 26: 24, 20: 24, 15: 23, 38: 23, 23: 23, 64: 23, 27: 22, 40: 21, 31: 20, 78: 19, 45: 18, 34: 18, 36: 16, 44: 16, 57: 16, 30: 16, 39: 15, 33: 14, 48: 14, 35: 14, 67: 14, 121: 14, 32: 14, 49: 13, 52: 13, 56: 12, 51: 12, 76: 12, 41: 12, 61: 12, 59: 12, 54: 11, 50: 11, 37: 11, 46: 11, 74: 10, 90: 10, 42: 10, 85: 10, 83: 10, 94: 9, 180: 9, 53: 8, 79: 8, 68: 8, 106: 8, 120: 8, 55: 8, 75: 7, 117: 7, 112: 7, 181: 7, 71: 7, 110: 7, 98: 6, 114: 6, 73: 6, 47: 6, 58: 6, 89: 6, 185: 6, 107: 6, 65: 6, 62: 6, 128: 5, 91: 5, 77: 5, 235: 5, 80: 5, 72: 5, 152: 5, 133: 5, 176: 5, 102: 5, 104: 5, 127: 5, 153: 5, 60: 5, 199: 5, 167: 5, 69: 5, 86: 5, 214: 5, 101: 5, 81: 5, 124: 5, 221: 4, 99: 4, 84: 4, 105: 4, 219: 4, 82: 4, 175: 4, 159: 4, 163: 4, 149: 4, 177: 4, 238: 4, 66: 4, 118: 4, 92: 4, 242: 4, 203: 4, 160: 4, 100: 4, 108: 4, 63: 4, 125: 3, 88: 3, 129: 3, 171: 3, 97: 3, 205: 3, 338: 3, 178: 3, 263: 3, 184: 3, 145: 3, 653: 3, 217: 3, 135: 3, 122: 3, 508: 3, 126: 3, 243: 3, 116: 3, 157: 3, 115: 3, 136: 3, 245: 3, 173: 3, 289: 3, 93: 3, 162: 3, 179: 3, 190: 3, 161: 3, 143: 3, 327: 3, 189: 3, 103: 3, 141: 3, 147: 3, 123: 3, 215: 3, 70: 3, 150: 3, 172: 3, 276: 2, 275: 2, 182: 2, 438: 2, 218: 2, 469: 2, 433: 2, 228: 2, 295: 2, 254: 2, 587: 2, 119: 2, 280: 2, 328: 2, 216: 2, 207: 2, 269: 2, 249: 2, 191: 2, 196: 2, 593: 2, 142: 2, 303: 2, 151: 2, 164: 2, 192: 2, 1487: 2, 320: 2, 197: 2, 725: 2, 2005: 2, 400: 2, 380: 2, 170: 2, 482: 2, 329: 2, 582: 2, 285: 2, 155: 2, 230: 2, 976: 2, 377: 2, 284: 2, 2850: 2, 290: 2, 111: 2, 87: 2, 202: 2, 499: 2, 113: 2, 1304: 2, 294: 2, 413: 2, 137: 2, 169: 2, 144: 2, 278: 2, 1791: 2, 379: 2, 282: 2, 154: 2, 385: 2, 314: 2, 1794: 2, 308: 2, 1856: 2, 513: 2, 504: 2, 231: 2, 523: 2, 270: 2, 224: 2, 291: 2, 476: 2, 339: 2, 96: 2, 398: 2, 274: 2, 298: 2, 564: 2, 209: 2, 146: 2, 165: 2, 259: 2, 7942: 1, 6797: 1, 613: 1, 123182: 1, 3915: 1, 982: 1, 9623: 1, 468: 1, 3305: 1, 39971: 1, 35662: 1, 256: 1, 10807: 1, 3623: 1, 457: 1, 1519: 1, 818: 1, 10294: 1, 15866: 1, 6348: 1, 27570: 1, 1844: 1, 16072: 1, 103354: 1, 881: 1, 847: 1, 158: 1, 972: 1, 34487: 1, 989: 1, 277894: 1, 131301: 1, 866: 1, 305744: 1, 624: 1, 107236: 1, 676: 1, 281: 1, 1888: 1, 479: 1, 58780: 1, 667: 1, 2550: 1, 5045: 1, 775: 1, 2187: 1, 258: 1, 600: 1, 1108: 1, 865: 1, 313: 1, 4217: 1, 897: 1, 5684: 1, 322329: 1, 206: 1, 1531: 1, 844: 1, 9620: 1, 1458: 1, 5971: 1, 257: 1, 1719: 1, 951: 1, 3936: 1, 1386: 1, 41901: 1, 815: 1, 2099: 1, 585: 1, 424: 1, 211: 1, 2884: 1, 1879: 1, 14954: 1, 421: 1, 2619: 1, 23880: 1, 911: 1, 10650: 1, 5888: 1, 166: 1, 821: 1, 803: 1, 551: 1, 14310: 1, 230748: 1, 411: 1, 810: 1, 511: 1, 503: 1, 36483: 1, 48956: 1, 6260: 1, 801: 1, 1353: 1, 9262: 1, 643: 1, 226604: 1, 270770: 1, 9791: 1, 2242: 1, 1369: 1, 22924: 1, 47250: 1, 773: 1, 5176: 1, 5119: 1, 901: 1, 83310: 1, 699: 1, 1235: 1, 195: 1, 1158: 1, 9468: 1, 381: 1, 1032: 1, 2609: 1, 1577: 1, 494: 1, 934: 1, 5156: 1, 95: 1, 248: 1, 302: 1, 836: 1, 4670: 1, 3806: 1, 19378: 1, 343: 1, 23546: 1, 2090: 1, 679: 1, 18059: 1, 5960: 1, 316: 1, 3260: 1, 714: 1, 4321: 1, 5845: 1, 420: 1, 592: 1, 63739: 1, 3822: 1, 4419: 1, 371: 1, 86653: 1, 300: 1, 350: 1, 495: 1, 610: 1, 12126: 1, 208: 1, 1093: 1, 528: 1, 497: 1, 21026: 1, 5472: 1, 345: 1, 5368: 1, 3015: 1, 364: 1, 2717: 1, 555: 1, 10119: 1, 443: 1, 14613: 1, 2901: 1, 11106: 1, 1144: 1, 6182: 1, 279: 1, 5316: 1, 288339: 1, 253: 1, 30424: 1, 325: 1, 51802: 1, 819: 1, 1200: 1, 1292: 1, 3378: 1, 11743: 1, 519: 1, 835: 1, 2046: 1, 5830: 1, 2652: 1, 9735: 1, 432: 1, 4710: 1, 6609: 1, 267: 1, 1944: 1, 2100: 1, 14246: 1, 109: 1, 5270: 1, 1384: 1, 1012: 1, 756: 1, 2765: 1, 1651: 1, 369: 1, 880: 1, 616: 1, 435: 1, 34037: 1, 488: 1, 706: 1, 404: 1, 415: 1, 6726: 1, 6309: 1, 409: 1, 3669: 1, 426: 1, 2859: 1, 446: 1, 7340: 1, 321: 1, 139: 1, 430: 1, 1439: 1, 31918: 1, 272: 1, 30749: 1, 226: 1, 2233: 1, 750: 1, 255: 1, 466: 1, 1162: 1, 336: 1, 506: 1, 612: 1, 2664: 1, 1161: 1, 2519: 1, 115468: 1, 1069: 1, 337: 1, 2973: 1, 29546: 1, 637: 1, 890: 1, 277: 1, 393801: 1, 46179: 1, 715: 1, 732: 1, 7339: 1, 768: 1, 1750: 1, 3162: 1, 1745: 1, 2677: 1, 2336: 1, 2618: 1, 2567: 1, 42299: 1, 2692: 1, 272237: 1, 1573: 1, 516: 1, 486: 1, 1165: 1, 841: 1, 1399: 1, 3838: 1, 777: 1, 716: 1, 524: 1, 3849: 1, 25850: 1, 4084: 1, 846: 1, 309: 1, 1891: 1, 644: 1, 4721: 1, 1005: 1, 2446: 1, 1102: 1, 156: 1, 668: 1, 264: 1, 187: 1, 2210: 1, 1071: 1, 6123: 1, 111978: 1, 342: 1, 671: 1, 13510: 1, 296: 1, 17347: 1, 333: 1, 198: 1, 229: 1, 210: 1, 857: 1, 50687: 1, 1098: 1, 3108: 1, 755: 1, 355: 1, 669: 1, 304: 1, 23155: 1, 225: 1, 1329: 1, 4244: 1, 374: 1, 25751: 1, 20282: 1, 9607: 1, 45781: 1, 2756: 1, 465: 1, 34282: 1, 5058: 1, 3054: 1, 6087: 1, 69807: 1, 38926: 1, 12670: 1, 589: 1, 174: 1, 391: 1, 358: 1, 764: 1, 370: 1, 540: 1, 4329: 1, 1781: 1, 5528: 1, 464: 1, 41491: 1, 2116: 1, 9745: 1, 535: 1, 1395: 1, 166664: 1, 521: 1, 30568: 1, 1833: 1, 10985: 1, 259155: 1, 388: 1, 4996: 1, 260: 1, 2123: 1, 553: 1, 176738: 1, 57136: 1, 3490: 1, 1451: 1, 367: 1, 130758: 1, 403: 1, 232: 1, 2515: 1, 6669: 1, 24946: 1, 53657: 1, 678: 1, 105846: 1, 450: 1, 3340: 1, 1455: 1, 4314: 1, 1530: 1, 5124: 1, 1471: 1, 3071: 1, 9864: 1, 559: 1, 419: 1, 1078: 1, 2672: 1, 771: 1, 2882: 1, 5199: 1, 7826: 1, 2066: 1, 266: 1, 2946: 1, 6242: 1, 1528: 1, 17870: 1, 233: 1, 1671: 1, 24241: 1, 711: 1, 727: 1, 5763: 1, 2125: 1, 1409: 1, 2417: 1, 807: 1, 236: 1, 2109: 1, 2318: 1, 36105: 1, 545: 1, 887: 1, 227: 1, 475: 1, 1496: 1, 4041: 1, 204: 1, 665: 1, 4373: 1, 14790: 1, 10401: 1, 1526: 1, 292: 1, 3391: 1, 1118: 1, 1556: 1, 1551: 1, 993: 1, 2189: 1, 1237: 1, 25875: 1, 223: 1, 14970: 1, 2146: 1, 919: 1, 348: 1, 116508: 1, 971: 1, 10795: 1, 1351: 1, 14779: 1, 292942: 1, 3344: 1, 1137: 1, 3780: 1, 131: 1})\n"
     ]
    },
    {
     "data": {
      "image/png": "[encoded data removed]",
      "text/plain": [
       "<Figure size 432x288 with 1 Axes>"
      ]
     },
     "metadata": {
      "needs_background": "light"
     },
     "output_type": "display_data"
    }
   ],
   "source": [
    "plot_deg_frequency(G, weighted = True)"
   ]
  },
  {
   "cell_type": "code",
   "execution_count": 206,
   "metadata": {},
   "outputs": [
    {
     "data": {
      "image/png": "[encoded data removed]",
      "text/plain": [
       "<Figure size 432x288 with 1 Axes>"
      ]
     },
     "metadata": {
      "needs_background": "light"
     },
     "output_type": "display_data"
    }
   ],
   "source": [
    "degree_sequence = sorted([d for n, d in G.degree()], reverse=True)\n",
    "degreeCount = Counter(degree_sequence)\n",
    "deg, cnt = zip(*degreeCount.items())\n",
    "\n",
    "max_deg = max(deg) # hoćemo po jedan bin za svaki stepen čvora\n",
    "\n",
    "# izračunavanje histograma\n",
    "values, base = np.histogram(deg, bins = max_deg)\n",
    "\n",
    "# kumulativna suma (inkluzivna prefiksna suma)\n",
    "cumulative = np.cumsum(values)\n",
    "\n",
    "# plotovanje komplementarne kumulativne raspodele stepena čvora P(X>x)\n",
    "plt.plot(base[:-1], [float(x)/len(G) for x in len(G) - cumulative], c='blue')\n",
    "\n",
    "plt.show()"
   ]
  },
  {
   "cell_type": "code",
   "execution_count": 200,
   "metadata": {},
   "outputs": [
    {
     "name": "stdout",
     "output_type": "stream",
     "text": [
      "Calculating best minimal value for power law fit\n",
      "xmin progress: 00%\r",
      "xmin progress: 00%\r",
      "xmin progress: 00%\r",
      "xmin progress: 00%\r",
      "xmin progress: 00%\r",
      "xmin progress: 01%\r",
      "xmin progress: 01%\r",
      "xmin progress: 01%\r",
      "xmin progress: 01%\r",
      "xmin progress: 01%\r",
      "xmin progress: 02%\r",
      "xmin progress: 02%\r",
      "xmin progress: 02%\r",
      "xmin progress: 02%\r",
      "xmin progress: 02%\r",
      "xmin progress: 03%\r",
      "xmin progress: 03%\r",
      "xmin progress: 03%\r",
      "xmin progress: 03%\r",
      "xmin progress: 03%\r",
      "xmin progress: 04%\r",
      "xmin progress: 04%\r",
      "xmin progress: 04%\r",
      "xmin progress: 04%\r",
      "xmin progress: 05%\r",
      "xmin progress: 05%\r",
      "xmin progress: 05%\r",
      "xmin progress: 05%\r",
      "xmin progress: 05%\r",
      "xmin progress: 06%\r",
      "xmin progress: 06%\r",
      "xmin progress: 06%\r",
      "xmin progress: 06%\r",
      "xmin progress: 06%\r",
      "xmin progress: 07%\r",
      "xmin progress: 07%\r",
      "xmin progress: 07%\r",
      "xmin progress: 07%\r",
      "xmin progress: 07%\r",
      "xmin progress: 08%\r",
      "xmin progress: 08%\r",
      "xmin progress: 08%\r",
      "xmin progress: 08%\r",
      "xmin progress: 08%\r",
      "xmin progress: 09%\r",
      "xmin progress: 09%\r",
      "xmin progress: 09%\r",
      "xmin progress: 09%\r",
      "xmin progress: 10%\r",
      "xmin progress: 10%\r",
      "xmin progress: 10%\r",
      "xmin progress: 10%\r",
      "xmin progress: 10%\r",
      "xmin progress: 11%\r",
      "xmin progress: 11%\r",
      "xmin progress: 11%\r",
      "xmin progress: 11%\r",
      "xmin progress: 11%\r",
      "xmin progress: 12%\r",
      "xmin progress: 12%\r",
      "xmin progress: 12%\r",
      "xmin progress: 12%\r",
      "xmin progress: 12%\r",
      "xmin progress: 13%\r",
      "xmin progress: 13%\r",
      "xmin progress: 13%\r",
      "xmin progress: 13%\r",
      "xmin progress: 14%\r",
      "xmin progress: 14%\r",
      "xmin progress: 14%\r",
      "xmin progress: 14%\r",
      "xmin progress: 14%\r",
      "xmin progress: 15%\r",
      "xmin progress: 15%\r",
      "xmin progress: 15%\r",
      "xmin progress: 15%\r",
      "xmin progress: 15%\r",
      "xmin progress: 16%\r",
      "xmin progress: 16%\r",
      "xmin progress: 16%\r",
      "xmin progress: 16%\r",
      "xmin progress: 16%\r",
      "xmin progress: 17%\r",
      "xmin progress: 17%\r",
      "xmin progress: 17%\r",
      "xmin progress: 17%\r",
      "xmin progress: 17%\r",
      "xmin progress: 18%\r",
      "xmin progress: 18%\r",
      "xmin progress: 18%\r",
      "xmin progress: 18%\r",
      "xmin progress: 19%\r",
      "xmin progress: 19%\r",
      "xmin progress: 19%\r",
      "xmin progress: 19%\r",
      "xmin progress: 19%\r",
      "xmin progress: 20%\r",
      "xmin progress: 20%\r",
      "xmin progress: 20%\r",
      "xmin progress: 20%\r",
      "xmin progress: 20%\r",
      "xmin progress: 21%\r",
      "xmin progress: 21%\r",
      "xmin progress: 21%\r",
      "xmin progress: 21%\r",
      "xmin progress: 21%\r",
      "xmin progress: 22%\r",
      "xmin progress: 22%\r",
      "xmin progress: 22%\r",
      "xmin progress: 22%\r",
      "xmin progress: 23%\r",
      "xmin progress: 23%\r",
      "xmin progress: 23%\r",
      "xmin progress: 23%\r",
      "xmin progress: 23%\r",
      "xmin progress: 24%\r",
      "xmin progress: 24%\r",
      "xmin progress: 24%\r",
      "xmin progress: 24%\r",
      "xmin progress: 24%\r",
      "xmin progress: 25%\r",
      "xmin progress: 25%\r",
      "xmin progress: 25%\r",
      "xmin progress: 25%\r",
      "xmin progress: 25%\r",
      "xmin progress: 26%\r",
      "xmin progress: 26%\r",
      "xmin progress: 26%\r",
      "xmin progress: 26%\r",
      "xmin progress: 26%\r",
      "xmin progress: 27%\r",
      "xmin progress: 27%\r",
      "xmin progress: 27%\r",
      "xmin progress: 27%\r",
      "xmin progress: 28%\r",
      "xmin progress: 28%\r",
      "xmin progress: 28%\r",
      "xmin progress: 28%\r",
      "xmin progress: 28%\r",
      "xmin progress: 29%\r",
      "xmin progress: 29%\r",
      "xmin progress: 29%\r",
      "xmin progress: 29%\r",
      "xmin progress: 29%\r",
      "xmin progress: 30%\r",
      "xmin progress: 30%\r",
      "xmin progress: 30%\r",
      "xmin progress: 30%\r",
      "xmin progress: 30%\r",
      "xmin progress: 31%\r",
      "xmin progress: 31%\r",
      "xmin progress: 31%\r",
      "xmin progress: 31%\r",
      "xmin progress: 32%\r",
      "xmin progress: 32%\r",
      "xmin progress: 32%\r",
      "xmin progress: 32%\r",
      "xmin progress: 32%\r",
      "xmin progress: 33%\r",
      "xmin progress: 33%\r",
      "xmin progress: 33%\r",
      "xmin progress: 33%\r",
      "xmin progress: 33%\r",
      "xmin progress: 34%\r",
      "xmin progress: 34%\r",
      "xmin progress: 34%\r",
      "xmin progress: 34%\r",
      "xmin progress: 34%\r",
      "xmin progress: 35%\r",
      "xmin progress: 35%\r",
      "xmin progress: 35%\r",
      "xmin progress: 35%\r",
      "xmin progress: 35%\r",
      "xmin progress: 36%\r",
      "xmin progress: 36%\r",
      "xmin progress: 36%\r",
      "xmin progress: 36%\r",
      "xmin progress: 37%\r",
      "xmin progress: 37%\r",
      "xmin progress: 37%\r",
      "xmin progress: 37%\r",
      "xmin progress: 37%\r",
      "xmin progress: 38%\r",
      "xmin progress: 38%\r",
      "xmin progress: 38%\r",
      "xmin progress: 38%\r",
      "xmin progress: 38%\r",
      "xmin progress: 39%\r",
      "xmin progress: 39%\r",
      "xmin progress: 39%\r",
      "xmin progress: 39%\r",
      "xmin progress: 39%\r",
      "xmin progress: 40%\r",
      "xmin progress: 40%\r",
      "xmin progress: 40%\r",
      "xmin progress: 40%\r",
      "xmin progress: 41%\r",
      "xmin progress: 41%\r",
      "xmin progress: 41%\r",
      "xmin progress: 41%\r",
      "xmin progress: 41%\r",
      "xmin progress: 42%\r",
      "xmin progress: 42%\r",
      "xmin progress: 42%\r",
      "xmin progress: 42%\r",
      "xmin progress: 42%\r",
      "xmin progress: 43%\r",
      "xmin progress: 43%\r",
      "xmin progress: 43%\r",
      "xmin progress: 43%\r",
      "xmin progress: 43%\r",
      "xmin progress: 44%\r",
      "xmin progress: 44%\r",
      "xmin progress: 44%\r",
      "xmin progress: 44%\r",
      "xmin progress: 44%\r",
      "xmin progress: 45%\r",
      "xmin progress: 45%\r",
      "xmin progress: 45%\r",
      "xmin progress: 45%\r",
      "xmin progress: 46%\r",
      "xmin progress: 46%\r",
      "xmin progress: 46%\r",
      "xmin progress: 46%\r",
      "xmin progress: 46%\r",
      "xmin progress: 47%\r",
      "xmin progress: 47%\r",
      "xmin progress: 47%\r",
      "xmin progress: 47%\r",
      "xmin progress: 47%\r",
      "xmin progress: 48%\r",
      "xmin progress: 48%\r",
      "xmin progress: 48%\r",
      "xmin progress: 48%\r",
      "xmin progress: 48%\r",
      "xmin progress: 49%\r",
      "xmin progress: 49%\r",
      "xmin progress: 49%\r",
      "xmin progress: 49%\r",
      "xmin progress: 50%\r",
      "xmin progress: 50%\r",
      "xmin progress: 50%\r",
      "xmin progress: 50%\r",
      "xmin progress: 50%\r",
      "xmin progress: 51%\r",
      "xmin progress: 51%\r",
      "xmin progress: 51%\r",
      "xmin progress: 51%\r",
      "xmin progress: 51%\r",
      "xmin progress: 52%\r",
      "xmin progress: 52%\r",
      "xmin progress: 52%\r",
      "xmin progress: 52%\r",
      "xmin progress: 52%\r",
      "xmin progress: 53%\r",
      "xmin progress: 53%\r",
      "xmin progress: 53%\r",
      "xmin progress: 53%\r",
      "xmin progress: 53%\r",
      "xmin progress: 54%\r",
      "xmin progress: 54%\r",
      "xmin progress: 54%\r",
      "xmin progress: 54%\r",
      "xmin progress: 55%\r",
      "xmin progress: 55%\r",
      "xmin progress: 55%\r",
      "xmin progress: 55%\r",
      "xmin progress: 55%\r",
      "xmin progress: 56%\r",
      "xmin progress: 56%\r",
      "xmin progress: 56%\r",
      "xmin progress: 56%\r",
      "xmin progress: 56%\r",
      "xmin progress: 57%\r",
      "xmin progress: 57%\r",
      "xmin progress: 57%\r",
      "xmin progress: 57%\r",
      "xmin progress: 57%\r",
      "xmin progress: 58%\r",
      "xmin progress: 58%\r",
      "xmin progress: 58%\r",
      "xmin progress: 58%\r",
      "xmin progress: 58%\r",
      "xmin progress: 59%\r",
      "xmin progress: 59%\r",
      "xmin progress: 59%\r",
      "xmin progress: 59%\r",
      "xmin progress: 60%\r",
      "xmin progress: 60%\r",
      "xmin progress: 60%\r",
      "xmin progress: 60%\r",
      "xmin progress: 60%\r",
      "xmin progress: 61%\r",
      "xmin progress: 61%\r",
      "xmin progress: 61%\r",
      "xmin progress: 61%\r",
      "xmin progress: 61%\r",
      "xmin progress: 62%\r",
      "xmin progress: 62%\r",
      "xmin progress: 62%\r",
      "xmin progress: 62%\r",
      "xmin progress: 62%\r",
      "xmin progress: 63%\r",
      "xmin progress: 63%\r",
      "xmin progress: 63%\r",
      "xmin progress: 63%\r",
      "xmin progress: 64%\r",
      "xmin progress: 64%\r",
      "xmin progress: 64%\r",
      "xmin progress: 64%\r",
      "xmin progress: 64%\r",
      "xmin progress: 65%\r",
      "xmin progress: 65%\r",
      "xmin progress: 65%\r",
      "xmin progress: 65%\r",
      "xmin progress: 65%\r",
      "xmin progress: 66%\r",
      "xmin progress: 66%\r",
      "xmin progress: 66%\r",
      "xmin progress: 66%\r",
      "xmin progress: 66%\r",
      "xmin progress: 67%\r",
      "xmin progress: 67%\r",
      "xmin progress: 67%\r",
      "xmin progress: 67%\r",
      "xmin progress: 67%\r",
      "xmin progress: 68%\r",
      "xmin progress: 68%\r",
      "xmin progress: 68%\r",
      "xmin progress: 68%\r",
      "xmin progress: 69%\r",
      "xmin progress: 69%\r",
      "xmin progress: 69%\r",
      "xmin progress: 69%\r",
      "xmin progress: 69%\r",
      "xmin progress: 70%\r",
      "xmin progress: 70%\r",
      "xmin progress: 70%\r",
      "xmin progress: 70%\r",
      "xmin progress: 70%\r",
      "xmin progress: 71%\r",
      "xmin progress: 71%\r",
      "xmin progress: 71%\r",
      "xmin progress: 71%\r",
      "xmin progress: 71%\r",
      "xmin progress: 72%\r",
      "xmin progress: 72%\r",
      "xmin progress: 72%\r",
      "xmin progress: 72%\r",
      "xmin progress: 73%\r",
      "xmin progress: 73%\r",
      "xmin progress: 73%\r",
      "xmin progress: 73%\r",
      "xmin progress: 73%\r",
      "xmin progress: 74%\r",
      "xmin progress: 74%\r",
      "xmin progress: 74%\r",
      "xmin progress: 74%\r",
      "xmin progress: 74%\r",
      "xmin progress: 75%\r",
      "xmin progress: 75%\r",
      "xmin progress: 75%\r",
      "xmin progress: 75%\r",
      "xmin progress: 75%\r",
      "xmin progress: 76%\r",
      "xmin progress: 76%\r",
      "xmin progress: 76%\r",
      "xmin progress: 76%\r",
      "xmin progress: 76%\r",
      "xmin progress: 77%\r",
      "xmin progress: 77%\r",
      "xmin progress: 77%\r",
      "xmin progress: 77%\r",
      "xmin progress: 78%\r",
      "xmin progress: 78%\r",
      "xmin progress: 78%\r",
      "xmin progress: 78%\r",
      "xmin progress: 78%\r",
      "xmin progress: 79%\r",
      "xmin progress: 79%\r",
      "xmin progress: 79%\r",
      "xmin progress: 79%\r",
      "xmin progress: 79%\r",
      "xmin progress: 80%\r",
      "xmin progress: 80%\r",
      "xmin progress: 80%\r",
      "xmin progress: 80%\r",
      "xmin progress: 80%\r",
      "xmin progress: 81%\r",
      "xmin progress: 81%\r",
      "xmin progress: 81%\r",
      "xmin progress: 81%\r",
      "xmin progress: 82%\r",
      "xmin progress: 82%\r",
      "xmin progress: 82%\r",
      "xmin progress: 82%\r",
      "xmin progress: 82%\r",
      "xmin progress: 83%\r",
      "xmin progress: 83%\r",
      "xmin progress: 83%\r",
      "xmin progress: 83%\r",
      "xmin progress: 83%\r",
      "xmin progress: 84%\r",
      "xmin progress: 84%\r",
      "xmin progress: 84%\r",
      "xmin progress: 84%\r",
      "xmin progress: 84%\r",
      "xmin progress: 85%\r",
      "xmin progress: 85%\r",
      "xmin progress: 85%\r",
      "xmin progress: 85%\r",
      "xmin progress: 85%\r",
      "xmin progress: 86%\r",
      "xmin progress: 86%\r",
      "xmin progress: 86%\r",
      "xmin progress: 86%\r",
      "xmin progress: 87%\r",
      "xmin progress: 87%\r",
      "xmin progress: 87%\r",
      "xmin progress: 87%\r",
      "xmin progress: 87%\r",
      "xmin progress: 88%\r",
      "xmin progress: 88%\r",
      "xmin progress: 88%\r",
      "xmin progress: 88%\r",
      "xmin progress: 88%\r",
      "xmin progress: 89%\r",
      "xmin progress: 89%\r",
      "xmin progress: 89%\r",
      "xmin progress: 89%\r",
      "xmin progress: 89%\r",
      "xmin progress: 90%\r",
      "xmin progress: 90%\r",
      "xmin progress: 90%\r",
      "xmin progress: 90%\r",
      "xmin progress: 91%\r",
      "xmin progress: 91%\r",
      "xmin progress: 91%\r",
      "xmin progress: 91%\r",
      "xmin progress: 91%\r",
      "xmin progress: 92%\r",
      "xmin progress: 92%\r",
      "xmin progress: 92%\r",
      "xmin progress: 92%\r",
      "xmin progress: 92%\r",
      "xmin progress: 93%\r",
      "xmin progress: 93%\r",
      "xmin progress: 93%\r",
      "xmin progress: 93%\r",
      "xmin progress: 93%\r",
      "xmin progress: 94%\r",
      "xmin progress: 94%\r",
      "xmin progress: 94%\r",
      "xmin progress: 94%\r",
      "xmin progress: 94%\r",
      "xmin progress: 95%\r",
      "xmin progress: 95%\r",
      "xmin progress: 95%\r",
      "xmin progress: 95%\r",
      "xmin progress: 96%\r",
      "xmin progress: 96%\r",
      "xmin progress: 96%\r",
      "xmin progress: 96%\r",
      "xmin progress: 96%\r",
      "xmin progress: 97%\r",
      "xmin progress: 97%\r",
      "xmin progress: 97%\r",
      "xmin progress: 97%\r",
      "xmin progress: 97%\r",
      "xmin progress: 98%\r",
      "xmin progress: 98%\r",
      "xmin progress: 98%\r",
      "xmin progress: 98%\r",
      "xmin progress: 98%\r",
      "xmin progress: 99%\r",
      "xmin progress: 99%\r",
      "xmin progress: 99%\r",
      "xmin progress: 99%\r",
      "{'power_law': <class 'powerlaw.Power_Law'>, 'lognormal': <class 'powerlaw.Lognormal'>, 'exponential': <class 'powerlaw.Exponential'>, 'truncated_power_law': <class 'powerlaw.Truncated_Power_Law'>, 'stretched_exponential': <class 'powerlaw.Stretched_Exponential'>, 'lognormal_positive': <class 'powerlaw.Lognormal_Positive'>}\n"
     ]
    }
   ],
   "source": [
    "results = powerlaw.Fit(degree_sequence)\n",
    "\n",
    "print(results.supported_distributions)\n"
   ]
  },
  {
   "cell_type": "code",
   "execution_count": 202,
   "metadata": {},
   "outputs": [
    {
     "name": "stdout",
     "output_type": "stream",
     "text": [
      "2.2464911508648253\n",
      "156.0\n",
      "0.056025610831647574\n",
      "Loglikelihood ratio: -12.644147229109814\n",
      "Statistical significance: 0.001085624099228952\n",
      "Loglikelihood ratio: 22.582676543743453\n",
      "Statistical significance: 0.0730904396689174\n",
      "Loglikelihood ratio: -15.613893371177623\n",
      "Statistical significance: 2.2945806810170666e-08\n"
     ]
    },
    {
     "name": "stderr",
     "output_type": "stream",
     "text": [
      "Assuming nested distributions\n"
     ]
    }
   ],
   "source": [
    "print(results.power_law.alpha)\n",
    "print(results.power_law.xmin)\n",
    "print(results.power_law.sigma)\n",
    "R, p = results.distribution_compare('power_law', 'lognormal')\n",
    "print(f\"Loglikelihood ratio: {R}\")\n",
    "print(f\"Statistical significance: {p}\")\n",
    "R, p = results.distribution_compare('power_law', 'exponential')\n",
    "print(f\"Loglikelihood ratio: {R}\")\n",
    "print(f\"Statistical significance: {p}\")\n",
    "R, p = results.distribution_compare('power_law', 'truncated_power_law')\n",
    "print(f\"Loglikelihood ratio: {R}\")\n",
    "print(f\"Statistical significance: {p}\")"
   ]
  },
  {
   "cell_type": "code",
   "execution_count": null,
   "metadata": {},
   "outputs": [],
   "source": [
    "# Na log log grafiku kumulativne raspodele nismo dobili pravu pa je prvi zakljucak da ovaj graf ne fituje u power law raspodelu.\n",
    "# Dalje se to potvrdjuje na osnovu poredjenja distribucije, najvise deluje da je truncated power law raspodela"
   ]
  },
  {
   "cell_type": "code",
   "execution_count": 250,
   "metadata": {},
   "outputs": [
    {
     "name": "stdout",
     "output_type": "stream",
     "text": [
      "SNetF Hubs\n",
      "\n",
      "('reddit.com', 0.06348926760970038)\n",
      "('politics', 0.052982234075963114)\n",
      "('pics', 0.04945525123782549)\n",
      "('funny', 0.04737307262558192)\n",
      "('science', 0.0462683107146239)\n",
      "('technology', 0.044726776059512495)\n",
      "('worldnews', 0.04386665890786076)\n",
      "('WTF', 0.04362186915945341)\n",
      "('entertainment', 0.04186640209208637)\n",
      "('programming', 0.037392328450116974)\n",
      "\n",
      "SNetF Authorities\n",
      "\n",
      "('reddit.com', 0.06348926761103306)\n",
      "('politics', 0.05298223407535796)\n",
      "('pics', 0.04945525123766796)\n",
      "('funny', 0.04737307262546547)\n",
      "('science', 0.046268310714548344)\n",
      "('technology', 0.04472677605931482)\n",
      "('worldnews', 0.04386665890780224)\n",
      "('WTF', 0.04362186915941283)\n",
      "('entertainment', 0.041866402091888986)\n",
      "('programming', 0.037392328450020065)\n"
     ]
    }
   ],
   "source": [
    "#1.15 Habovi i autoriteti\n",
    "hubs, authorities =nx.hits(G)\n",
    "\n",
    "hub_items = sorted(hubs.items(), key=operator.itemgetter(1), reverse=True)[:10]\n",
    "print(\"SNetF Hubs\\n\")\n",
    "for hub_item in hub_items:\n",
    "    print(hub_item)\n",
    "\n",
    "authority_items = sorted(authorities.items(), key=operator.itemgetter(1), reverse=True)[:10]\n",
    "print(\"\\nSNetF Authorities\\n\")\n",
    "for authority_item in authority_items:\n",
    "    print(authority_item)"
   ]
  },
  {
   "cell_type": "code",
   "execution_count": 263,
   "metadata": {},
   "outputs": [
    {
     "name": "stdout",
     "output_type": "stream",
     "text": [
      "Max core number :  192\n",
      "fejl  Military\n",
      "fejl  Green\n",
      "fejl  browsers\n",
      "fejl  fashion\n",
      "fejl  Poetry\n",
      "fejl  Frugal\n",
      "fejl  gonewild\n",
      "fejl  productivity\n",
      "fejl  video\n",
      "fejl  opensource\n",
      "fejl  socialmedia\n",
      "fejl  WebGames\n",
      "fejl  iphone\n",
      "fejl  gardening\n",
      "fejl  tech\n",
      "fejl  euro\n",
      "fejl  ZenHabits\n",
      "fejl  MensRights\n",
      "fejl  self\n",
      "fejl  pic\n",
      "fejl  WorldWideNews\n",
      "fejl  investing\n",
      "fejl  Graffiti\n",
      "fejl  Jokes\n",
      "fejl  perl\n",
      "fejl  askXKCD\n",
      "fejl  aww\n",
      "fejl  web_design\n",
      "fejl  government\n",
      "fejl  Christianity\n",
      "fejl  astro\n",
      "fejl  Transhuman\n",
      "fejl  bicycling\n",
      "fejl  osx\n",
      "fejl  lgbt\n",
      "fejl  Metal\n",
      "fejl  conspiracy\n",
      "fejl  l33t\n",
      "fejl  Buddhism\n",
      "fejl  craigslist\n",
      "fejl  Art\n",
      "fejl  wikipedia\n",
      "fejl  ComputerSecurity\n",
      "fejl  area51\n",
      "fejl  religion\n",
      "fejl  Paranormal\n",
      "fejl  space\n",
      "fejl  sports\n",
      "fejl  webcomics\n",
      "fejl  veg\n",
      "fejl  literature\n",
      "fejl  idea\n",
      "fejl  Cooking\n",
      "fejl  Anarchism\n",
      "fejl  recipes\n",
      "fejl  books\n",
      "fejl  war\n",
      "fejl  auto\n",
      "fejl  geopolitics\n",
      "fejl  psychology\n",
      "fejl  BlackOps\n",
      "fejl  nature\n",
      "fejl  ArtCrit\n",
      "fejl  apple\n",
      "fejl  worstof\n",
      "fejl  newreddits\n",
      "fejl  anime\n",
      "fejl  dailywtf\n",
      "fejl  AmericanGovernment\n",
      "fejl  food\n",
      "fejl  movies\n",
      "fejl  Libertarian\n",
      "fejl  social_bookmarking\n",
      "fejl  LosAngeles\n",
      "fejl  Astronomy\n",
      "fejl  writing\n",
      "fejl  doctorwho\n",
      "fejl  ohwhataworld\n",
      "fejl  redditchan\n",
      "fejl  energy\n",
      "fejl  gossip\n",
      "fejl  WeAreTheMusicMakers\n",
      "fejl  PalinProblem\n",
      "fejl  PHP\n",
      "fejl  ads\n",
      "fejl  linguistics\n",
      "fejl  Survival\n",
      "fejl  sociology\n",
      "fejl  blogs\n",
      "fejl  england\n",
      "fejl  hardware\n",
      "fejl  Bacon\n",
      "fejl  australia\n",
      "fejl  Animals\n",
      "fejl  microsoft\n",
      "fejl  zen\n",
      "fejl  Parenting\n",
      "fejl  rpg\n",
      "fejl  japan\n",
      "fejl  mac\n",
      "fejl  Guitar\n",
      "fejl  Freethought\n",
      "fejl  celebrities\n",
      "fejl  happy\n",
      "fejl  collapse\n",
      "fejl  robotics\n",
      "fejl  occult\n",
      "fejl  socialism\n",
      "fejl  startups\n",
      "fejl  digg\n",
      "fejl  lists\n",
      "fejl  crime\n",
      "fejl  Israel\n",
      "fejl  conspiracies\n",
      "fejl  SuicideWatch\n",
      "fejl  Pictures\n",
      "fejl  compsci\n",
      "fejl  bugs\n",
      "fejl  europe\n",
      "fejl  ronpaul\n",
      "fejl  sex\n",
      "fejl  things\n",
      "fejl  pssnaked\n",
      "fejl  egalitarian\n",
      "fejl  culture\n",
      "fejl  lisp\n",
      "fejl  television\n",
      "fejl  media\n",
      "fejl  economy\n",
      "fejl  fascinating\n",
      "fejl  india\n",
      "fejl  seduction\n",
      "fejl  Pets\n",
      "fejl  Music\n",
      "fejl  hackers\n",
      "fejl  law\n",
      "fejl  lol\n",
      "fejl  giveaways\n",
      "fejl  DIY\n",
      "fejl  AmericanPolitics\n",
      "fejl  WhiteMenGoneWild\n",
      "fejl  zombies\n",
      "fejl  firefox\n",
      "fejl  howto\n",
      "fejl  Documentaries\n",
      "fejl  musicians\n",
      "fejl  Ubuntu\n",
      "fejl  evolution\n",
      "fejl  USPE08\n",
      "fejl  4chan\n",
      "fejl  islam\n",
      "fejl  unitedkingdom\n",
      "fejl  MMA\n",
      "fejl  beer\n",
      "fejl  Physics\n",
      "fejl  lovereddit\n",
      "fejl  Sexy\n",
      "fejl  inspirational\n",
      "fejl  humor\n",
      "fejl  javascript\n",
      "fejl  snobs\n",
      "fejl  travel\n",
      "fejl  911truth\n",
      "fejl  Fitness\n",
      "fejl  bestofcraigslist\n",
      "fejl  usa\n",
      "fejl  youtube\n",
      "fejl  PS3\n",
      "fejl  Liberty\n",
      "fejl  education\n",
      "fejl  independent\n",
      "fejl  love\n",
      "fejl  feminisms\n",
      "fejl  women\n",
      "fejl  worldpolitics\n",
      "fejl  marketing\n",
      "fejl  lolcats\n",
      "fejl  scientology\n",
      "fejl  Design\n",
      "fejl  lectures\n",
      "fejl  windowshots\n",
      "fejl  Marijuana\n",
      "fejl  torrents\n",
      "fejl  ukpolitics\n",
      "fejl  ruby\n",
      "fejl  cute\n",
      "fejl  UFOs\n",
      "fejl  worldnews2\n",
      "fejl  architecture\n",
      "fejl  epicthread\n",
      "fejl  bookclub\n",
      "fejl  xkcd\n",
      "fejl  Boobies\n",
      "fejl  nyc\n",
      "fejl  Python\n",
      "fejl  hurts_my_eyes\n",
      "fejl  Drugs\n",
      "fejl  google\n",
      "fejl  hrw\n",
      "fejl  yourweek\n"
     ]
    }
   ],
   "source": [
    "#Find core nodes\n",
    "\n",
    "core_number = nx.core_number(G)\n",
    "max_core_number = max(core_number.values())\n",
    "print(\"Max core number : \", max_core_number)\n",
    "\n",
    "core = nx.k_core(G, max_core_number)\n",
    "for node in core:\n",
    "    print(node)\n",
    "    \n",
    "#Poredjenjem je utvrdjeno da su svi habovi/autoriteti u jezgru mreze"
   ]
  },
  {
   "cell_type": "code",
   "execution_count": 227,
   "metadata": {},
   "outputs": [
    {
     "name": "stdout",
     "output_type": "stream",
     "text": [
      "Top 10 Degree centrality:\n",
      "reddit.com \t\t 0.8921373829122906 \t 3143\n",
      "technology \t\t 0.6304286119784275 \t 2221\n",
      "politics \t\t 0.6275901220550667 \t 2211\n",
      "pics \t\t 0.6162361623616236 \t 2171\n",
      "funny \t\t 0.6026114107294919 \t 2123\n",
      "science \t\t 0.5975021288674425 \t 2105\n",
      "worldnews \t\t 0.5935282429747374 \t 2091\n",
      "entertainment \t\t 0.5850127732046551 \t 2061\n",
      "WTF \t\t 0.5801873403349418 \t 2044\n",
      "programming \t\t 0.5799034913426058 \t 2043\n"
     ]
    }
   ],
   "source": [
    "#1.16 \n",
    "#degree_centrality, closeness_centrality, betweenes_centrality\n",
    "print(\"Top 10 Degree centrality:\\n\")\n",
    "DC = nx.degree_centrality(G)\n",
    "dc_items = sorted(DC.items(), key=operator.itemgetter(1), reverse=True)[:10]\n",
    "for dc_item in dc_items:\n",
    "    print(dc_item[0], \"\\t\\t\",dc_item[1], \"\\t\",G.degree[dc_item[0]])\n"
   ]
  },
  {
   "cell_type": "code",
   "execution_count": 228,
   "metadata": {},
   "outputs": [
    {
     "name": "stdout",
     "output_type": "stream",
     "text": [
      "Closeness centrality:\n",
      "reddit.com     0.9019457245263697     3143\n",
      "technology     0.7283440148852595     2221\n",
      "politics     0.7260923330585326     2211\n",
      "pics     0.7201553556827474     2171\n",
      "funny     0.7125809061488673     2123\n",
      "science     0.710139084861923     2105\n",
      "worldnews     0.7084254976875126     2091\n",
      "entertainment     0.7040367705835332     2061\n",
      "WTF     0.7013736810670914     2044\n",
      "programming     0.700815595782773     2043\n",
      "Betweenness centrality:\n",
      "reddit.com     0.3686547520487645     3143\n",
      "technology     0.04937105642143906     2221\n",
      "programming     0.04363491513740279     2043\n",
      "politics     0.04304902436498485     2211\n",
      "business     0.04129223409955247     1994\n"
     ]
    }
   ],
   "source": [
    "print(\"Top 10 Closeness centrality:\\n\\n\")\n",
    "CC = nx.closeness_centrality(G)\n",
    "cc_items = sorted(CC.items(), key=operator.itemgetter(1), reverse=True)[:10]\n",
    "for cc_item in cc_items:\n",
    "    node = cc_item[0]\n",
    "    print(cc_item[0], \"   \", cc_item[1])\n",
    "\n",
    "print(\"\\nTop 10 Betweenness centrality:\\n\")\n",
    "BC = nx.betweenness_centrality(G)\n",
    "bc_items = sorted(BC.items(), key=operator.itemgetter(1), reverse=True)[:10]\n",
    "for bc_item in bc_items:\n",
    "    node = bc_item[0];\n",
    "    print(bc_item[0], \"   \", bc_item[1])\n"
   ]
  },
  {
   "cell_type": "code",
   "execution_count": 229,
   "metadata": {},
   "outputs": [
    {
     "name": "stdout",
     "output_type": "stream",
     "text": [
      "\n",
      "Top 10 Eigenvector centrality:\n",
      "\n",
      "reddit.com     0.0869853759151425\n",
      "politics     0.0849974875047629\n",
      "technology     0.08495275088747631\n",
      "pics     0.08488712702959006\n",
      "science     0.0846269016537996\n",
      "funny     0.08459504891566152\n",
      "worldnews     0.08421867967487955\n",
      "WTF     0.08368474037729566\n",
      "entertainment     0.08336384940437629\n",
      "programming     0.08281215543735897\n"
     ]
    }
   ],
   "source": [
    "#1.17 Eigenvector centrality\n",
    "#Napomena naci zasto su ovakvi rezultati\n",
    "\n",
    "print(\"\\nTop 10 Eigenvector centrality:\\n\")\n",
    "EC = nx.eigenvector_centrality(G)\n",
    "ec_items = sorted(EC.items(), key=operator.itemgetter(1), reverse=True)[:10]\n",
    "for ec_item in ec_items:\n",
    "    print(ec_item[0], \"   \", ec_item[1])\n"
   ]
  },
  {
   "cell_type": "code",
   "execution_count": 3,
   "metadata": {},
   "outputs": [],
   "source": [
    "#1.18 Katzova centralnost\n",
    "\n",
    "def calculate_beta(default_beta, reddit_beta):\n",
    "    dict = {}\n",
    "    i = 0\n",
    "    for node in G.nodes():\n",
    "        if node == 'reddit.com':\n",
    "            dict[node] = reddit_beta\n",
    "        else:\n",
    "            dict[node] = default_beta\n",
    "        i+=1\n",
    "        \n",
    "    return dict\n"
   ]
  },
  {
   "cell_type": "code",
   "execution_count": 4,
   "metadata": {},
   "outputs": [
    {
     "name": "stdout",
     "output_type": "stream",
     "text": [
      "(5.451925984405687e-06+0j)\n"
     ]
    }
   ],
   "source": [
    "lambda_max =  max(nx.adjacency_spectrum(G))\n",
    "print(1/lambda_max)"
   ]
  },
  {
   "cell_type": "code",
   "execution_count": 5,
   "metadata": {},
   "outputs": [
    {
     "name": "stdout",
     "output_type": "stream",
     "text": [
      "reddit.com     (0.015273098900518325+0j)\n",
      "technology     (0.01523503821027116+0j)\n",
      "politics     (0.015234625345939582+0j)\n",
      "pics     (0.015232974126722755+0j)\n",
      "funny     (0.015230992597923642+0j)\n",
      "science     (0.015230249630723917+0j)\n",
      "worldnews     (0.015229671563045314+0j)\n",
      "entertainment     (0.015228432969938055+0j)\n",
      "WTF     (0.015227731246410805+0j)\n",
      "programming     (0.015227689795011438+0j)\n"
     ]
    },
    {
     "name": "stderr",
     "output_type": "stream",
     "text": [
      "C:\\Users\\sretenp\\Anaconda3\\lib\\site-packages\\networkx\\algorithms\\centrality\\katz.py:184: ComplexWarning: Casting complex values to real discards the imaginary part\n",
      "  s = 1.0 / sqrt(sum(v ** 2 for v in x.values()))\n"
     ]
    }
   ],
   "source": [
    "KC = nx.katz_centrality(G, alpha=1/(2*lambda_max), beta=1.0, max_iter=1000, tol=1e-06, nstart=None, normalized=True, weight=None)\n",
    "kc_items = sorted(KC.items(), key=operator.itemgetter(1), reverse=True)[:10]\n",
    "for kc_item in kc_items:\n",
    "    print(kc_item[0], \"   \", kc_item[1])"
   ]
  },
  {
   "cell_type": "code",
   "execution_count": 6,
   "metadata": {},
   "outputs": [
    {
     "name": "stdout",
     "output_type": "stream",
     "text": [
      "reddit.com     (0.04750841832002927+0j)\n",
      "politics     (0.041888884286598135+0j)\n",
      "pics     (0.0402947088873711+0j)\n",
      "funny     (0.03923188438544093+0j)\n",
      "science     (0.03875406522475151+0j)\n",
      "technology     (0.03792700762289277+0j)\n",
      "WTF     (0.037413989587874646+0j)\n",
      "worldnews     (0.03741262673799614+0j)\n",
      "entertainment     (0.036423310911065765+0j)\n",
      "programming     (0.034095006170716556+0j)\n"
     ]
    }
   ],
   "source": [
    "KC = nx.katz_centrality(G, alpha=1/(2*lambda_max), beta=1.0, max_iter=1000, tol=1e-06, nstart=None, normalized=True, weight='weight')\n",
    "kc_items = sorted(KC.items(), key=operator.itemgetter(1), reverse=True)[:10]\n",
    "for kc_item in kc_items:\n",
    "    print(kc_item[0], \"   \", kc_item[1])"
   ]
  },
  {
   "cell_type": "code",
   "execution_count": 10,
   "metadata": {},
   "outputs": [
    {
     "name": "stdout",
     "output_type": "stream",
     "text": [
      "reddit.com     (0.06349001857351431+0j)\n",
      "politics     (0.04387267950730567+0j)\n",
      "pics     (0.042011669777274815+0j)\n",
      "funny     (0.04085804970500777+0j)\n",
      "science     (0.04033026330552025+0j)\n",
      "technology     (0.03949476190703619+0j)\n",
      "worldnews     (0.03890314148482572+0j)\n",
      "WTF     (0.03887091569465365+0j)\n",
      "entertainment     (0.03789771889121953+0j)\n",
      "programming     (0.03537494299238236+0j)\n"
     ]
    }
   ],
   "source": [
    "KC = nx.katz_centrality(G, alpha=1/(2*lambda_max), beta=calculate_beta(1,2), max_iter=1000, tol=1e-06, nstart=None, normalized=True, weight='weight')\n",
    "kc_items = sorted(KC.items(), key=operator.itemgetter(1), reverse=True)[:10]\n",
    "for kc_item in kc_items:\n",
    "    print(kc_item[0], \"   \", kc_item[1])"
   ]
  },
  {
   "cell_type": "code",
   "execution_count": 9,
   "metadata": {},
   "outputs": [
    {
     "name": "stdout",
     "output_type": "stream",
     "text": [
      "reddit.com     (0.060598214922778934+0j)\n",
      "technology     (0.015208848474197666+0j)\n",
      "politics     (0.015208436320273189+0j)\n",
      "pics     (0.015206787940925493+0j)\n",
      "funny     (0.01520480981947628+0j)\n",
      "science     (0.01520406813014439+0j)\n",
      "worldnews     (0.015203491056191636+0j)\n",
      "entertainment     (0.015202254589924857+0j)\n",
      "WTF     (0.015201554074713993+0j)\n",
      "programming     (0.015201512682777819+0j)\n"
     ]
    }
   ],
   "source": [
    "KC = nx.katz_centrality(G, alpha=1/(2*lambda_max), beta=calculate_beta(1,4), max_iter=1000, tol=1e-06, nstart=None, normalized=True, weight='weight')\n",
    "kc_items = sorted(KC.items(), key=operator.itemgetter(1), reverse=True)[:10]\n",
    "for kc_item in kc_items:\n",
    "    print(kc_item[0], \"   \", kc_item[1])"
   ]
  },
  {
   "cell_type": "code",
   "execution_count": null,
   "metadata": {},
   "outputs": [],
   "source": [
    "#1.20 Spektralna analiza\n",
    "#Veliki graf, ne moze zbog 0(n^3)\n"
   ]
  },
  {
   "cell_type": "code",
   "execution_count": 246,
   "metadata": {},
   "outputs": [
    {
     "name": "stdout",
     "output_type": "stream",
     "text": [
      "Potencijalni najuticajniji brokeri:  {'HomeBrewNews', 'QuickBooker', 'dezvoltarepersonala', 'BloZip', 'FiduciaryInvestment', 'ChoosyHomeschoolers', 'PUAmethod', 'Coach4u', 'ThisIsMyTestRun', 'reddit.com', 'captainreboot', 'elain', 'Nurseries', 'Vanhomeless', 'callingIT', 'joesholmes', 'comics', 'gaming', 'Alexanderc', 'sexyjapanx', 'NSCocoa', 'sporevote', 'workathome', 'contrarian', 'Polilingua', 'Nima', 'Sense', 'FlyerWiki', 'PawShow', 'off_topic', 'ChileRemix', 'ComProg', 'HouseMusic', 'awwcute', 'cncrk', 'xaluan', 'rentcentralpa', 'wrexham', 'listmania', 'Mosaic_Interactive', 'Mackorisnik', 'realsurf', 'MilitantStuggles', 'Hair', 'social_bookmarking', 'civilengineering', 'shtruc', 'word', 'Archana', 'Ambientalmente', 'GreenEnergyNews', 'Gabrella', 'ads', 'Dirtfloor', 'WendyM', 'relationships', 'Authenticfashion', 'nsfw2', 'Sleeptreatment', 'JaneDing', 'entertainment', 'vancec', 'exboyfriendback', 'Sherewizki', 'adekeda', 'bulgaria', 'matija', 'Pauliespoint', 'GreenTree', 'e2mars', 'Melton', 'greatpinoy', 'valleyvoice', 'ARYA', 'JamesButterfield', 'Chinese', 'Haknit', 'Musicoursoul', 'TinT', 'Tiquicia', 'spark', 'CriminalBR', 'AmandaNRoy', 'search9', 'footballcupleague', 'Madumbi76', 'YFRIndia', 'BlazersReddit', 'PUBLICADDS', 'Everton', 'Interior', 'gal', 'TheBeautyAcademy', 'GeorgiaAquarium', 'solar', 'netaudio', 'rhs', 'WTF', 'computergraphics', 'AvaBea', 'RedPrice', 'FinancialTrading', 'ashima28', 'TwilightGurl', 'alexda', 'jeux_flash', 'gamereviews', 'SafetyNews', 'LittleToddler', 'Francie', 'Tomcan', 'cheats', 'Lipstick', 'bestactorofiran', 'europeansolutions', 'guysharp', 'techdorks', 'Infos', 'mainfo', 'makhanhar', 'jasonallenmiller', 'NEWWIDE', 'UndiesDrawer', 'aliyaleigh', 'Bakugan', 'UsefulBlogs', 'pitchengine', 'BLESSIE', 'consultingblog', 'CASTELATED', 'maninee', 'littlestar', 'redditua', 'salakedan', 'mormon', 'Great', 'Candice', 'bernsbarry', 'hopes', 'thestem', 'technology', 'revenue', 'atheism', 'pics', 'hapaxlegomena', 'Nurse_dot_com', 'AskReddit', 'RealLifeSketch', 'kratos', 'Voto', 'MotherAboutInsane', 'AtlantisDivers', 'iloveeverything', 'Jesika', 'DreamHomes', 'lolz', 'shenzhen', 'CMMI', 'nightbloom', 'Mickreddit', 'Tandberg', 'spk', 'abandoned', 'HotWater', 'productreview', 'orangeinks', 'Swarming', 'dico', 'troyflorida', 'FrancieFace', 'OURANIMALFRIENDS', 'AegonReligare', 'melbourne', 'civildraftinservice', 'blogofilia', 'Travelchacha', 'faridi', 'nuxeo', 'sexzone', 'MoveFitness', 'LoanModification', 'dooblets', 'sports', 'brendoreddit', 'galeej', 'psyapsy', 'jltff', 'tashad', 'CO13', 'tmichaelcart', 'SpoonBlog', 'bonsaijon', 'Arzum', 'Xstaticarmchair', 'WalKnDude', 'Widgets', 'billebert', 'apple', 'azher', 'Dwight', 'bigjimslade', 'environment', 'houseless', 'osbgroup', 'science', 'DHgate', 'gossip', 'dgjohnston', 'signofthefox', 'vedicastrology', 'umass', 'Peiman', 'DNChamp', 'bliptv', 'positivethinker', 'Webroads', 'sportnographe', 'andrewdemm', 'providentestate', 'Filmzu', 'BestApparel', 'jac481', 'letterwritingguide', 'CollegeCounseling', 'Soccymartin', 'wc2010', 'frostih', 'dcpanganiban', 'Personalized', 'my_own_test_reddit', 'Gracefullbabes', 'whowantslove', 'YankeeFlipperFeeder', 'getdomain', 'tanjit', 'QueenSlimey', 'kharis', 'xrosswheeler', 'grecosonthefly', 'Opeth', 'bendnews', 'The_Trainer', 'kingrobotic', 'AppleApps', 'HealthcareErrors', 'HernandoRealty', 'politics', 'kriminals', 'pcolinks', 'Pink', 'Ahken', 'GameTech', 'vitaminsforhairloss', 'foradog', 'Rhonda', 'sub', 'bestshoes', 'AtulTanna', 'Manuj', 'YouPublish', 'Igor', 'beer', 'JessicaMooray', 'oilexploration', 'PetsLoveJessica', 'MoneyAnswerTree', 'creditwrench', 'ouddy', 'PhD', 'themintchicks', 'efluential', 'Fivelead', 'zinio', 'Younai', 'Vipin', 'Mustang', 'dixipix', 'Kristabell', 'ArtBook', 'GreenCult', 'love', 'tattoosofgirls2', 'Debtfreehispanic', 'loynomsc', 'grant_tda', 'designerly', 'Tenurist', 'usuiela', 'paygossiper', 'LAlofts', 'Detox', 'Patty', 'Marijuana', 'FTVgirls', 'oracle', 'chicagotribune', 'matrako', 'Marius93', 'AquariumFish', 'ghostbusters', 'mobwisdom', 'TodaysNewsBlog', 'kikko', 'Gossiptainment', 'valium', 'reproduction', 'brentpurves', 'BusinessIntelligence', 'campusvideos', 'Websites', 'webanalyticsblog', 'avrham', 'trolls', 'ElementaryEducation', 'malwarecity', 'MDVC', 'Xnews', 'skytourbeau', 'cros', 'MegaJonasLova', 'loft20', 'myvideofight', 'monika', 'Passion', 'BintanLagoonResort', 'Allsmsmessages', 'lgbt', 'czech', 'FlightSimulation', 'NewsGuru', 'FAIRFederation', 'crownedregal', 'hypatia', 'MonsterVine', 'Viamedic', 'files1000', 'ewing2001', 'IRONMIKEHAMILTON', 'sar', 'storesaver', 'handletime', 'peaceulloan', 'libattery', 'solucionesseo', 'ZioNews', 'Redants', 'testname', 'GatorArcade', 'mental_helaht', 'apple89', 'parrots', 'jecobsw', 'tr', 'mndoci', '3ren', 'fredwissman', 'Haah', 'knowledgespeak', 'InTraser', 'reference', 'lds', 'ScrappyMusic', 'pycon2008', 'Hindi', 'Fixed', 'recycled', 'altaVoz', 'ChanningTatum', 'davidhood189', 'Altamente', 'Julie', 'BookSmarts', 'Rickey', 'Gopher', 'OnlineDating', 'HeyShae', 'bushlegacyproject', 'TechDaysTour', 'kokonios', 'Health', 'Entrebloggers', 'Jaden', 'math', 'blueoceandirect', 'hurribugs', 'InnoGage', 'BrickImaging', 'vod', 'HairStraightener', 'fr', 'SixHourStartup', 'nsedreams', 'JPK', 'syok3gp', 'DefendersOwn', 'cp_retailpos', 'Anil', 'Tryton', 'GGGGive', 'rosilawani', 'cute04', 'Hapi', 'SearchMyCampus', 'MontrealTechWatch', 'Teachforever', 'James1234', 'grist', 'viajeros', 'programming', 'webbuzzz', 'metart', 'Sports2Debate', 'Canuckgook', 'EstwingTools', 'technobay', 'jenn', 'ten31', 'bianca', 'Gogogadgetwidget', 'Big_Tits_old_Milfs', 'Zensurf', 'Senditcertified', 'myblogroom', 'PaulShort', 'Victoria', 'holidays', 'ebruce', 'GPSLLC', 'Cetatenie', 'dpolly', 'women', 'mp3buff', 'f4forex', 'Homebrewing101', 'Memorials', 'TopPosition', 'RedBalloonDays', 'biassaid', 'FelonReports', 'KeralaWebWorks', 'editgrid', 'Promotionals', 'davebenzList', 'PoplarGirl1', 'Lookieloo', 'homeschool', 'DietHealth', 'LBD', 'business', 'Vofferu', 'iMarketing', 'radhoo', 'VillasMoraira', 'worldnews', 'CODEcontent', 'sharkarts', 'nintin', 'StitchSimply', 'Mary', 'AspiringMarketer', 'ScottWhiskeyeBlog', 'CorporateCreative', 'MensRights', 'Christmasparty', 'mexico', 'SamuiBeachVillage', 'Hardawrae', 'Lancement', 'chilereddit', 'gaidep', 'OneMFriends', 'Louis', 'videointhetube', 'Weblogicguru', 'Sakitha', 'BDJobs', 'Blueyes0094', 'NuyoRiquena', 'anilobm', 'China', 'freemusic', 'terryly', 'cogsci', 'plavix', 'Paunchiness', 'USMLEMD', 'azliensa', 'BlackBlog', 'Heeroguy', 'Grind_Vision', 'GamingIndustryNews', 'femto', 'stephanerd', 'es', 'Jithin', 'chachadeals', 'freesoftware', 'rdpriest', 'inflatable', '21212', 'Economics', 'obama', 'MovieGab', 'newcapitalclub', 'VGC', 'BrooklynFriends', 'zeuux', 'purity_products', 'bathrooms', 'Embeddedavr', 'The_Fantasy_Art_Blog', 'wristtattoo', 'paulantoinem', 'BustingDiva', 'PrideNation', 'Payday', 'Sobhaneh', 'biphentinhealth', 'de', 'BurrellColour', 'ObammunismWatch', 'Realty', 'sumobackup', 'TrafficSchool', 'backdropsource', 'OnlineShopping', 'Spanking', 'ZinioBest', 'GregK', 'Qtour', 'Houseofbikers', 'dwhost', 'Sexyf', 'reeemix', 'ariyes', 'MyTotalKitchen', 'capetownnews', 'Powerplay', 'walmartvitamins', 'wesley', 'TheManifestStation', 'Hans', 'ALALabAuto', 'funny', 'OnceAgain', 'Webbook', 'ko', 'Reefing', 'LeonaLewis', 'it', 'CassandraTroy', 'Debt', 'harneu', 'poppins_reddit', 'Winworld', 'Tonya', 'imoka', 'jaichiru', 'SCUK', 'MilleniumForce', 'Sukhpreet', 'Radixweb', 'OCPaddler', 'weddingfavors', 'muzammal', 'bedla', 'puppies', 'BeyondWords', 'nsfw', 'PreparedSociety', 'PlanetaCiencia', 'GrabberOrange', 'GinsanaEnergy', 'Mortgage', 'Dimas', 'bdcburma', 'siliconflorist', 'fundoo', 'egistb', 'Infosec2008', 'Jawad', 'Watches', 'shamaaz', 'OurChinese', 'Shailendra', 'webhosting', 'Posters', 'Dressupgurl', 'clikdicks', 'Simplyzigzag', 'NewsPlus', 'clink', 'cleavepoetry', 'experiment1', 'Packaging', 'yahooanswers'}\n"
     ]
    }
   ],
   "source": [
    "#1.23\n",
    "bridges = list(nx.bridges(G))\n",
    "potential_brokers = []\n",
    "for bridge in bridges:\n",
    "    potential_brokers.append(bridge[0])\n",
    "    potential_brokers.append(bridge[1])\n",
    "print('Potencijalni najuticajniji brokeri: ',set(potential_brokers))"
   ]
  },
  {
   "cell_type": "code",
   "execution_count": 247,
   "metadata": {},
   "outputs": [
    {
     "name": "stdout",
     "output_type": "stream",
     "text": [
      "Najuticajniji brokeri na osnovu relacione centralnosti\n",
      "reddit.com     0.3686547520487645\n",
      "technology     0.04937105642143906\n",
      "programming     0.04363491513740279\n",
      "politics     0.04304902436498485\n",
      "business     0.04129223409955247\n",
      "entertainment     0.03775667884001717\n",
      "pics     0.03760614288944095\n",
      "worldnews     0.03365842774623493\n",
      "funny     0.032314804042720656\n",
      "science     0.031917276291879515\n",
      "WTF     0.02849546111627981\n",
      "Chinese     0.014044014687369351\n",
      "gaming     0.012221818395893997\n",
      "Economics     0.010733825991583741\n",
      "AskReddit     0.010028973351065664\n",
      "nsfw     0.010000297129988444\n",
      "environment     0.009430288969051627\n",
      "atheism     0.008630839752859073\n",
      "comics     0.007200097548767125\n",
      "obama     0.005407476941709801\n",
      "Health     0.004994144165884502\n",
      "it     0.0044598562028012765\n",
      "ads     0.004392895906832522\n",
      "sports     0.0041240444080981545\n",
      "es     0.004034831456892147\n",
      "gossip     0.0032146865841833627\n",
      "cogsci     0.0029586772426389357\n",
      "de     0.0027909646564102768\n",
      "Marijuana     0.002734033763997474\n",
      "math     0.0027293660509219975\n",
      "ko     0.0022696636349144052\n",
      "women     0.002060613764551467\n",
      "apple     0.0018935006466424976\n",
      "beer     0.0016519967481341134\n",
      "fr     0.0016494035875529028\n",
      "tr     0.0014242312321526964\n",
      "MensRights     0.0013321587280246655\n",
      "lgbt     0.0012785774006682305\n",
      "Peiman     0.0011352347830908527\n",
      "dezvoltarepersonala     0.0011352347830908525\n",
      "Infos     0.0008993119183173863\n",
      "mexico     0.0008813579765656108\n",
      "Ambientalmente     0.0008668742608294449\n",
      "ChileRemix     0.000847214755406936\n",
      "Webbook     0.0007567049312033309\n",
      "social_bookmarking     0.0007510106198434274\n",
      "Realty     0.0006838227005977724\n",
      "China     0.0006167866173861352\n",
      "kriminals     0.0006144298200996741\n",
      "cheats     0.000609655358634238\n",
      "love     0.0005949731768077441\n",
      "freemusic     0.0005847878123062221\n",
      "bulgaria     0.0005809928995370477\n",
      "ZinioBest     0.0005773386454007045\n",
      "computergraphics     0.0005690547953364404\n",
      "sexzone     0.0005684508877057639\n",
      "homeschool     0.000568319682801908\n",
      "siliconflorist     0.0005678178381090617\n",
      "Mackorisnik     0.0005676979846721616\n",
      "PlanetaCiencia     0.0005676979846721544\n",
      "experiment1     0.0005676979846721544\n",
      "czech     0.0005676979846721536\n",
      "Voto     0.0005676979846721536\n",
      "Francie     0.0005676979846721523\n",
      "cute04     0.0005676979846721485\n",
      "lds     0.0005676979846721483\n"
     ]
    }
   ],
   "source": [
    "print('Najuticajniji brokeri na osnovu relacione centralnosti')\n",
    "bc_items = sorted(BC.items(), key=operator.itemgetter(1), reverse=True)[:]\n",
    "for bc_item in bc_items:\n",
    "    if bc_item[0] in set(potential_brokers) and bc_item[1]>0:\n",
    "        print(bc_item[0], \"   \", bc_item[1])"
   ]
  },
  {
   "cell_type": "code",
   "execution_count": null,
   "metadata": {},
   "outputs": [],
   "source": []
  }
 ],
 "metadata": {
  "kernelspec": {
   "display_name": "Python 3 (ipykernel)",
   "language": "python",
   "name": "python3"
  },
  "language_info": {
   "codemirror_mode": {
    "name": "ipython",
    "version": 3
   },
   "file_extension": ".py",
   "mimetype": "text/x-python",
   "name": "python",
   "nbconvert_exporter": "python",
   "pygments_lexer": "ipython3",
   "version": "3.8.12"
  }
 },
 "nbformat": 4,
 "nbformat_minor": 4
}
