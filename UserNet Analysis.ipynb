{
 "cells": [
  {
   "cell_type": "code",
   "execution_count": 1,
   "metadata": {},
   "outputs": [],
   "source": [
    "#!pip install powerlaw\n",
    "import pandas as pd\n",
    "import glob\n",
    "import numpy as np\n",
    "import pickle\n",
    "import networkx as nx\n",
    "import itertools\n",
    "import matplotlib.pyplot as plt\n",
    "from collections import Counter\n",
    "import powerlaw\n",
    "import math\n",
    "import operator"
   ]
  },
  {
   "cell_type": "code",
   "execution_count": 15,
   "metadata": {},
   "outputs": [],
   "source": [
    "with open(r\"cleaned_data\\unique_users\", 'rb') as file:\n",
    "    unique_users = pickle.load(file)\n",
    "\n",
    "with open(r\"cleaned_data\\user_net_submissions\", 'rb') as file:\n",
    "    submissions = pickle.load(file)\n",
    "\n",
    "with open(r\"cleaned_data\\user_net_comments\", 'rb') as file:\n",
    "    comments = pickle.load(file)"
   ]
  },
  {
   "cell_type": "code",
   "execution_count": 122,
   "metadata": {},
   "outputs": [
    {
     "name": "stdout",
     "output_type": "stream",
     "text": [
      "152730\n"
     ]
    }
   ],
   "source": [
    "#Graph creation\n",
    "\n",
    "G = nx.MultiDiGraph()\n",
    "G.add_nodes_from(set(unique_users))\n",
    "print(len(G.nodes))"
   ]
  },
  {
   "cell_type": "code",
   "execution_count": 17,
   "metadata": {
    "scrolled": true
   },
   "outputs": [
    {
     "name": "stdout",
     "output_type": "stream",
     "text": [
      "           index       id           author link_id parent_id\n",
      "25            34  c02s9t4  LiberalDemocrat   648os     648os\n",
      "55            72  c02s9u6        DiscoWolf   648os     648os\n",
      "63            83  c02s9uh         Flemlord   648p5     648p5\n",
      "69            89  c02s9un  LiberalDemocrat   648oy     648oy\n",
      "72            94  c02s9us  LiberalDemocrat   648p5     648p5\n",
      "...          ...      ...              ...     ...       ...\n",
      "4873684  7242866  c064gsy     rhythmicidea   7amdg   c064gqo\n",
      "4873685  7242867  c064gsz   blackwhitegrey   7ajij     7ajij\n",
      "4873686  7242868  c064gt0       Drewster58   7amg7     7amg7\n",
      "4873687  7242869  c064gt1           eerock   7akoc     7akoc\n",
      "4873688  7242870  c064gt2           mycall   7ajjm     7ajjm\n",
      "\n",
      "[3781518 rows x 5 columns]\n",
      "            id         author\n",
      "0        648oo          DITUS\n",
      "1        648op         rmuser\n",
      "3        648or          zorno\n",
      "4        648os         rmuser\n",
      "6        648ou  anteeknetshop\n",
      "...        ...            ...\n",
      "2519831  7amfx      oddietaco\n",
      "2519841  7amg7     Drewster58\n",
      "2519843  7amg9      clhibbard\n",
      "2519850  7amgg     justblogit\n",
      "2519851  7amgh   guillebravo6\n",
      "\n",
      "[797907 rows x 2 columns]\n"
     ]
    }
   ],
   "source": [
    "print(comments)\n",
    "print(submissions)"
   ]
  },
  {
   "cell_type": "code",
   "execution_count": 18,
   "metadata": {},
   "outputs": [
    {
     "name": "stdout",
     "output_type": "stream",
     "text": [
      "           index       id      author link_id parent_id\n",
      "1386311  2052819     7v8c  julenissen   7mq30     7mq30\n",
      "1386252  2052738     7v61  catlebrity   7mq2q     7mq2q\n",
      "1386322  2052839     7v8w       stumo   7mq1x     7mq1x\n",
      "1386337  2052865     7v9m       eMigo   7mq1x     7mq1x\n",
      "1386256  2052742     7v65  russianout   7mq1r     7mq1r\n",
      "...          ...      ...         ...     ...       ...\n",
      "139          170  c02s9ww   reflibman   648or     648or\n",
      "2685        3784  c02scpa   sexydarin   648op     648op\n",
      "2543        3608  c02scke     quiller   648op     648op\n",
      "579          766  c02sadg     fotoman   648op     648op\n",
      "6055        8511  c02sgcn   Gargilius   648op     648op\n",
      "\n",
      "[3781518 rows x 5 columns]\n",
      "           id         author\n",
      "846563  7mq3v         klippa\n",
      "846559  7mq3r       middkidd\n",
      "846558  7mq3q       bixiebix\n",
      "846551  7mq3j   ohstrangeone\n",
      "846550  7mq3h      shadowvox\n",
      "...       ...            ...\n",
      "6       648ou  anteeknetshop\n",
      "4       648os         rmuser\n",
      "3       648or          zorno\n",
      "1       648op         rmuser\n",
      "0       648oo          DITUS\n",
      "\n",
      "[797907 rows x 2 columns]\n"
     ]
    }
   ],
   "source": [
    "#Sort data\n",
    "\n",
    "comments = comments.sort_values(by='link_id', ascending=False)\n",
    "print(comments)\n",
    "submissions = submissions.sort_values(by='id', ascending = False)\n",
    "print(submissions)"
   ]
  },
  {
   "cell_type": "code",
   "execution_count": 23,
   "metadata": {},
   "outputs": [
    {
     "name": "stdout",
     "output_type": "stream",
     "text": [
      "           index       id      author link_id parent_id\n",
      "1386311  2052819     7v8c  julenissen   7mq30     7mq30\n",
      "1386252  2052738     7v61  catlebrity   7mq2q     7mq2q\n",
      "1386322  2052839     7v8w       stumo   7mq1x     7mq1x\n",
      "1386337  2052865     7v9m       eMigo   7mq1x     7mq1x\n",
      "1386256  2052742     7v65  russianout   7mq1r     7mq1r\n",
      "...          ...      ...         ...     ...       ...\n",
      "139          170  c02s9ww   reflibman   648or     648or\n",
      "2685        3784  c02scpa   sexydarin   648op     648op\n",
      "2543        3608  c02scke     quiller   648op     648op\n",
      "579          766  c02sadg     fotoman   648op     648op\n",
      "6055        8511  c02sgcn   Gargilius   648op     648op\n",
      "\n",
      "[1475742 rows x 5 columns]\n",
      "           index       id           author link_id parent_id\n",
      "1386248  2052730     7v5t   LapsedPacifist   7mq1o      7v47\n",
      "1386225  2052690     7v4p         The_Yeti   7mpwf      7ujp\n",
      "1385832  2052096     7uo3      SnowLeopard   7mpwf      7ug0\n",
      "1386019  2052395     7uwg      SnowLeopard   7mpwf      7uu7\n",
      "1386018  2052394     7uwf        anonymgrl   7mpwf      7uq2\n",
      "...          ...      ...              ...     ...       ...\n",
      "1740        2477  c02sboz       slamare247   648p5   c02s9us\n",
      "1717        2443  c02sbo1       slamare247   648p5   c02sa1m\n",
      "138          169  c02s9wv  LiberalDemocrat   648oy   c02s9wm\n",
      "771         1048  c02sala    SpiceMustFlow   648oy   c02sa97\n",
      "143          174  c02s9x0  LiberalDemocrat   648oy   c02s9wm\n",
      "\n",
      "[2305776 rows x 5 columns]\n"
     ]
    }
   ],
   "source": [
    "#Divide data\n",
    "\n",
    "mask = comments['link_id'] == comments['parent_id']\n",
    "comments_on_submissions = comments[mask]\n",
    "comments_on_comments_mask = ~mask\n",
    "comments_on_comments = comments[comments_on_comments_mask]\n",
    "\n",
    "print(comments_on_submissions)\n",
    "print(comments_on_comments)"
   ]
  },
  {
   "cell_type": "code",
   "execution_count": 123,
   "metadata": {},
   "outputs": [],
   "source": [
    "def generate_edge(x,y):\n",
    "    if x != y:\n",
    "        if (x, y, x) in G.edges:  \n",
    "            old_weight = G.get_edge_data(x, y, key=x)['weight']\n",
    "            new_weight = old_weight + 1\n",
    "            G.add_edge(x, y, key = x, weight=new_weight)\n",
    "        else:\n",
    "            G.add_edge(x, y, key = x, weight=1)"
   ]
  },
  {
   "cell_type": "code",
   "execution_count": 30,
   "metadata": {},
   "outputs": [
    {
     "name": "stdout",
     "output_type": "stream",
     "text": [
      "         index     id         author\n",
      "0       846563  7mq3v         klippa\n",
      "1       846559  7mq3r       middkidd\n",
      "2       846558  7mq3q       bixiebix\n",
      "3       846551  7mq3j   ohstrangeone\n",
      "4       846550  7mq3h      shadowvox\n",
      "...        ...    ...            ...\n",
      "797902       6  648ou  anteeknetshop\n",
      "797903       4  648os         rmuser\n",
      "797904       3  648or          zorno\n",
      "797905       1  648op         rmuser\n",
      "797906       0  648oo          DITUS\n",
      "\n",
      "[797907 rows x 3 columns]\n"
     ]
    }
   ],
   "source": [
    "submissions = submissions.reset_index()\n",
    "print(submissions)"
   ]
  },
  {
   "cell_type": "code",
   "execution_count": 124,
   "metadata": {},
   "outputs": [],
   "source": [
    "#Add edges from comments_on_submissions\n",
    "\n",
    "comments_on_submissions.reset_index()\n",
    "curr_submissions_index = 0\n",
    "cur_submissions_id = submissions.iat[curr_submissions_index, submissions.columns.get_loc('id')]\n",
    "for _,_,_,author,link_id,_ in comments_on_submissions.itertuples():\n",
    "    while link_id != cur_submissions_id:\n",
    "            curr_submissions_index+=1\n",
    "            cur_submissions_id = submissions.iat[curr_submissions_index, submissions.columns.get_loc('id')]\n",
    "    curr_submissions_author = submissions.iat[curr_submissions_index, submissions.columns.get_loc('author')]\n",
    "    generate_edge(author,curr_submissions_author)"
   ]
  },
  {
   "cell_type": "code",
   "execution_count": 117,
   "metadata": {},
   "outputs": [],
   "source": [
    "#Create dictionary with key,value pairs (comment_id, author)\n",
    "\n",
    "dict2 = dict(zip(comments_on_comments['id'], comments_on_comments['author']))"
   ]
  },
  {
   "cell_type": "code",
   "execution_count": 126,
   "metadata": {},
   "outputs": [],
   "source": [
    "#Add edges from comments_on_comments\n",
    "\n",
    "comments_on_comments.reset_index()\n",
    "for _,_,_,author,link_id, parent_id in comments_on_comments.itertuples():\n",
    "    if parent_id in dict2: \n",
    "        comment_author = dict2[parent_id]\n",
    "        generate_edge(author, comment_author)"
   ]
  },
  {
   "cell_type": "code",
   "execution_count": 130,
   "metadata": {},
   "outputs": [],
   "source": [
    "#Save UserNet\n",
    "\n",
    "nx.info(G)\n",
    "\n",
    "output_path = \"models/UserNet.gml\"\n",
    "nx.write_gml(G, output_path)"
   ]
  },
  {
   "cell_type": "code",
   "execution_count": 6,
   "metadata": {},
   "outputs": [],
   "source": [
    "G = nx.read_gml(\"models/UserNet.gml\")"
   ]
  },
  {
   "cell_type": "code",
   "execution_count": 7,
   "metadata": {},
   "outputs": [
    {
     "name": "stdout",
     "output_type": "stream",
     "text": [
      "76038\n"
     ]
    }
   ],
   "source": [
    "nodesToRemove = list(nx.isolates(G))\n",
    "G.remove_nodes_from(nodesToRemove)\n",
    "print(len(list(G.nodes)))\n",
    "output_path = \"models/UserNetFiltered.gml\"\n",
    "nx.write_gml(G, output_path)"
   ]
  },
  {
   "cell_type": "code",
   "execution_count": 8,
   "metadata": {},
   "outputs": [
    {
     "name": "stdout",
     "output_type": "stream",
     "text": [
      "Network density is:  0.0003412358856776285\n"
     ]
    }
   ],
   "source": [
    "#Network density\n",
    "\n",
    "number_of_edges = G.number_of_edges()\n",
    "number_of_nodes = G.number_of_nodes()\n",
    "\n",
    "absolut_number_of_edges = number_of_nodes * (number_of_nodes - 1)\n",
    "network_density = number_of_edges/absolut_number_of_edges\n",
    "\n",
    "print(\"Network density is: \",network_density)"
   ]
  },
  {
   "cell_type": "code",
   "execution_count": 154,
   "metadata": {},
   "outputs": [
    {
     "name": "stdout",
     "output_type": "stream",
     "text": [
      "Number of components :  39211\n",
      "Number of nodes in largest component :  36746\n"
     ]
    }
   ],
   "source": [
    "#Find strongly connected components\n",
    "\n",
    "S = [G.subgraph(c).copy() for c in sorted(nx.strongly_connected_components(G), key=len, reverse=True)]\n",
    "largest_component = S[0]\n",
    "print(\"Number of components : \", len(S))\n",
    "print(\"Number of nodes in largest component : \", largest_component.number_of_nodes())"
   ]
  },
  {
   "cell_type": "code",
   "execution_count": 153,
   "metadata": {},
   "outputs": [
    {
     "name": "stdout",
     "output_type": "stream",
     "text": [
      "Number of components :  639\n",
      "Number of nodes in largest component :  74469\n"
     ]
    }
   ],
   "source": [
    "#Find weakly connected components\n",
    "\n",
    "S = [G.subgraph(c).copy() for c in sorted(nx.weakly_connected_components(G), key=len, reverse=True)]\n",
    "largest_weakly_connected_component = S[0]\n",
    "print(\"Number of components : \", len(S))\n",
    "print(\"Number of nodes in largest component : \", largest_component.number_of_nodes())"
   ]
  },
  {
   "cell_type": "code",
   "execution_count": 193,
   "metadata": {},
   "outputs": [],
   "source": [
    "#Save the largest component\n",
    "\n",
    "output_path = \"models/UserNetLargestComponent.gml\"\n",
    "nx.write_gml(largest_component, output_path)"
   ]
  },
  {
   "cell_type": "code",
   "execution_count": 9,
   "metadata": {},
   "outputs": [],
   "source": [
    "G = nx.read_gml(\"models/UserNetLargestComponent.gml\")"
   ]
  },
  {
   "cell_type": "code",
   "execution_count": null,
   "metadata": {},
   "outputs": [],
   "source": [
    "#3.8 Diameter and Average shortest path - did not manage to run approximation\n",
    "import networkx as nx\n",
    "from networkx.algorithms import approximation\n",
    "import networkx as nx\n",
    "\n",
    "diameter_value = approximation.diameter(largest_component)\n",
    "print(\"UserNet diameter: \", diameter_value)"
   ]
  },
  {
   "cell_type": "code",
   "execution_count": null,
   "metadata": {},
   "outputs": [],
   "source": [
    "average_shortest_path_length = nx.average_shortest_path_length(largest_component, weight='weight') \n",
    "print(\"Average shortest path length with weight: \", average_shortest_path_length)\n",
    "average_shortest_path_length = nx.average_shortest_path_length(largest_component) \n",
    "print(\"Average shortest path length without weight: \", average_shortest_path_length)\n",
    "# NetworkXError: Graph is not weakly connected."
   ]
  },
  {
   "cell_type": "code",
   "execution_count": null,
   "metadata": {},
   "outputs": [],
   "source": [
    "average_clustering_coefficient = nx.average_clustering(G)\n",
    "global_clustering_coefficient = nx.transitivity(G)"
   ]
  },
  {
   "cell_type": "code",
   "execution_count": null,
   "metadata": {},
   "outputs": [],
   "source": [
    "# -> From Gephi\n",
    "#Diameter: 10\n",
    "#Radius: 5\n",
    "#Average Path length: 3.20275654675197"
   ]
  },
  {
   "cell_type": "code",
   "execution_count": 11,
   "metadata": {},
   "outputs": [
    {
     "name": "stdout",
     "output_type": "stream",
     "text": [
      "Assortativity coefficient for non weighted graph:  -0.04617843740220365\n"
     ]
    }
   ],
   "source": [
    "#3.12\n",
    "r1 = nx.degree_assortativity_coefficient(G)\n",
    "print(\"Assortativity coefficient for non weighted graph: \", r1)"
   ]
  },
  {
   "cell_type": "code",
   "execution_count": 3,
   "metadata": {},
   "outputs": [],
   "source": [
    "#3.14 Degree distribution\n",
    "\n",
    "def plot_deg_frequency(G, weighted = False, xscale = \"log\", yscale = \"log\"):\n",
    "\n",
    "    if weighted:\n",
    "        degrees = G.degree(weight=\"weight\")\n",
    "    else:\n",
    "        degrees = G.degree()\n",
    "        \n",
    "    _, deg_list = zip(*degrees)\n",
    "    deg_counts = Counter(deg_list)        \n",
    "    #print(deg_counts)\n",
    "    x, y = zip(*deg_counts.items())                                                      \n",
    "\n",
    "    plt.figure(1)   \n",
    "\n",
    "    # prep axes   \n",
    "    if weighted:\n",
    "        plt.xlabel('weighted degree')  \n",
    "    else:\n",
    "        plt.xlabel('degree')                                                                                                             \n",
    "    plt.xscale(xscale)                                                                                                                \n",
    "    plt.xlim(1, max(x))  \n",
    "\n",
    "    plt.ylabel('frequency')                                                                                                          \n",
    "    plt.yscale(yscale)                                                                                                                \n",
    "    plt.ylim(0, max(y))                                                                                                             \n",
    "                                                                                                                                                                                                    \n",
    "    plt.scatter(x, y, marker='.')                                                                                                    \n",
    "    plt.show()"
   ]
  },
  {
   "cell_type": "code",
   "execution_count": 4,
   "metadata": {},
   "outputs": [
    {
     "name": "stderr",
     "output_type": "stream",
     "text": [
      "C:\\Users\\sretenp\\AppData\\Local\\Temp/ipykernel_9668/2804442282.py:28: UserWarning: Attempted to set non-positive bottom ylim on a log-scaled axis.\n",
      "Invalid limit will be ignored.\n",
      "  plt.ylim(0, max(y))\n"
     ]
    },
    {
     "data": {
      "image/png": "[encoded data removed]",
      "text/plain": [
       "<Figure size 432x288 with 1 Axes>"
      ]
     },
     "metadata": {
      "needs_background": "light"
     },
     "output_type": "display_data"
    }
   ],
   "source": [
    "plot_deg_frequency(G, weighted = True)"
   ]
  },
  {
   "cell_type": "code",
   "execution_count": 12,
   "metadata": {},
   "outputs": [
    {
     "data": {
      "image/png": "[encoded data removed]",
      "text/plain": [
       "<Figure size 432x288 with 1 Axes>"
      ]
     },
     "metadata": {
      "needs_background": "light"
     },
     "output_type": "display_data"
    }
   ],
   "source": [
    "# Power law distribution\n",
    "\n",
    "degree_sequence = sorted([d for n, d in G.degree()], reverse=True)\n",
    "\n",
    "degreeCount = Counter(degree_sequence)\n",
    "deg, cnt = zip(*degreeCount.items())\n",
    "\n",
    "max_deg = max(deg)\n",
    "\n",
    "values, base = np.histogram(deg, bins = max_deg)\n",
    "\n",
    "# Cumulative sum (Inclusive prefix sum)\n",
    "cumulative = np.cumsum(values)\n",
    "\n",
    "# Ploting of complementary cumulative node degree distribution P(X>x)\n",
    "plt.plot(base[:-1], [float(x)/len(G) for x in len(G) - cumulative], c='red')\n",
    "\n",
    "plt.show()"
   ]
  },
  {
   "cell_type": "code",
   "execution_count": 6,
   "metadata": {},
   "outputs": [
    {
     "name": "stdout",
     "output_type": "stream",
     "text": [
      "Calculating best minimal value for power law fit\n",
      "{'power_law': <class 'powerlaw.Power_Law'>, 'lognormal': <class 'powerlaw.Lognormal'>, 'exponential': <class 'powerlaw.Exponential'>, 'truncated_power_law': <class 'powerlaw.Truncated_Power_Law'>, 'stretched_exponential': <class 'powerlaw.Stretched_Exponential'>, 'lognormal_positive': <class 'powerlaw.Lognormal_Positive'>}\n",
      "3.357462027654507\n",
      "952.0\n",
      "0.0967278386370514\n",
      "Loglikelihood ratio: -5.712881026750495\n",
      "Statistical significance: 0.05685111617221731\n",
      "Loglikelihood ratio: 11.465023677211054\n",
      "Statistical significance: 0.2800587338612248\n"
     ]
    },
    {
     "name": "stderr",
     "output_type": "stream",
     "text": [
      "Assuming nested distributions\n"
     ]
    },
    {
     "name": "stdout",
     "output_type": "stream",
     "text": [
      "Loglikelihood ratio: -5.670994538105182\n",
      "Statistical significance: 0.0007577412134861516\n"
     ]
    }
   ],
   "source": [
    "results = powerlaw.Fit(degree_sequence)\n",
    "print(results.supported_distributions)\n",
    "\n",
    "print(results.power_law.alpha)\n",
    "print(results.power_law.xmin)\n",
    "print(results.power_law.sigma)\n",
    "R, p = results.distribution_compare('power_law', 'lognormal')\n",
    "print(f\"Loglikelihood ratio: {R}\")\n",
    "print(f\"Statistical significance: {p}\")\n",
    "R, p = results.distribution_compare('power_law', 'exponential')\n",
    "print(f\"Loglikelihood ratio: {R}\")\n",
    "print(f\"Statistical significance: {p}\")\n",
    "R, p = results.distribution_compare('power_law', 'truncated_power_law')\n",
    "print(f\"Loglikelihood ratio: {R}\")\n",
    "print(f\"Statistical significance: {p}\")\n"
   ]
  },
  {
   "cell_type": "code",
   "execution_count": 13,
   "metadata": {},
   "outputs": [
    {
     "name": "stdout",
     "output_type": "stream",
     "text": [
      "UserNet Hubs\n",
      "\n",
      "('malcontent', 0.0031086961824934997)\n",
      "('NoMoreNicksLeft', 0.0030286784011830034)\n",
      "('matts2', 0.002825724475116414)\n",
      "('cartooncorpse', 0.0022816071295664125)\n",
      "('randomb0y', 0.0020466802453137757)\n",
      "('eleitl', 0.0020235375315977595)\n",
      "('alllie', 0.0019269023821792506)\n",
      "('RugerRedhawk', 0.001812345666351941)\n",
      "('sakebomb69', 0.001800023338738594)\n",
      "('mutatron', 0.0017505951369599516)\n",
      "\n",
      "UserNet Authorities\n",
      "\n",
      "('qgyh2', 0.010139825986875883)\n",
      "('rmuser', 0.00990534361316391)\n",
      "('alllie', 0.005872691355346865)\n",
      "('maxwellhill', 0.004809302066666243)\n",
      "('noname99', 0.004771453664315664)\n",
      "('georgewashingtonblog', 0.004618163353814055)\n",
      "('twolf1', 0.004599607910239071)\n",
      "('IAmperfectlyCalm', 0.004216141682750718)\n",
      "('gst', 0.004046468235431592)\n",
      "('matts2', 0.003929323138609022)\n"
     ]
    }
   ],
   "source": [
    "#3.15 Hubs and authorities\n",
    "\n",
    "hubs, authorities =nx.hits(G)\n",
    "\n",
    "hub_items = sorted(hubs.items(), key=operator.itemgetter(1), reverse=True)[:10]\n",
    "print(\"UserNet Hubs\\n\")\n",
    "for hub_item in hub_items:\n",
    "    print(hub_item)\n",
    "\n",
    "authority_items = sorted(authorities.items(), key=operator.itemgetter(1), reverse=True)[:10]\n",
    "print(\"\\nUserNet Authorities\\n\")\n",
    "for authority_item in authority_items:\n",
    "    print(authority_item)"
   ]
  },
  {
   "cell_type": "code",
   "execution_count": 3,
   "metadata": {},
   "outputs": [
    {
     "name": "stdout",
     "output_type": "stream",
     "text": [
      "Top 10 Out Degree centrality:\n",
      "\n",
      "NoMoreNicksLeft \t\t 0.07709892502381277 \t 4657\n",
      "randomb0y \t\t 0.06324670023132399 \t 3588\n",
      "mutatron \t\t 0.060552456116478436 \t 3330\n",
      "malcontent \t\t 0.0589740100693972 \t 3740\n",
      "h0dg3s \t\t 0.05870186419921078 \t 3436\n",
      "Poromenos \t\t 0.057586066131446456 \t 3761\n",
      "7oby \t\t 0.0570962035651109 \t 5466\n",
      "mexicodoug \t\t 0.056198122193495716 \t 3468\n",
      "nixonrichard \t\t 0.05451081779833991 \t 3988\n",
      "otakucode \t\t 0.05380323853585522 \t 3604\n"
     ]
    }
   ],
   "source": [
    "print(\"Top 10 Out Degree centrality:\\n\")\n",
    "Out_DC = nx.out_degree_centrality(G)\n",
    "dc_items = sorted(Out_DC.items(), key=operator.itemgetter(1), reverse=True)[:10]\n",
    "for dc_item in dc_items:\n",
    "    print(dc_item[0], \"\\t\\t\",dc_item[1], \"\\t\",G.degree[dc_item[0]])"
   ]
  },
  {
   "cell_type": "code",
   "execution_count": 5,
   "metadata": {},
   "outputs": [
    {
     "name": "stdout",
     "output_type": "stream",
     "text": [
      "Top 10 In Degree centrality:\n",
      "\n",
      "rmuser \t\t 0.21385222479248878 \t 8910\n",
      "qgyh2 \t\t 0.1922166281126684 \t 7783\n",
      "noname99 \t\t 0.14875493264389714 \t 5568\n",
      "alllie \t\t 0.13468499115525923 \t 6740\n",
      "swampsparrow \t\t 0.13133759695196626 \t 5515\n",
      "gst \t\t 0.12703769220302083 \t 4670\n",
      "maxwellhill \t\t 0.12129541434208736 \t 4475\n",
      "twolf1 \t\t 0.10725268744046809 \t 4007\n",
      "georgewashingtonblog \t\t 0.10085725949108722 \t 3904\n",
      "7oby \t\t 0.09165872907878624 \t 5466\n"
     ]
    }
   ],
   "source": [
    "print(\"Top 10 In Degree centrality:\\n\")\n",
    "IN_DC = nx.in_degree_centrality(G)\n",
    "dc_items = sorted(IN_DC.items(), key=operator.itemgetter(1), reverse=True)[:10]\n",
    "for dc_item in dc_items:\n",
    "    print(dc_item[0], \"\\t\\t\",dc_item[1], \"\\t\",G.degree[dc_item[0]])"
   ]
  },
  {
   "cell_type": "code",
   "execution_count": null,
   "metadata": {},
   "outputs": [],
   "source": [
    "#3.16 \n",
    "    \n",
    "print(\"\\nTop 10 Closeness centrality:\\n\")\n",
    "CC = nx.closeness_centrality(G)\n",
    "cc_items = sorted(CC.items(), key=operator.itemgetter(1), reverse=True)[:10]\n",
    "for cc_item in cc_items:\n",
    "    node = cc_item[0]\n",
    "    print(cc_item[0], \"   \", cc_item[1])\n",
    "\n",
    "# Not implemented for multigraph type\n",
    "print(\"\\nTop 10 Betweenness centrality:\\n\")\n",
    "BC = nx.betweenness_centrality(G)\n",
    "bc_items = sorted(BC.items(), key=operator.itemgetter(1), reverse=True)[:10]\n",
    "for bc_item in bc_items:\n",
    "    node = bc_item[0];\n",
    "    print(bc_item[0], \"   \", bc_item[1])\n",
    "    \n",
    "# Not implemented for multigraph type\n",
    "print(\"\\nTop 10 Betweenness centrality with weight:\\n\")\n",
    "BC = nx.betweenness_centrality(G, weight='weight')\n",
    "bc_items = sorted(BC.items(), key=operator.itemgetter(1), reverse=True)[:10]\n",
    "for bc_item in bc_items:\n",
    "    node = bc_item[0];\n",
    "    print(bc_item[0], \"   \", bc_item[1])"
   ]
  },
  {
   "cell_type": "code",
   "execution_count": null,
   "metadata": {},
   "outputs": [],
   "source": [
    "#1.17 Eigenvector centrality - Not implemented for multigraph type\n",
    "\n",
    "print(\"\\nTop 10 Eigenvector centrality:\\n\")\n",
    "EC = nx.eigenvector_centrality(G)\n",
    "ec_items = sorted(EC.items(), key=operator.itemgetter(1), reverse=True)[:10]\n",
    "for ec_item in ec_items:\n",
    "    print(ec_item[0], \"   \", ec_item[1])"
   ]
  },
  {
   "cell_type": "code",
   "execution_count": null,
   "metadata": {},
   "outputs": [],
   "source": [
    "lambda_max =  max(nx.adjacency_spectrum(G))\n",
    "print(1/lambda_max)"
   ]
  },
  {
   "cell_type": "code",
   "execution_count": null,
   "metadata": {},
   "outputs": [],
   "source": [
    "KC = nx.katz_centrality(G, alpha=1/(2*lambda_max), beta=1.0, max_iter=1000, tol=1e-06, nstart=None, normalized=True, weight=None)\n",
    "kc_items = sorted(KC.items(), key=operator.itemgetter(1), reverse=True)[:10]\n",
    "for kc_item in kc_items:\n",
    "    print(kc_item[0], \"   \", kc_item[1])"
   ]
  }
 ],
 "metadata": {
  "kernelspec": {
   "display_name": "Python 3 (ipykernel)",
   "language": "python",
   "name": "python3"
  },
  "language_info": {
   "codemirror_mode": {
    "name": "ipython",
    "version": 3
   },
   "file_extension": ".py",
   "mimetype": "text/x-python",
   "name": "python",
   "nbconvert_exporter": "python",
   "pygments_lexer": "ipython3",
   "version": "3.8.12"
  }
 },
 "nbformat": 4,
 "nbformat_minor": 4
}
