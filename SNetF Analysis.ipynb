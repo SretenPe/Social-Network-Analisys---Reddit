{
 "cells": [
  {
   "cell_type": "code",
   "execution_count": 1,
   "metadata": {},
   "outputs": [],
   "source": [
    "#!pip install powerlaw\n",
    "import pandas as pd\n",
    "import glob\n",
    "import numpy as np\n",
    "import pickle\n",
    "import networkx as nx\n",
    "import itertools\n",
    "import matplotlib.pyplot as plt\n",
    "from collections import Counter\n",
    "import powerlaw\n",
    "import math\n",
    "import operator"
   ]
  },
  {
   "cell_type": "code",
   "execution_count": 5,
   "metadata": {},
   "outputs": [
    {
     "name": "stdout",
     "output_type": "stream",
     "text": [
      "3524 156934\n"
     ]
    }
   ],
   "source": [
    "#Read SNet\n",
    "input_path = \"models/SNetLargestComponent.gml\"\n",
    "G = nx.read_gml(input_path)\n",
    "\n",
    "n = G.number_of_nodes()\n",
    "m = G.number_of_edges()\n",
    "print(n, m)"
   ]
  },
  {
   "cell_type": "code",
   "execution_count": 6,
   "metadata": {},
   "outputs": [
    {
     "name": "stdout",
     "output_type": "stream",
     "text": [
      "156934\n"
     ]
    }
   ],
   "source": [
    "edges, weights = zip(*nx.get_edge_attributes(G, 'weight').items())\n",
    "weight_list = []\n",
    "for w in weights:\n",
    "    weight_list.append(w)\n",
    "\n",
    "print(len(weight_list))"
   ]
  },
  {
   "cell_type": "code",
   "execution_count": 7,
   "metadata": {},
   "outputs": [
    {
     "data": {
      "image/png": "[encoded data removed]",
      "text/plain": [
       "<Figure size 432x288 with 1 Axes>"
      ]
     },
     "metadata": {
      "needs_background": "light"
     },
     "output_type": "display_data"
    }
   ],
   "source": [
    "plt.hist(weight_list, color = '#aaf0d4', edgecolor = 'black', bins=200)\n",
    "\n",
    "plt.title('SNet Edge weights distribution')\n",
    "plt.xlabel('Edge weight')\n",
    "plt.ylabel('Number of edges')\n",
    "plt.xscale(\"log\")   \n",
    "plt.yscale(\"log\")\n",
    "\n",
    "plt.tight_layout()\n",
    "plt.show()\n"
   ]
  },
  {
   "cell_type": "code",
   "execution_count": 8,
   "metadata": {},
   "outputs": [
    {
     "name": "stdout",
     "output_type": "stream",
     "text": [
      "Max edges:  14124\n",
      "Edge weight limit :  15\n",
      "Is new graph connected?  False\n",
      "Number of nodes after filtering :  409\n",
      "Number of edges after filtering :  14309\n"
     ]
    }
   ],
   "source": [
    "#Filter SNet and create SNetF\n",
    "\n",
    "edge_weights = nx.get_edge_attributes(G,'weight')\n",
    "max_edge = G.number_of_edges() * 0.09\n",
    "print(\"Max edges: \", int(max_edge))\n",
    "edge_weights_items = sorted(edge_weights.items(), key=operator.itemgetter(1), reverse=True)[int(max_edge):int(max_edge)+1]\n",
    "edge_weight_limit = edge_weights_items[0][1]\n",
    "print(\"Edge weight limit : \", edge_weight_limit)\n",
    "\n",
    "n = G.number_of_nodes()\n",
    "m = G.number_of_edges()\n",
    "G.remove_edges_from((e for e, w in edge_weights.items() if w < edge_weight_limit))\n",
    "\n",
    "nodesToRemove = list(nx.isolates(G))\n",
    "G.remove_nodes_from(nodesToRemove)\n",
    "print(\"Is new graph connected? \", nx.is_connected(G))\n",
    "\n",
    "n = G.number_of_nodes()\n",
    "m = G.number_of_edges()\n",
    "print(\"Number of nodes after filtering : \", n)\n",
    "print(\"Number of edges after filtering : \", m)"
   ]
  },
  {
   "cell_type": "code",
   "execution_count": 9,
   "metadata": {},
   "outputs": [
    {
     "name": "stdout",
     "output_type": "stream",
     "text": [
      "14309\n"
     ]
    }
   ],
   "source": [
    "edges, weights = zip(*nx.get_edge_attributes(G, 'weight').items())\n",
    "weight_list = []\n",
    "for w in weights:\n",
    "    weight_list.append(w)\n",
    "\n",
    "print(len(weight_list))"
   ]
  },
  {
   "cell_type": "code",
   "execution_count": 10,
   "metadata": {},
   "outputs": [
    {
     "data": {
      "image/png": "[encoded data removed]",
      "text/plain": [
       "<Figure size 432x288 with 1 Axes>"
      ]
     },
     "metadata": {
      "needs_background": "light"
     },
     "output_type": "display_data"
    }
   ],
   "source": [
    "plt.hist(weight_list, color = '#aaf0d4', edgecolor = 'black', bins=200)\n",
    "\n",
    "plt.title('SNetF Edge weights distribution')\n",
    "plt.xlabel('Edge weight')\n",
    "plt.ylabel('Number of edges')\n",
    "plt.xscale(\"log\")   \n",
    "plt.yscale(\"log\")\n",
    "\n",
    "plt.tight_layout()\n",
    "plt.show()\n"
   ]
  },
  {
   "cell_type": "code",
   "execution_count": 61,
   "metadata": {},
   "outputs": [
    {
     "name": "stdout",
     "output_type": "stream",
     "text": [
      "Number of components :  2\n",
      "Number of nodes in largest component :  407\n"
     ]
    }
   ],
   "source": [
    "#Find components and extract largest component\n",
    "\n",
    "[len(c) for c in sorted(nx.connected_components(G), key=len, reverse=True)]\n",
    "S = [G.subgraph(c).copy() for c in nx.connected_components(G)]\n",
    "largest_component = S[0]\n",
    "print(\"Number of components : \", len(S))\n",
    "print(\"Number of nodes in largest component : \", largest_component.number_of_nodes())\n",
    "G = largest_component\n"
   ]
  },
  {
   "cell_type": "code",
   "execution_count": 81,
   "metadata": {},
   "outputs": [],
   "source": [
    "output_path = \"models/SNetF.gml\"\n",
    "\n",
    "nx.write_gml(G, output_path)"
   ]
  },
  {
   "cell_type": "code",
   "execution_count": 4,
   "metadata": {},
   "outputs": [],
   "source": [
    "G = nx.read_gml(\"models/SNetF.gml\")"
   ]
  },
  {
   "cell_type": "code",
   "execution_count": 97,
   "metadata": {},
   "outputs": [
    {
     "name": "stdout",
     "output_type": "stream",
     "text": [
      "Network density :  0.17317631110734558\n"
     ]
    }
   ],
   "source": [
    "#1.7 Network density\n",
    "\n",
    "number_of_edges = G.number_of_edges()\n",
    "number_of_nodes = G.number_of_nodes()\n",
    "absolut_number_of_edges = number_of_nodes * (number_of_nodes - 1)/2\n",
    "network_density = number_of_edges/absolut_number_of_edges\n",
    "\n",
    "print(\"Network density : \", network_density)"
   ]
  },
  {
   "cell_type": "code",
   "execution_count": 47,
   "metadata": {},
   "outputs": [
    {
     "name": "stdout",
     "output_type": "stream",
     "text": [
      "SNetF diameter:  4\n",
      "Average shortest path length:  47.584524515558996\n",
      "Average shortest path length:  1.8547947858292686\n"
     ]
    }
   ],
   "source": [
    "#1.8 Diameter and Average shortest path\n",
    "\n",
    "diameter = nx.diameter(G)\n",
    "print(\"SNetF diameter: \", diameter)\n",
    "\n",
    "average_shortest_path_length = nx.average_shortest_path_length(G, weight='weight') \n",
    "print(\"Average shortest path length with weight: \", average_shortest_path_length)\n",
    "average_shortest_path_length = nx.average_shortest_path_length(G) \n",
    "print(\"Average shortest path length without weight: \", average_shortest_path_length)"
   ]
  },
  {
   "cell_type": "code",
   "execution_count": 48,
   "metadata": {},
   "outputs": [
    {
     "name": "stdout",
     "output_type": "stream",
     "text": [
      "\n",
      "Number of nodes :  407\n",
      "Number of edges :  14308\n",
      "Broj čvorova originalne mreže minus broj čvorova u ER mreži iznosi -22, što je odstupanje od 0.15376013419066256%\n"
     ]
    }
   ],
   "source": [
    "#1.10 ER Model\n",
    "n = G.number_of_nodes()\n",
    "m = G.number_of_edges()\n",
    "print(\"\\nNumber of nodes : \", n)\n",
    "print(\"Number of edges : \", m)\n",
    "\n",
    "p = ( 2*float(m) ) / ( n* (n-1) )\n",
    "er_net = nx.erdos_renyi_graph(n,p)\n",
    "\n",
    "delta_m = m - er_net.number_of_edges()"
   ]
  },
  {
   "cell_type": "code",
   "execution_count": 51,
   "metadata": {},
   "outputs": [
    {
     "name": "stdout",
     "output_type": "stream",
     "text": [
      "Average clustering coefficient :  0.844832614459805\n",
      "Global clustering coefficient :  0.5117015268125766\n"
     ]
    },
    {
     "data": {
      "image/png": "[encoded data removed]",
      "text/plain": [
       "<Figure size 432x288 with 1 Axes>"
      ]
     },
     "metadata": {
      "needs_background": "light"
     },
     "output_type": "display_data"
    }
   ],
   "source": [
    "#1.10 Average and global clustering coefficient, Local clustering coefficient distribution for SNetF\n",
    "\n",
    "average_clustering_coefficient = nx.average_clustering(G)\n",
    "global_clustering_coefficient = nx.transitivity(G)\n",
    "\n",
    "subreddit, clustering_coef = zip(*nx.clustering(G, weight = \"weight\").items())\n",
    "local_clustering_data = [(subreddit, cc)  for subreddit, cc in zip(subreddit, clustering_coef) if cc > 0]\n",
    "local_clustering_coefficients = pd.DataFrame(local_clustering_data, columns = [\"subreddit\", \"cc\"])\n",
    "local_clustering_coefficients.sort_values('cc', inplace = True, ascending=False)\n",
    "\n",
    "print(\"Average clustering coefficient : \", average_clustering_coefficient)\n",
    "print(\"Global clustering coefficient : \", global_clustering_coefficient)\n",
    "\n",
    "plt.hist(local_clustering_coefficients['cc'], color = 'pink', edgecolor = 'black',\n",
    "         bins = int(300/5))\n",
    "\n",
    "plt.title('Local clustering coefficient distribution')\n",
    "plt.xlabel('Clustering Coefficient')\n",
    "plt.ylabel('Number of nodes')\n",
    "plt.tight_layout()\n",
    "plt.show()\n"
   ]
  },
  {
   "cell_type": "code",
   "execution_count": 55,
   "metadata": {},
   "outputs": [
    {
     "name": "stdout",
     "output_type": "stream",
     "text": [
      "Average clustering coefficient :  0.1732855938931511\n",
      "Global clustering coefficient :  0.17320768221400454\n"
     ]
    },
    {
     "data": {
      "image/png": "[encoded data removed]",
      "text/plain": [
       "<Figure size 432x288 with 1 Axes>"
      ]
     },
     "metadata": {
      "needs_background": "light"
     },
     "output_type": "display_data"
    }
   ],
   "source": [
    "#1.10 Average and global clustering coefficient, Local clustering coefficient distribution for ER Net\n",
    "\n",
    "average_clustering_coefficient_er = nx.average_clustering(er_net)\n",
    "global_clustering_coefficient_er = nx.transitivity(er_net)\n",
    "\n",
    "\n",
    "subreddit_er, clustering_coef_er = zip(*nx.clustering(er_net, weight = \"weight\").items())\n",
    "local_clustering_data_er = [(subreddit, cc)  for subreddit, cc in zip(subreddit_er, clustering_coef_er) if cc > 0]\n",
    "local_clustering_coefficients_er = pd.DataFrame(local_clustering_data_er, columns = [\"subreddit\", \"cc\"])\n",
    "local_clustering_coefficients_er.sort_values('cc', inplace = True, ascending=False)\n",
    "\n",
    "print(\"Average clustering coefficient : \", average_clustering_coefficient_er)\n",
    "print(\"Global clustering coefficient : \", global_clustering_coefficient_er)\n",
    "\n",
    "plt.hist(local_clustering_coefficients_er['cc'], color = '#aaf0d4', edgecolor = 'black',\n",
    "         bins = int(300/5))\n",
    "\n",
    "plt.title('ER Local clustering coefficient distribution')\n",
    "plt.xlabel('ER Clustering Coefficient')\n",
    "plt.ylabel('ER Number of nodes')\n",
    "plt.tight_layout()\n",
    "plt.show()"
   ]
  },
  {
   "cell_type": "code",
   "execution_count": 11,
   "metadata": {},
   "outputs": [
    {
     "name": "stdout",
     "output_type": "stream",
     "text": [
      "Assortativity coeficient for unweighted graph: -0.6173061217570568\n"
     ]
    }
   ],
   "source": [
    "#1.12\n",
    "# unweighted assortativity \n",
    "r1 = nx.degree_assortativity_coefficient(G)\n",
    "print(f\"Assortativity coeficient for unweighted graph: {r1}\")\n",
    "\n",
    "# weighted assortativity \n",
    "#r2 = nx.degree_assortativity_coefficient(G, weight='weight') "
   ]
  },
  {
   "cell_type": "code",
   "execution_count": 66,
   "metadata": {},
   "outputs": [],
   "source": [
    "# 1.14\n",
    "\n",
    "def plot_deg_frequency(G, weighted = False, xscale = \"log\", yscale = \"log\"):\n",
    "\n",
    "    if weighted:\n",
    "        degrees = G.degree(weight=\"weight\")\n",
    "    else:\n",
    "        degrees = G.degree()\n",
    "        \n",
    "    _, deg_list = zip(*degrees)\n",
    "    deg_counts = Counter(deg_list)        \n",
    "    #print(deg_counts)\n",
    "    x, y = zip(*deg_counts.items())                                                      \n",
    "\n",
    "    plt.figure(1)   \n",
    "\n",
    "    # prep axes   \n",
    "    if weighted:\n",
    "        plt.xlabel('weighted degree')  \n",
    "    else:\n",
    "        plt.xlabel('degree')                                                                                                             \n",
    "    plt.xscale(xscale)                                                                                                                \n",
    "    plt.xlim(1, max(x))  \n",
    "\n",
    "    plt.ylabel('frequency')                                                                                                          \n",
    "    plt.yscale(yscale)                                                                                                                \n",
    "    plt.ylim(1, max(y))                                                                                                             \n",
    "                                                                                                                                                                                                    \n",
    "    plt.scatter(x, y, marker='.')                                                                                                    \n",
    "    plt.show()"
   ]
  },
  {
   "cell_type": "code",
   "execution_count": 67,
   "metadata": {},
   "outputs": [
    {
     "data": {
      "image/png": "[encoded data removed]",
      "text/plain": [
       "<Figure size 432x288 with 1 Axes>"
      ]
     },
     "metadata": {
      "needs_background": "light"
     },
     "output_type": "display_data"
    }
   ],
   "source": [
    "plot_deg_frequency(G)"
   ]
  },
  {
   "cell_type": "code",
   "execution_count": 68,
   "metadata": {},
   "outputs": [
    {
     "data": {
      "image/png": "[encoded data removed]",
      "text/plain": [
       "<Figure size 432x288 with 1 Axes>"
      ]
     },
     "metadata": {
      "needs_background": "light"
     },
     "output_type": "display_data"
    }
   ],
   "source": [
    "plot_deg_frequency(G, weighted = True)"
   ]
  },
  {
   "cell_type": "code",
   "execution_count": 69,
   "metadata": {},
   "outputs": [
    {
     "data": {
      "image/png": "[encoded data removed]",
      "text/plain": [
       "<Figure size 432x288 with 1 Axes>"
      ]
     },
     "metadata": {
      "needs_background": "light"
     },
     "output_type": "display_data"
    }
   ],
   "source": [
    "# Power law distribution\n",
    "\n",
    "degree_sequence = sorted([d for n, d in G.degree()], reverse=True)\n",
    "degreeCount = Counter(degree_sequence)\n",
    "deg, cnt = zip(*degreeCount.items())\n",
    "\n",
    "max_deg = max(deg) \n",
    "\n",
    "# calculating histogram\n",
    "values, base = np.histogram(deg, bins = max_deg)\n",
    "\n",
    "# cumulative sum\n",
    "cumulative = np.cumsum(values)\n",
    "\n",
    "# Ploting complementary cumulative degree distribution P(X>x)\n",
    "plt.plot(base[:-1], [float(x)/len(G) for x in len(G) - cumulative], c='blue')\n",
    "\n",
    "plt.show()"
   ]
  },
  {
   "cell_type": "code",
   "execution_count": 71,
   "metadata": {},
   "outputs": [
    {
     "name": "stdout",
     "output_type": "stream",
     "text": [
      "Calculating best minimal value for power law fit\n",
      "{'power_law': <class 'powerlaw.Power_Law'>, 'lognormal': <class 'powerlaw.Lognormal'>, 'exponential': <class 'powerlaw.Exponential'>, 'truncated_power_law': <class 'powerlaw.Truncated_Power_Law'>, 'stretched_exponential': <class 'powerlaw.Stretched_Exponential'>, 'lognormal_positive': <class 'powerlaw.Lognormal_Positive'>}\n",
      "3.816505871248869\n",
      "161.0\n",
      "0.3636093444614093\n",
      "Loglikelihood ratio: -3.9887792528838135\n",
      "Statistical significance: 0.05939685735201332\n",
      "Loglikelihood ratio: -3.767696620064015\n",
      "Statistical significance: 0.0044293972449380575\n"
     ]
    },
    {
     "name": "stderr",
     "output_type": "stream",
     "text": [
      "Assuming nested distributions\n"
     ]
    },
    {
     "name": "stdout",
     "output_type": "stream",
     "text": [
      "Loglikelihood ratio: -3.227829088124258\n",
      "Statistical significance: 0.01105995674100091\n"
     ]
    }
   ],
   "source": [
    "results = powerlaw.Fit(degree_sequence)\n",
    "print(results.supported_distributions)\n",
    "\n",
    "print(results.power_law.alpha)\n",
    "print(results.power_law.xmin)\n",
    "print(results.power_law.sigma)\n",
    "R, p = results.distribution_compare('power_law', 'lognormal')\n",
    "print(f\"Loglikelihood ratio: {R}\")\n",
    "print(f\"Statistical significance: {p}\")\n",
    "R, p = results.distribution_compare('power_law', 'exponential')\n",
    "print(f\"Loglikelihood ratio: {R}\")\n",
    "print(f\"Statistical significance: {p}\")\n",
    "R, p = results.distribution_compare('power_law', 'truncated_power_law')\n",
    "print(f\"Loglikelihood ratio: {R}\")\n",
    "print(f\"Statistical significance: {p}\")\n"
   ]
  },
  {
   "cell_type": "code",
   "execution_count": 79,
   "metadata": {},
   "outputs": [],
   "source": [
    "#1.15 Hubs and authorities\n",
    "hubs, authorities =nx.hits(G)"
   ]
  },
  {
   "cell_type": "code",
   "execution_count": 80,
   "metadata": {},
   "outputs": [
    {
     "name": "stdout",
     "output_type": "stream",
     "text": [
      "SNetF Hubs\n",
      "\n",
      "('reddit.com', 0.064723451946371)\n",
      "('politics', 0.05401219292311146)\n",
      "('pics', 0.05041658121974547)\n",
      "('funny', 0.04829390592333726)\n",
      "('science', 0.04716763136754637)\n",
      "('technology', 0.04559610929246317)\n",
      "('worldnews', 0.044719284522342535)\n",
      "('WTF', 0.044469730022398915)\n",
      "('entertainment', 0.042680138053887776)\n",
      "('programming', 0.03811898512797522)\n",
      "\n",
      "SNetF Authorities\n",
      "\n",
      "('reddit.com', 0.06472345194769699)\n",
      "('politics', 0.05401219292250988)\n",
      "('pics', 0.050416581219589036)\n",
      "('funny', 0.04829390592322185)\n",
      "('science', 0.04716763136747175)\n",
      "('technology', 0.0455961092922672)\n",
      "('worldnews', 0.04471928452228482)\n",
      "('WTF', 0.04446973002235906)\n",
      "('entertainment', 0.04268013805369183)\n",
      "('programming', 0.03811898512787918)\n"
     ]
    }
   ],
   "source": [
    "hub_items = sorted(hubs.items(), key=operator.itemgetter(1), reverse=True)[:10]\n",
    "print(\"SNetF Hubs\\n\")\n",
    "for hub_item in hub_items:\n",
    "    print(hub_item)\n",
    "\n",
    "authority_items = sorted(authorities.items(), key=operator.itemgetter(1), reverse=True)[:10]\n",
    "print(\"\\nSNetF Authorities\\n\")\n",
    "for authority_item in authority_items:\n",
    "    print(authority_item)\n"
   ]
  },
  {
   "cell_type": "code",
   "execution_count": 12,
   "metadata": {},
   "outputs": [
    {
     "name": "stdout",
     "output_type": "stream",
     "text": [
      "Top 10 Degree centrality:\n",
      "\n",
      "reddit.com \t\t 0.9705882352941176 \t 396\n",
      "politics \t\t 0.8848039215686274 \t 361\n",
      "technology \t\t 0.8799019607843137 \t 359\n",
      "pics \t\t 0.8627450980392157 \t 352\n",
      "science \t\t 0.8627450980392157 \t 352\n",
      "funny \t\t 0.8553921568627451 \t 349\n",
      "worldnews \t\t 0.8480392156862745 \t 346\n",
      "WTF \t\t 0.8284313725490196 \t 338\n",
      "entertainment \t\t 0.8284313725490196 \t 338\n",
      "programming \t\t 0.8186274509803921 \t 334\n",
      "\n",
      "Top 10 Closeness centrality:\n",
      "\n",
      "reddit.com     0.9711774132730016\n",
      "politics     0.8898894359505917\n",
      "technology     0.8859864121087031\n",
      "pics     0.8725913691610554\n",
      "science     0.8725913691610554\n",
      "funny     0.8669738281578726\n",
      "worldnews     0.8614281533508925\n",
      "entertainment     0.8469807210095778\n",
      "WTF     0.8452087948149972\n",
      "programming     0.8399372222901635\n",
      "\n",
      "Top 10 Betweenness centrality:\n",
      "\n",
      "reddit.com     0.18420260378904774\n",
      "politics     0.0591065088400112\n",
      "programming     0.057480014864259625\n",
      "technology     0.04994408055993579\n",
      "pics     0.041868262189999686\n",
      "science     0.041394124951156575\n",
      "worldnews     0.03991817421049997\n",
      "funny     0.03943055901700244\n",
      "entertainment     0.034944609945491846\n",
      "WTF     0.0325025014539181\n"
     ]
    }
   ],
   "source": [
    "#1.16 \n",
    "#degree_centrality, closeness_centrality, betweenes_centrality\n",
    "\n",
    "print(\"Top 10 Degree centrality:\\n\")\n",
    "DC = nx.degree_centrality(G)\n",
    "dc_items = sorted(DC.items(), key=operator.itemgetter(1), reverse=True)[:10]\n",
    "for dc_item in dc_items:\n",
    "    print(dc_item[0], \"\\t\\t\",dc_item[1], \"\\t\",G.degree[dc_item[0]])\n",
    "    \n",
    "print(\"\\nTop 10 Closeness centrality:\\n\")\n",
    "CC = nx.closeness_centrality(G)\n",
    "cc_items = sorted(CC.items(), key=operator.itemgetter(1), reverse=True)[:10]\n",
    "for cc_item in cc_items:\n",
    "    node = cc_item[0]\n",
    "    print(cc_item[0], \"   \", cc_item[1])\n",
    "\n",
    "print(\"\\nTop 10 Betweenness centrality:\\n\")\n",
    "BC = nx.betweenness_centrality(G)\n",
    "bc_items = sorted(BC.items(), key=operator.itemgetter(1), reverse=True)[:10]\n",
    "for bc_item in bc_items:\n",
    "    node = bc_item[0];\n",
    "    print(bc_item[0], \"   \", bc_item[1])"
   ]
  },
  {
   "cell_type": "code",
   "execution_count": 13,
   "metadata": {},
   "outputs": [
    {
     "name": "stdout",
     "output_type": "stream",
     "text": [
      "\n",
      "Top 10 Eigenvector centrality:\n",
      "\n",
      "reddit.com     0.10969615355063339\n",
      "politics     0.10923268579898246\n",
      "technology     0.10923026079830948\n",
      "pics     0.10907660755326247\n",
      "science     0.10907269918659585\n",
      "funny     0.10896511728086855\n",
      "worldnews     0.10874874407210977\n",
      "WTF     0.10845387345347784\n",
      "entertainment     0.10840879836202326\n",
      "programming     0.10765092028953896\n"
     ]
    }
   ],
   "source": [
    "#1.17 Eigenvector centrality\n",
    "\n",
    "print(\"\\nTop 10 Eigenvector centrality:\\n\")\n",
    "EC = nx.eigenvector_centrality(G)\n",
    "ec_items = sorted(EC.items(), key=operator.itemgetter(1), reverse=True)[:10]\n",
    "for ec_item in ec_items:\n",
    "    print(ec_item[0], \"   \", ec_item[1])\n"
   ]
  },
  {
   "cell_type": "code",
   "execution_count": 21,
   "metadata": {},
   "outputs": [],
   "source": [
    "#1.18 Katz centrality\n",
    "\n",
    "def calculate_beta(default_beta, reddit_beta):\n",
    "    dict = {}\n",
    "    i = 0\n",
    "    for node in G.nodes():\n",
    "        if node == 'reddit.com':\n",
    "            dict[node] = reddit_beta\n",
    "        else:\n",
    "            dict[node] = default_beta\n",
    "        i+=1\n",
    "        \n",
    "    return dict"
   ]
  },
  {
   "cell_type": "code",
   "execution_count": 5,
   "metadata": {},
   "outputs": [
    {
     "name": "stdout",
     "output_type": "stream",
     "text": [
      "(5.45209928685796e-06+0j)\n"
     ]
    }
   ],
   "source": [
    "lambda_max =  max(nx.adjacency_spectrum(G))\n",
    "print(1/lambda_max)"
   ]
  },
  {
   "cell_type": "code",
   "execution_count": 27,
   "metadata": {},
   "outputs": [
    {
     "name": "stdout",
     "output_type": "stream",
     "text": [
      "reddit.com     (0.04961216512365095+0j)\n",
      "politics     (0.04960743662523867+0j)\n",
      "technology     (0.049607166427633825+0j)\n",
      "pics     (0.049606220724415805+0j)\n",
      "science     (0.049606220724415805+0j)\n",
      "funny     (0.04960581542009035+0j)\n",
      "worldnews     (0.04960541010876744+0j)\n",
      "WTF     (0.04960432929735567+0j)\n",
      "entertainment     (0.04960432929588252+0j)\n",
      "programming     (0.049603788849480863+0j)\n"
     ]
    }
   ],
   "source": [
    "KC = nx.katz_centrality(G, alpha=1/(2*lambda_max), beta=1.0, max_iter=1000, tol=1e-06, nstart=None, normalized=True, weight=None)\n",
    "kc_items = sorted(KC.items(), key=operator.itemgetter(1), reverse=True)[:10]\n",
    "for kc_item in kc_items:\n",
    "    print(kc_item[0], \"   \", kc_item[1])"
   ]
  },
  {
   "cell_type": "code",
   "execution_count": 9,
   "metadata": {},
   "outputs": [
    {
     "name": "stdout",
     "output_type": "stream",
     "text": [
      "reddit.com     (0.13886973464219138+0j)\n",
      "politics     (0.12256084136905142+0j)\n",
      "pics     (0.1178990437505519+0j)\n",
      "funny     (0.11480309869609918+0j)\n",
      "science     (0.11340222655988468+0j)\n",
      "technology     (0.1109690076463316+0j)\n",
      "WTF     (0.10949867814576365+0j)\n",
      "worldnews     (0.10948173320205698+0j)\n",
      "entertainment     (0.10660793524412507+0j)\n",
      "programming     (0.09979251743867079+0j)\n"
     ]
    }
   ],
   "source": [
    "KC = nx.katz_centrality(G, alpha=1/(2*lambda_max), beta=1.0, max_iter=1000, tol=1e-06, nstart=None, normalized=True, weight='weight')\n",
    "kc_items = sorted(KC.items(), key=operator.itemgetter(1), reverse=True)[:10]\n",
    "for kc_item in kc_items:\n",
    "    print(kc_item[0], \"   \", kc_item[1])"
   ]
  },
  {
   "cell_type": "code",
   "execution_count": 24,
   "metadata": {},
   "outputs": [
    {
     "name": "stdout",
     "output_type": "stream",
     "text": [
      "reddit.com     (0.18358613707552593+0j)\n",
      "politics     (0.12667056781083053+0j)\n",
      "pics     (0.12129433167056271+0j)\n",
      "funny     (0.1179759372824658+0j)\n",
      "science     (0.11644852684442145+0j)\n",
      "technology     (0.11402403596001677+0j)\n",
      "worldnews     (0.11233179169946092+0j)\n",
      "WTF     (0.1122505256449196+0j)\n",
      "entertainment     (0.10945035901363757+0j)\n",
      "programming     (0.10216105947800935+0j)\n"
     ]
    }
   ],
   "source": [
    "KC = nx.katz_centrality(G, alpha=1/(2*lambda_max), beta=calculate_beta(1,2), max_iter=1000, tol=1e-06, nstart=None, normalized=True, weight='weight')\n",
    "kc_items = sorted(KC.items(), key=operator.itemgetter(1), reverse=True)[:10]\n",
    "for kc_item in kc_items:\n",
    "    print(kc_item[0], \"   \", kc_item[1])"
   ]
  },
  {
   "cell_type": "code",
   "execution_count": 25,
   "metadata": {},
   "outputs": [
    {
     "name": "stdout",
     "output_type": "stream",
     "text": [
      "reddit.com     (0.26732055986024944+0j)\n",
      "politics     (0.13368394005476134+0j)\n",
      "pics     (0.1269850534428837+0j)\n",
      "funny     (0.12326505506227385+0j)\n",
      "science     (0.1215069570890261+0j)\n",
      "technology     (0.11911410023976948+0j)\n",
      "worldnews     (0.11704332346352078+0j)\n",
      "WTF     (0.11677615001372964+0j)\n",
      "entertainment     (0.11416530673732282+0j)\n",
      "programming     (0.10602184218295947+0j)\n"
     ]
    }
   ],
   "source": [
    "KC = nx.katz_centrality(G, alpha=1/(2*lambda_max), beta=calculate_beta(1,4), max_iter=1000, tol=1e-06, nstart=None, normalized=True, weight='weight')\n",
    "kc_items = sorted(KC.items(), key=operator.itemgetter(1), reverse=True)[:10]\n",
    "for kc_item in kc_items:\n",
    "    print(kc_item[0], \"   \", kc_item[1])"
   ]
  },
  {
   "cell_type": "code",
   "execution_count": null,
   "metadata": {},
   "outputs": [],
   "source": [
    "#1.20 Spectral analisys - separate file"
   ]
  },
  {
   "cell_type": "code",
   "execution_count": 95,
   "metadata": {},
   "outputs": [],
   "source": [
    "def plot_and_save_dendrogram(G):\n",
    "\n",
    "    plt.rcParams[\"figure.figsize\"] = (24,13)\n",
    "    # get Girvan-Newman communities list\n",
    "    communities = list(nx.community.girvan_newman(G))\n",
    "\n",
    "    # building initial dict of node_id to each possible subset:\n",
    "    node_id = 0\n",
    "    init_node2community_dict = {node_id: communities[0][0].union(communities[0][1])}\n",
    "    for comm in communities:\n",
    "        for subset in list(comm):\n",
    "            if subset not in init_node2community_dict.values():\n",
    "                node_id += 1\n",
    "                init_node2community_dict[node_id] = subset\n",
    "\n",
    "    # turning this dictionary to the desired format in @mdml's answer\n",
    "    node_id_to_children = {e: [] for e in init_node2community_dict.keys()}\n",
    "    for node_id1, node_id2 in combinations(init_node2community_dict.keys(), 2):\n",
    "        for node_id_parent, group in init_node2community_dict.items():\n",
    "            if len(init_node2community_dict[node_id1].intersection(init_node2community_dict[node_id2])) == 0 and group == init_node2community_dict[node_id1].union(init_node2community_dict[node_id2]):\n",
    "                node_id_to_children[node_id_parent].append(node_id1)\n",
    "                node_id_to_children[node_id_parent].append(node_id2)\n",
    "\n",
    "    # also recording node_labels dict for the correct label for dendrogram leaves\n",
    "    node_labels = dict()\n",
    "    for node_id, group in init_node2community_dict.items():\n",
    "        if len(group) == 1:\n",
    "            node_labels[node_id] = list(group)[0]\n",
    "        else:\n",
    "            node_labels[node_id] = ''\n",
    "\n",
    "    # also needing a subset to rank dict to later know within all k-length merges which came first\n",
    "    subset_rank_dict = dict()\n",
    "    rank = 0\n",
    "    for e in communities[::-1]:\n",
    "        for p in list(e):\n",
    "            if tuple(p) not in subset_rank_dict:\n",
    "                subset_rank_dict[tuple(sorted(p))] = rank\n",
    "                rank += 1\n",
    "    subset_rank_dict[tuple(sorted(chain.from_iterable(communities[-1])))] = rank\n",
    "\n",
    "    # my function to get a merge height so that it is unique (probably not that efficient)\n",
    "    def get_merge_height(sub):\n",
    "        sub_tuple = tuple(sorted([node_labels[i] for i in sub]))\n",
    "        n = len(sub_tuple)\n",
    "        other_same_len_merges = {k: v for k, v in subset_rank_dict.items() if len(k) == n}\n",
    "        min_rank, max_rank = min(other_same_len_merges.values()), max(other_same_len_merges.values())\n",
    "        range = (max_rank-min_rank) if max_rank > min_rank else 1\n",
    "        return float(len(sub)) + 0.8 * (subset_rank_dict[sub_tuple] - min_rank) / range\n",
    "\n",
    "    # finally using @mdml's magic, slightly modified:\n",
    "    G           = nx.DiGraph(node_id_to_children)\n",
    "    nodes       = G.nodes()\n",
    "    leaves      = set( n for n in nodes if G.out_degree(n) == 0 )\n",
    "    inner_nodes = [ n for n in nodes if G.out_degree(n) > 0 ]\n",
    "\n",
    "    # Compute the size of each subtree\n",
    "    subtree = dict( (n, [n]) for n in leaves )\n",
    "    for u in inner_nodes:\n",
    "        children = set()\n",
    "        node_list = list(node_id_to_children[u])\n",
    "        while len(node_list) > 0:\n",
    "            v = node_list.pop(0)\n",
    "            children.add( v )\n",
    "            node_list += node_id_to_children[v]\n",
    "        subtree[u] = sorted(children & leaves)\n",
    "\n",
    "    inner_nodes.sort(key=lambda n: len(subtree[n])) # <-- order inner nodes ascending by subtree size, root is last\n",
    "\n",
    "    # Construct the linkage matrix\n",
    "    leaves = sorted(leaves)\n",
    "    index  = dict( (tuple([n]), i) for i, n in enumerate(leaves) )\n",
    "    Z = []\n",
    "    k = len(leaves)\n",
    "    for i, n in enumerate(inner_nodes):\n",
    "        children = node_id_to_children[n]\n",
    "        x = children[0]\n",
    "        for y in children[1:]:\n",
    "            z = tuple(sorted(subtree[x] + subtree[y]))\n",
    "            i, j = index[tuple(sorted(subtree[x]))], index[tuple(sorted(subtree[y]))]\n",
    "            Z.append([i, j, get_merge_height(subtree[n]), len(z)]) # <-- float is required by the dendrogram function\n",
    "            index[z] = k\n",
    "            subtree[z] = list(z)\n",
    "            x = z\n",
    "            k += 1\n",
    "\n",
    "    # dendrogram\n",
    "    plt.figure()\n",
    "    dendrogram(Z, labels=[node_labels[node_id] for node_id in leaves])\n",
    "    plt.savefig('dendrogram.png')"
   ]
  },
  {
   "cell_type": "code",
   "execution_count": 98,
   "metadata": {},
   "outputs": [],
   "source": [
    "#plot_and_save_dendrogram(G) - never finished"
   ]
  },
  {
   "cell_type": "code",
   "execution_count": 15,
   "metadata": {},
   "outputs": [
    {
     "name": "stdout",
     "output_type": "stream",
     "text": [
      "Potential brokers:  {'functional', 'cheats', 'Chinese', 'it', 'france', 'spirituality', 'Clojure', 'C_Programming', 'arabic', 'weed', 'fr', 'Wordpress', 'nl', 'italy', 'security', 'politics', 'cimigo', 'tr', 'StarWars', 'inspirational', 'programming', 'promos', '7mooode', 'brasil', '5edwin', 'reddit.com', 'sv', 'GlobalistNews', 'dior_lei', 'InternetMarketing', 'yahoo', 'hacks'}\n"
     ]
    }
   ],
   "source": [
    "#1.23\n",
    "bridges = list(nx.bridges(G))\n",
    "potential_brokers = []\n",
    "for bridge in bridges:\n",
    "    potential_brokers.append(bridge[0])\n",
    "    potential_brokers.append(bridge[1])\n",
    "print('Potential brokers: ',set(potential_brokers))"
   ]
  },
  {
   "cell_type": "code",
   "execution_count": 17,
   "metadata": {},
   "outputs": [
    {
     "name": "stdout",
     "output_type": "stream",
     "text": [
      "Most influential brokers based on betweenes centrality\n",
      "reddit.com     0.18420260378904774\n",
      "politics     0.0591065088400112\n",
      "programming     0.057480014864259625\n",
      "Chinese     0.014597485185720481\n",
      "it     0.004877872524931363\n",
      "fr     0.004877872524931349\n"
     ]
    }
   ],
   "source": [
    "print('Most influential brokers based on betweenes centrality')\n",
    "bc_items = sorted(BC.items(), key=operator.itemgetter(1), reverse=True)[:]\n",
    "for bc_item in bc_items:\n",
    "    if bc_item[0] in set(potential_brokers) and bc_item[1]>0:\n",
    "        print(bc_item[0], \"   \", bc_item[1])"
   ]
  },
  {
   "cell_type": "code",
   "execution_count": null,
   "metadata": {},
   "outputs": [],
   "source": []
  }
 ],
 "metadata": {
  "kernelspec": {
   "display_name": "Python 3 (ipykernel)",
   "language": "python",
   "name": "python3"
  },
  "language_info": {
   "codemirror_mode": {
    "name": "ipython",
    "version": 3
   },
   "file_extension": ".py",
   "mimetype": "text/x-python",
   "name": "python",
   "nbconvert_exporter": "python",
   "pygments_lexer": "ipython3",
   "version": "3.8.12"
  }
 },
 "nbformat": 4,
 "nbformat_minor": 4
}
